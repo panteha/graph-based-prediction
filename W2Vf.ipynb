{
 "cells": [
  {
   "cell_type": "code",
   "execution_count": null,
   "metadata": {},
   "outputs": [],
   "source": [
    "# . env/bin/activate\n",
    "import json\n",
    "import os\n",
    "import numpy as np\n",
    "import sklearn\n",
    "import sklearn.metrics\n",
    "import seaborn as sns\n",
    "import matplotlib.pyplot as plt\n",
    "import pandas as pd\n",
    "# import networkx as nx\n",
    "import datetime\n",
    "import playlist\n",
    "reload(playlist)\n"
   ]
  },
  {
   "cell_type": "code",
   "execution_count": null,
   "metadata": {},
   "outputs": [],
   "source": [
    "\n",
    "playlist_list = playlist.get_playlist_list()\n"
   ]
  },
  {
   "cell_type": "code",
   "execution_count": null,
   "metadata": {},
   "outputs": [],
   "source": [
    "\n",
    "len(playlist_list)"
   ]
  },
  {
   "cell_type": "code",
   "execution_count": null,
   "metadata": {},
   "outputs": [],
   "source": [
    "def get_context_list(tracks_in_playlist, j, context_size=2):\n",
    "    context_track_list = tracks_in_playlist[max(0, j-context_size):j]\n",
    "    context_track_list += tracks_in_playlist[j+1:j+context_size+1]\n",
    "    return context_track_list\n",
    "\n",
    "\n",
    "context_mapping = {}\n",
    "for i in range(len(playlist_list)):\n",
    "    tracks_in_playlist = get_tracks(playlist_list[i])\n",
    "    tracks_in_playlist = list(tracks_in_playlist)\n",
    "    for j in range(len(tracks_in_playlist)):\n",
    "        for context in get_context_list(tracks_in_playlist, j):\n",
    "            if context in context_mapping.keys():\n",
    "                context_mapping[context] += 1\n",
    "            else:\n",
    "                context_mapping[context] = 1\n",
    "with open(\"context-mapping.txt\", \"w\") as text_file:\n",
    "    for context, count in context_mapping.items():\n",
    "        text_file.write(\"%s %d\" % (context, count))\n",
    "        text_file.write(\"\\n\")"
   ]
  },
  {
   "cell_type": "code",
   "execution_count": null,
   "metadata": {},
   "outputs": [],
   "source": [
    "track_mapping = {}\n",
    "for i in range(len(playlist_list)):\n",
    "    for item in get_tracks(playlist_list[i]):\n",
    "        if item in track_mapping.keys():\n",
    "            track_mapping[item] += 1\n",
    "        else:\n",
    "            track_mapping[item] = 1\n",
    "with open(\"track-mapping.txt\", \"w\") as text_file:\n",
    "    for track_uri, count in track_mapping.items():\n",
    "        text_file.write(\"%s %d\" % (track_uri, count))\n",
    "        text_file.write(\"\\n\")"
   ]
  },
  {
   "cell_type": "code",
   "execution_count": null,
   "metadata": {},
   "outputs": [],
   "source": [
    "\n",
    "with open(\"training-data.txt\", \"w\") as text_file:\n",
    "    for i in range(len(playlist_list)):\n",
    "        tracks_in_playlist = get_tracks(playlist_list[i])\n",
    "        tracks_in_playlist = list(tracks_in_playlist)\n",
    "        for j in range(len(tracks_in_playlist)):\n",
    "            for k in range(len(get_context_list(tracks_in_playlist, j))):\n",
    "                item = tracks_in_playlist[j] + ' ' + get_context_list(tracks_in_playlist, j)[k]\n",
    "                text_file.write(\"%s \" % item)\n",
    "                text_file.write(\"\\n\")"
   ]
  },
  {
   "cell_type": "code",
   "execution_count": null,
   "metadata": {},
   "outputs": [],
   "source": [
    "!cd yoavgo-word2vecf-0d8e19d2f2c6; make\n",
    "!cd yoavgo-word2vecf-0d8e19d2f2c6; ./word2vecf -train ../training-data.txt -wvocab ../track-mapping.txt -cvocab ../context-mapping.txt -output ../word2vecf-features.txt -size 200 -negative 15 -threads 4"
   ]
  },
  {
   "cell_type": "code",
   "execution_count": null,
   "metadata": {},
   "outputs": [],
   "source": [
    "track_df = pd.read_csv(\"word2vecf-features.txt\", skiprows=1, header=None, sep=' ')\n",
    "track_df = track_df.set_index(0)\n",
    "track_df = track_df.drop(columns=[track_df.shape[1]])\n",
    "track_df.columns"
   ]
  },
  {
   "cell_type": "code",
   "execution_count": null,
   "metadata": {},
   "outputs": [],
   "source": [
    "track_df.shape"
   ]
  },
  {
   "cell_type": "code",
   "execution_count": null,
   "metadata": {},
   "outputs": [],
   "source": [
    "track_df.head()"
   ]
  },
  {
   "cell_type": "code",
   "execution_count": null,
   "metadata": {},
   "outputs": [],
   "source": [
    "# playlist_list[0]\n",
    "mean_embedding = track_df.mean()\n",
    "mean_embedding.shape"
   ]
  },
  {
   "cell_type": "code",
   "execution_count": null,
   "metadata": {},
   "outputs": [],
   "source": [
    "track_array = track_df.values\n",
    "track_row_names = dict(zip(track_df.index, range(track_array.shape[0])))\n",
    "\n",
    "count_missing_embeddings = 0\n",
    "\n",
    "def get_playlist_df(playlist_json):\n",
    "    global count_missing_embeddings\n",
    "    track_uri_list = playlist.get_tracks(playlist_json)\n",
    "    playlist_dict = {}\n",
    "    for track_uri in track_uri_list:\n",
    "        if track_uri not in track_row_names:\n",
    "            count_missing_embeddings += 1\n",
    "            track_vec = mean_embedding\n",
    "        else:\n",
    "            track_vec = track_array[track_row_names[track_uri], :]\n",
    "        playlist_dict[track_uri] = track_vec\n",
    "    return pd.DataFrame(playlist_dict).T"
   ]
  },
  {
   "cell_type": "code",
   "execution_count": null,
   "metadata": {},
   "outputs": [],
   "source": [
    "from tqdm import tqdm_notebook as tqdm"
   ]
  },
  {
   "cell_type": "code",
   "execution_count": null,
   "metadata": {},
   "outputs": [],
   "source": [
    "from collections import defaultdict\n",
    "def make_track_playlists(playlist_list):\n",
    "    track_playlists = defaultdict(set)\n",
    "    for playlist_index, playlist_json in enumerate(playlist_list):\n",
    "        for track_uri in playlist.get_tracks(playlist_json):\n",
    "            track_playlists[track_uri].add(playlist_index)\n",
    "    return track_playlists\n",
    "\n",
    "track_playlists = make_track_playlists(playlist_list)\n",
    "count_missing_embeddings = 0\n",
    "playlist_df_list = [get_playlist_df(playlist_json) for index, playlist_json in enumerate(tqdm(playlist_list))]\n",
    "print('num missing embedding:', count_missing_embeddings)"
   ]
  },
  {
   "cell_type": "code",
   "execution_count": null,
   "metadata": {},
   "outputs": [],
   "source": [
    "training_playlist = playlist_df_list"
   ]
  },
  {
   "cell_type": "code",
   "execution_count": null,
   "metadata": {},
   "outputs": [],
   "source": [
    "len(training_playlist[0])"
   ]
  },
  {
   "cell_type": "code",
   "execution_count": null,
   "metadata": {},
   "outputs": [],
   "source": [
    "# fit in pandas needs a 2 dim-matrix, with rows being sample and columns being features\n",
    "# training_playlist is a list of 2-dim-matrix, so if the rows can be on top of eachother\n",
    "# the 2-dim matrix is build. solution: concat\n",
    "# track_df = pd.concat(training_playlist).drop_duplicates()\n",
    "# track_array = track_df.to_matrix()"
   ]
  },
  {
   "cell_type": "code",
   "execution_count": null,
   "metadata": {},
   "outputs": [],
   "source": [
    "def make_mediod_features(mediod, investigated_playlist):\n",
    "    mediod_features = investigated_playlist.iloc[mediod]\n",
    "    return mediod_features.values\n",
    "\n",
    "def make_query_mediod(investigated_playlist, index_to_remove):\n",
    "    query = investigated_playlist.drop(investigated_playlist.index[index_to_remove])\n",
    "    query_distance_matrix = sklearn.metrics.pairwise.cosine_distances(query)\n",
    "    mediod = np.argmin(query_distance_matrix.sum(axis = 0))\n",
    "    mediod_features = make_mediod_features(mediod, investigated_playlist)\n",
    "    return mediod_features\n"
   ]
  },
  {
   "cell_type": "code",
   "execution_count": null,
   "metadata": {},
   "outputs": [],
   "source": [
    "from sklearn.neighbors import NearestNeighbors\n",
    "from tqdm import tnrange\n",
    "import random\n",
    "\n",
    "def cal_knn(k, track_array, track_df, tracks_dict):\n",
    "\n",
    "    nbrs = NearestNeighbors(n_neighbors=k, metric='cosine', n_jobs=1).fit(track_array)\n",
    "    all_true_ids = []\n",
    "    all_distances = []\n",
    "    all_suggested_ids = []\n",
    "\n",
    "    for i in tnrange(len(playlist_list)):\n",
    "        tracks = playlist_df_list[i].index\n",
    "        if len(tracks) < 5:\n",
    "            continue\n",
    "        dropped_track_index = random.choice(range(len(tracks)))\n",
    "        true_track_uri = tracks[dropped_track_index]\n",
    "        true_id = tracks_dict[true_track_uri]\n",
    "        all_true_ids.append(true_id)\n",
    "\n",
    "        query = make_query_mediod(playlist_df_list[i], dropped_track_index)\n",
    "        distances, suggested_index_array = nbrs.kneighbors(query.reshape(1,-1))\n",
    "        suggested_ids = [tracks_dict[track_df.index[index]]\n",
    "                         for index in suggested_index_array.flatten()]\n",
    "        all_distances.append(distances)\n",
    "        all_suggested_ids.append(suggested_ids)\n",
    "    return all_true_ids, all_distances, all_suggested_ids"
   ]
  },
  {
   "cell_type": "code",
   "execution_count": null,
   "metadata": {},
   "outputs": [],
   "source": [
    "tracks_dict, tracks_id_dict = playlist.make_tracks_dict(playlist_list)\n",
    "my_track_df = track_df.loc[tracks_dict.keys()]\n",
    "my_track_array = my_track_df.values"
   ]
  },
  {
   "cell_type": "code",
   "execution_count": null,
   "metadata": {
    "scrolled": false
   },
   "outputs": [],
   "source": [
    "all_true_ids, all_distances, all_suggested_ids = cal_knn(500, my_track_array, my_track_df, tracks_dict)"
   ]
  },
  {
   "cell_type": "code",
   "execution_count": null,
   "metadata": {},
   "outputs": [],
   "source": [
    "results = playlist.cal_results(playlist_list, all_true_ids, all_suggested_ids)\n",
    "filename = 'results%d_W2Vf.txt' % (len(playlist_list),)\n",
    "with open(filename, 'w') as output:\n",
    "    output.write(str(results))"
   ]
  }
 ],
 "metadata": {
  "kernelspec": {
   "display_name": "Python 2",
   "language": "python",
   "name": "python2"
  },
  "language_info": {
   "codemirror_mode": {
    "name": "ipython",
    "version": 2
   },
   "file_extension": ".py",
   "mimetype": "text/x-python",
   "name": "python",
   "nbconvert_exporter": "python",
   "pygments_lexer": "ipython2",
   "version": "2.7.13"
  }
 },
 "nbformat": 4,
 "nbformat_minor": 2
}
