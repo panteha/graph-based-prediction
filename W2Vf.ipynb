{
 "cells": [
  {
   "cell_type": "code",
   "execution_count": 11,
   "metadata": {},
   "outputs": [],
   "source": [
    "# . env/bin/activate\n",
    "import json\n",
    "import os\n",
    "import numpy as np\n",
    "import sklearn\n",
    "import sklearn.metrics\n",
    "import seaborn as sns\n",
    "import matplotlib.pyplot as plt\n",
    "import pandas as pd\n",
    "# import networkx as nx\n",
    "import datetime\n",
    "# filename = \"../../mpd/data/mpd.slice.0-999.json\"\n",
    "# filename = \"../../mpd.slice.0-999.json\"\n",
    "# data_dir = \"../../mpd/data/\"\n",
    "data_dir = \"/Users/pani/mpd/data/\""
   ]
  },
  {
   "cell_type": "code",
   "execution_count": 12,
   "metadata": {},
   "outputs": [],
   "source": [
    "data_files = list(sorted(os.listdir(data_dir)))\n",
    "# data_files[0]"
   ]
  },
  {
   "cell_type": "code",
   "execution_count": 14,
   "metadata": {},
   "outputs": [
    {
     "data": {
      "text/plain": [
       "200"
      ]
     },
     "execution_count": 14,
     "metadata": {},
     "output_type": "execute_result"
    }
   ],
   "source": [
    "data_files = data_files[:200]\n",
    "# len(data_files)"
   ]
  },
  {
   "cell_type": "code",
   "execution_count": 15,
   "metadata": {},
   "outputs": [],
   "source": [
    "all_playlists = []\n",
    "for file_number, data_file in enumerate(data_files):\n",
    "#     print(file_number, data_file)\n",
    "    with open(data_dir + data_file) as file:\n",
    "        data = json.load(file)\n",
    "        playlists = data['playlists']\n",
    "        all_playlists += playlists"
   ]
  },
  {
   "cell_type": "code",
   "execution_count": 17,
   "metadata": {},
   "outputs": [
    {
     "data": {
      "text/plain": [
       "200000"
      ]
     },
     "execution_count": 17,
     "metadata": {},
     "output_type": "execute_result"
    }
   ],
   "source": [
    "playlist_list = all_playlists\n",
    "len(playlist_list)"
   ]
  },
  {
   "cell_type": "code",
   "execution_count": 18,
   "metadata": {},
   "outputs": [
    {
     "data": {
      "text/plain": [
       "1764120"
      ]
     },
     "execution_count": 18,
     "metadata": {},
     "output_type": "execute_result"
    }
   ],
   "source": [
    "import sys\n",
    "sys.getsizeof(all_playlists)"
   ]
  },
  {
   "cell_type": "code",
   "execution_count": 19,
   "metadata": {},
   "outputs": [],
   "source": [
    "def get_tracks(playlist):\n",
    "    track_list = set([])\n",
    "    for i in range(playlist['num_tracks']):\n",
    "        track_list.add(playlist['tracks'][i]['track_uri'])\n",
    "    return track_list"
   ]
  },
  {
   "cell_type": "code",
   "execution_count": 20,
   "metadata": {},
   "outputs": [],
   "source": [
    "# get_tracks(playlist_list[0])"
   ]
  },
  {
   "cell_type": "code",
   "execution_count": 21,
   "metadata": {},
   "outputs": [],
   "source": [
    "# len(playlist_list)"
   ]
  },
  {
   "cell_type": "code",
   "execution_count": null,
   "metadata": {},
   "outputs": [],
   "source": [
    "a b c d e f g\n",
    "\n",
    "context size 2\n",
    "training-data:\n",
    "a b c\n",
    "b c d a\n",
    "c a b d e\n",
    "d b c e f\n",
    "e c d f g\n",
    "f d e g\n",
    "g e f"
   ]
  },
  {
   "cell_type": "code",
   "execution_count": 23,
   "metadata": {},
   "outputs": [
    {
     "ename": "KeyboardInterrupt",
     "evalue": "",
     "output_type": "error",
     "traceback": [
      "\u001b[0;31m---------------------------------------------------------------------------\u001b[0m",
      "\u001b[0;31mKeyboardInterrupt\u001b[0m                         Traceback (most recent call last)",
      "\u001b[0;32m<ipython-input-23-3ee331f5c32c>\u001b[0m in \u001b[0;36m<module>\u001b[0;34m()\u001b[0m\n\u001b[1;32m     12\u001b[0m         \u001b[0;32mfor\u001b[0m \u001b[0mcontext\u001b[0m \u001b[0;32min\u001b[0m \u001b[0mget_context_list\u001b[0m\u001b[0;34m(\u001b[0m\u001b[0mtracks_in_playlist\u001b[0m\u001b[0;34m,\u001b[0m \u001b[0mj\u001b[0m\u001b[0;34m)\u001b[0m\u001b[0;34m:\u001b[0m\u001b[0;34m\u001b[0m\u001b[0m\n\u001b[1;32m     13\u001b[0m             \u001b[0;32mif\u001b[0m \u001b[0mcontext\u001b[0m \u001b[0;32min\u001b[0m \u001b[0mcontext_mapping\u001b[0m\u001b[0;34m.\u001b[0m\u001b[0mkeys\u001b[0m\u001b[0;34m(\u001b[0m\u001b[0;34m)\u001b[0m\u001b[0;34m:\u001b[0m\u001b[0;34m\u001b[0m\u001b[0m\n\u001b[0;32m---> 14\u001b[0;31m                 \u001b[0mcontext_mapping\u001b[0m\u001b[0;34m[\u001b[0m\u001b[0mcontext\u001b[0m\u001b[0;34m]\u001b[0m \u001b[0;34m+=\u001b[0m \u001b[0;36m1\u001b[0m\u001b[0;34m\u001b[0m\u001b[0m\n\u001b[0m\u001b[1;32m     15\u001b[0m             \u001b[0;32melse\u001b[0m\u001b[0;34m:\u001b[0m\u001b[0;34m\u001b[0m\u001b[0m\n\u001b[1;32m     16\u001b[0m                 \u001b[0mcontext_mapping\u001b[0m\u001b[0;34m[\u001b[0m\u001b[0mcontext\u001b[0m\u001b[0;34m]\u001b[0m \u001b[0;34m=\u001b[0m \u001b[0;36m1\u001b[0m\u001b[0;34m\u001b[0m\u001b[0m\n",
      "\u001b[0;31mKeyboardInterrupt\u001b[0m: "
     ]
    }
   ],
   "source": [
    "def get_context_list(tracks_in_playlist, j, context_size=2):\n",
    "    context_track_list = tracks_in_playlist[max(0, j-context_size):j]\n",
    "    context_track_list += tracks_in_playlist[j+1:j+context_size+1]\n",
    "    return context_track_list\n",
    "\n",
    "\n",
    "context_mapping = {}\n",
    "for i in range(len(playlist_list)):\n",
    "    tracks_in_playlist = get_tracks(playlist_list[i])\n",
    "    tracks_in_playlist = list(tracks_in_playlist)\n",
    "    for j in range(len(tracks_in_playlist)):\n",
    "        for context in get_context_list(tracks_in_playlist, j):\n",
    "            if context in context_mapping.keys():\n",
    "                context_mapping[context] += 1\n",
    "            else:\n",
    "                context_mapping[context] = 1\n",
    "with open(\"context-mapping.txt\", \"w\") as text_file:\n",
    "    for context, count in context_mapping.items():\n",
    "        text_file.write(\"%s %d\" % (context, count))\n",
    "        text_file.write(\"\\n\")"
   ]
  },
  {
   "cell_type": "code",
   "execution_count": null,
   "metadata": {},
   "outputs": [],
   "source": [
    "track_mapping = {}\n",
    "for i in range(len(playlist_list)):\n",
    "    for item in get_tracks(playlist_list[i]):\n",
    "        if item in track_mapping.keys():\n",
    "            track_mapping[item] += 1\n",
    "        else:\n",
    "            track_mapping[item] = 1\n",
    "with open(\"track-mapping.txt\", \"w\") as text_file:\n",
    "    for track_uri, count in track_mapping.items():\n",
    "        text_file.write(\"%s %d\" % (track_uri, count))\n",
    "        text_file.write(\"\\n\")"
   ]
  },
  {
   "cell_type": "code",
   "execution_count": null,
   "metadata": {},
   "outputs": [],
   "source": [
    "\n",
    "with open(\"training-data.txt\", \"w\") as text_file:\n",
    "    for i in range(len(playlist_list)):\n",
    "        tracks_in_playlist = get_tracks(playlist_list[i])\n",
    "        tracks_in_playlist = list(tracks_in_playlist)\n",
    "        for j in range(len(tracks_in_playlist)):\n",
    "            for k in range(len(get_context_list(tracks_in_playlist, j))):\n",
    "                item = tracks_in_playlist[j] + ' ' + get_context_list(tracks_in_playlist, j)[k]\n",
    "                text_file.write(\"%s \" % item)\n",
    "                text_file.write(\"\\n\")"
   ]
  },
  {
   "cell_type": "code",
   "execution_count": 70,
   "metadata": {},
   "outputs": [
    {
     "data": {
      "text/plain": [
       "[3, 4, 6]"
      ]
     },
     "execution_count": 70,
     "metadata": {},
     "output_type": "execute_result"
    }
   ],
   "source": [
    "# x = [1,2,3,4,5,6]\n",
    "# context_size = 2\n",
    "# i = 4\n",
    "# context = x[max(0, i-context_size):i] + x[i+1:i+context_size+1]\n",
    "# context"
   ]
  },
  {
   "cell_type": "code",
   "execution_count": 269,
   "metadata": {},
   "outputs": [
    {
     "name": "stdout",
     "output_type": "stream",
     "text": [
      "make: Nothing to be done for `all'.\n",
      "Starting training using file ../training-data.txt\n",
      "Vocab size: 457016\n",
      "Word count: 3303932\n",
      "Vocab size: 457016\n",
      "Word count: 12915728\n",
      "thread 3 726509775\n",
      "thread 1 242169975\n",
      "thread 2 484339875\n",
      "thread 0 75\n",
      "Alpha: 0.000002  Progress: 389.88%  Words/thread/sec: 64.95k  "
     ]
    }
   ],
   "source": [
    "!cd yoavgo-word2vecf-0d8e19d2f2c6; make\n",
    "!cd yoavgo-word2vecf-0d8e19d2f2c6; ./word2vecf -train ../training-data.txt -wvocab ../track-mapping.txt -cvocab ../context-mapping.txt -output ../word2vecf-features.txt -size 200 -negative 15 -threads 4"
   ]
  },
  {
   "cell_type": "code",
   "execution_count": 25,
   "metadata": {},
   "outputs": [
    {
     "data": {
      "text/plain": [
       "Int64Index([  1,   2,   3,   4,   5,   6,   7,   8,   9,  10,\n",
       "            ...\n",
       "            191, 192, 193, 194, 195, 196, 197, 198, 199, 200],\n",
       "           dtype='int64', length=200)"
      ]
     },
     "execution_count": 25,
     "metadata": {},
     "output_type": "execute_result"
    }
   ],
   "source": [
    "track_df = pd.read_csv(\"word2vecf-features.txt\", skiprows=1, header=None, sep=' ')\n",
    "track_df = track_df.set_index(0)\n",
    "track_df = track_df.drop(columns=[track_df.shape[1]])\n",
    "track_df.columns"
   ]
  },
  {
   "cell_type": "code",
   "execution_count": 26,
   "metadata": {},
   "outputs": [
    {
     "data": {
      "text/plain": [
       "(457016, 200)"
      ]
     },
     "execution_count": 26,
     "metadata": {},
     "output_type": "execute_result"
    }
   ],
   "source": [
    "track_df.shape"
   ]
  },
  {
   "cell_type": "code",
   "execution_count": 28,
   "metadata": {},
   "outputs": [
    {
     "data": {
      "text/html": [
       "<div>\n",
       "<style scoped>\n",
       "    .dataframe tbody tr th:only-of-type {\n",
       "        vertical-align: middle;\n",
       "    }\n",
       "\n",
       "    .dataframe tbody tr th {\n",
       "        vertical-align: top;\n",
       "    }\n",
       "\n",
       "    .dataframe thead th {\n",
       "        text-align: right;\n",
       "    }\n",
       "</style>\n",
       "<table border=\"1\" class=\"dataframe\">\n",
       "  <thead>\n",
       "    <tr style=\"text-align: right;\">\n",
       "      <th></th>\n",
       "      <th>1</th>\n",
       "      <th>2</th>\n",
       "      <th>3</th>\n",
       "      <th>4</th>\n",
       "      <th>5</th>\n",
       "      <th>6</th>\n",
       "      <th>7</th>\n",
       "      <th>8</th>\n",
       "      <th>9</th>\n",
       "      <th>10</th>\n",
       "      <th>...</th>\n",
       "      <th>191</th>\n",
       "      <th>192</th>\n",
       "      <th>193</th>\n",
       "      <th>194</th>\n",
       "      <th>195</th>\n",
       "      <th>196</th>\n",
       "      <th>197</th>\n",
       "      <th>198</th>\n",
       "      <th>199</th>\n",
       "      <th>200</th>\n",
       "    </tr>\n",
       "    <tr>\n",
       "      <th>0</th>\n",
       "      <th></th>\n",
       "      <th></th>\n",
       "      <th></th>\n",
       "      <th></th>\n",
       "      <th></th>\n",
       "      <th></th>\n",
       "      <th></th>\n",
       "      <th></th>\n",
       "      <th></th>\n",
       "      <th></th>\n",
       "      <th></th>\n",
       "      <th></th>\n",
       "      <th></th>\n",
       "      <th></th>\n",
       "      <th></th>\n",
       "      <th></th>\n",
       "      <th></th>\n",
       "      <th></th>\n",
       "      <th></th>\n",
       "      <th></th>\n",
       "      <th></th>\n",
       "    </tr>\n",
       "  </thead>\n",
       "  <tbody>\n",
       "    <tr>\n",
       "      <th>spotify:track:0uqPG793dkDDN7sCUJJIVC</th>\n",
       "      <td>-0.026026</td>\n",
       "      <td>-0.083628</td>\n",
       "      <td>0.134833</td>\n",
       "      <td>0.012421</td>\n",
       "      <td>-0.159434</td>\n",
       "      <td>0.083758</td>\n",
       "      <td>0.001227</td>\n",
       "      <td>0.001863</td>\n",
       "      <td>-0.146504</td>\n",
       "      <td>-0.051575</td>\n",
       "      <td>...</td>\n",
       "      <td>-0.039538</td>\n",
       "      <td>0.141645</td>\n",
       "      <td>-0.068446</td>\n",
       "      <td>-0.015492</td>\n",
       "      <td>0.070452</td>\n",
       "      <td>0.078635</td>\n",
       "      <td>0.020971</td>\n",
       "      <td>-0.100852</td>\n",
       "      <td>0.051009</td>\n",
       "      <td>0.062138</td>\n",
       "    </tr>\n",
       "    <tr>\n",
       "      <th>spotify:track:7KXjTSCq5nL1LoYtL7XAwS</th>\n",
       "      <td>-0.060636</td>\n",
       "      <td>-0.199347</td>\n",
       "      <td>0.314352</td>\n",
       "      <td>0.025642</td>\n",
       "      <td>-0.353024</td>\n",
       "      <td>0.195261</td>\n",
       "      <td>-0.004815</td>\n",
       "      <td>0.002842</td>\n",
       "      <td>-0.332577</td>\n",
       "      <td>-0.112377</td>\n",
       "      <td>...</td>\n",
       "      <td>-0.096747</td>\n",
       "      <td>0.329734</td>\n",
       "      <td>-0.157763</td>\n",
       "      <td>-0.042936</td>\n",
       "      <td>0.174929</td>\n",
       "      <td>0.186213</td>\n",
       "      <td>0.051125</td>\n",
       "      <td>-0.233378</td>\n",
       "      <td>0.112793</td>\n",
       "      <td>0.141836</td>\n",
       "    </tr>\n",
       "    <tr>\n",
       "      <th>spotify:track:1xznGGDReH1oQq0xzbwXa3</th>\n",
       "      <td>-0.054589</td>\n",
       "      <td>-0.198523</td>\n",
       "      <td>0.304365</td>\n",
       "      <td>0.030382</td>\n",
       "      <td>-0.352851</td>\n",
       "      <td>0.190760</td>\n",
       "      <td>-0.004005</td>\n",
       "      <td>-0.000292</td>\n",
       "      <td>-0.327377</td>\n",
       "      <td>-0.113400</td>\n",
       "      <td>...</td>\n",
       "      <td>-0.096744</td>\n",
       "      <td>0.326155</td>\n",
       "      <td>-0.152823</td>\n",
       "      <td>-0.043379</td>\n",
       "      <td>0.171734</td>\n",
       "      <td>0.178939</td>\n",
       "      <td>0.046186</td>\n",
       "      <td>-0.229613</td>\n",
       "      <td>0.109953</td>\n",
       "      <td>0.145087</td>\n",
       "    </tr>\n",
       "    <tr>\n",
       "      <th>spotify:track:7yyRTcZmCiyzzJlNzGC9Ol</th>\n",
       "      <td>-0.052947</td>\n",
       "      <td>-0.183444</td>\n",
       "      <td>0.292234</td>\n",
       "      <td>0.033237</td>\n",
       "      <td>-0.349599</td>\n",
       "      <td>0.189332</td>\n",
       "      <td>-0.005676</td>\n",
       "      <td>0.005607</td>\n",
       "      <td>-0.321430</td>\n",
       "      <td>-0.123372</td>\n",
       "      <td>...</td>\n",
       "      <td>-0.097007</td>\n",
       "      <td>0.315117</td>\n",
       "      <td>-0.155333</td>\n",
       "      <td>-0.035356</td>\n",
       "      <td>0.174856</td>\n",
       "      <td>0.180012</td>\n",
       "      <td>0.045895</td>\n",
       "      <td>-0.226134</td>\n",
       "      <td>0.112212</td>\n",
       "      <td>0.136915</td>\n",
       "    </tr>\n",
       "    <tr>\n",
       "      <th>spotify:track:7BKLCZ1jbUBVqRi2FVlTVw</th>\n",
       "      <td>-0.055421</td>\n",
       "      <td>-0.196512</td>\n",
       "      <td>0.303226</td>\n",
       "      <td>0.034056</td>\n",
       "      <td>-0.365354</td>\n",
       "      <td>0.192383</td>\n",
       "      <td>0.004406</td>\n",
       "      <td>0.005574</td>\n",
       "      <td>-0.333833</td>\n",
       "      <td>-0.114642</td>\n",
       "      <td>...</td>\n",
       "      <td>-0.089055</td>\n",
       "      <td>0.321614</td>\n",
       "      <td>-0.157704</td>\n",
       "      <td>-0.041348</td>\n",
       "      <td>0.168048</td>\n",
       "      <td>0.183240</td>\n",
       "      <td>0.048365</td>\n",
       "      <td>-0.223629</td>\n",
       "      <td>0.109537</td>\n",
       "      <td>0.140058</td>\n",
       "    </tr>\n",
       "  </tbody>\n",
       "</table>\n",
       "<p>5 rows × 200 columns</p>\n",
       "</div>"
      ],
      "text/plain": [
       "                                           1         2         3         4    \\\n",
       "0                                                                              \n",
       "spotify:track:0uqPG793dkDDN7sCUJJIVC -0.026026 -0.083628  0.134833  0.012421   \n",
       "spotify:track:7KXjTSCq5nL1LoYtL7XAwS -0.060636 -0.199347  0.314352  0.025642   \n",
       "spotify:track:1xznGGDReH1oQq0xzbwXa3 -0.054589 -0.198523  0.304365  0.030382   \n",
       "spotify:track:7yyRTcZmCiyzzJlNzGC9Ol -0.052947 -0.183444  0.292234  0.033237   \n",
       "spotify:track:7BKLCZ1jbUBVqRi2FVlTVw -0.055421 -0.196512  0.303226  0.034056   \n",
       "\n",
       "                                           5         6         7         8    \\\n",
       "0                                                                              \n",
       "spotify:track:0uqPG793dkDDN7sCUJJIVC -0.159434  0.083758  0.001227  0.001863   \n",
       "spotify:track:7KXjTSCq5nL1LoYtL7XAwS -0.353024  0.195261 -0.004815  0.002842   \n",
       "spotify:track:1xznGGDReH1oQq0xzbwXa3 -0.352851  0.190760 -0.004005 -0.000292   \n",
       "spotify:track:7yyRTcZmCiyzzJlNzGC9Ol -0.349599  0.189332 -0.005676  0.005607   \n",
       "spotify:track:7BKLCZ1jbUBVqRi2FVlTVw -0.365354  0.192383  0.004406  0.005574   \n",
       "\n",
       "                                           9         10     ...          191  \\\n",
       "0                                                           ...                \n",
       "spotify:track:0uqPG793dkDDN7sCUJJIVC -0.146504 -0.051575    ...    -0.039538   \n",
       "spotify:track:7KXjTSCq5nL1LoYtL7XAwS -0.332577 -0.112377    ...    -0.096747   \n",
       "spotify:track:1xznGGDReH1oQq0xzbwXa3 -0.327377 -0.113400    ...    -0.096744   \n",
       "spotify:track:7yyRTcZmCiyzzJlNzGC9Ol -0.321430 -0.123372    ...    -0.097007   \n",
       "spotify:track:7BKLCZ1jbUBVqRi2FVlTVw -0.333833 -0.114642    ...    -0.089055   \n",
       "\n",
       "                                           192       193       194       195  \\\n",
       "0                                                                              \n",
       "spotify:track:0uqPG793dkDDN7sCUJJIVC  0.141645 -0.068446 -0.015492  0.070452   \n",
       "spotify:track:7KXjTSCq5nL1LoYtL7XAwS  0.329734 -0.157763 -0.042936  0.174929   \n",
       "spotify:track:1xznGGDReH1oQq0xzbwXa3  0.326155 -0.152823 -0.043379  0.171734   \n",
       "spotify:track:7yyRTcZmCiyzzJlNzGC9Ol  0.315117 -0.155333 -0.035356  0.174856   \n",
       "spotify:track:7BKLCZ1jbUBVqRi2FVlTVw  0.321614 -0.157704 -0.041348  0.168048   \n",
       "\n",
       "                                           196       197       198       199  \\\n",
       "0                                                                              \n",
       "spotify:track:0uqPG793dkDDN7sCUJJIVC  0.078635  0.020971 -0.100852  0.051009   \n",
       "spotify:track:7KXjTSCq5nL1LoYtL7XAwS  0.186213  0.051125 -0.233378  0.112793   \n",
       "spotify:track:1xznGGDReH1oQq0xzbwXa3  0.178939  0.046186 -0.229613  0.109953   \n",
       "spotify:track:7yyRTcZmCiyzzJlNzGC9Ol  0.180012  0.045895 -0.226134  0.112212   \n",
       "spotify:track:7BKLCZ1jbUBVqRi2FVlTVw  0.183240  0.048365 -0.223629  0.109537   \n",
       "\n",
       "                                           200  \n",
       "0                                               \n",
       "spotify:track:0uqPG793dkDDN7sCUJJIVC  0.062138  \n",
       "spotify:track:7KXjTSCq5nL1LoYtL7XAwS  0.141836  \n",
       "spotify:track:1xznGGDReH1oQq0xzbwXa3  0.145087  \n",
       "spotify:track:7yyRTcZmCiyzzJlNzGC9Ol  0.136915  \n",
       "spotify:track:7BKLCZ1jbUBVqRi2FVlTVw  0.140058  \n",
       "\n",
       "[5 rows x 200 columns]"
      ]
     },
     "execution_count": 28,
     "metadata": {},
     "output_type": "execute_result"
    }
   ],
   "source": [
    "track_df.head()"
   ]
  },
  {
   "cell_type": "code",
   "execution_count": 29,
   "metadata": {},
   "outputs": [
    {
     "data": {
      "text/plain": [
       "(200,)"
      ]
     },
     "execution_count": 29,
     "metadata": {},
     "output_type": "execute_result"
    }
   ],
   "source": [
    "# playlist_list[0]\n",
    "mean_embedding = track_df.mean()\n",
    "mean_embedding.shape"
   ]
  },
  {
   "cell_type": "code",
   "execution_count": 30,
   "metadata": {},
   "outputs": [],
   "source": [
    "track_array = track_df.values\n",
    "# track_array is track_array.shape[0] x track_array.shape[1] ...\n",
    "track_row_names = dict(zip(track_df.index, range(track_array.shape[0])))\n",
    "\n",
    "count_missing_embeddings = 0\n",
    "\n",
    "def get_playlist_df(playlist):\n",
    "    global count_missing_embeddings\n",
    "    track_uri_list = get_tracks(playlist)\n",
    "    playlist_dict = {}\n",
    "    for track_uri in track_uri_list:\n",
    "        if track_uri not in track_row_names:\n",
    "            count_missing_embeddings += 1\n",
    "            track_vec = mean_embedding\n",
    "        else:\n",
    "            track_vec = track_array[track_row_names[track_uri], :]\n",
    "        playlist_dict[track_uri] = track_vec\n",
    "    return pd.DataFrame(playlist_dict).T"
   ]
  },
  {
   "cell_type": "code",
   "execution_count": null,
   "metadata": {},
   "outputs": [],
   "source": [
    "# def get_playlist_df2(playlist):\n",
    "#     track_list = get_tracks(playlist)\n",
    "# #     for set order does not matter. Here is the solution to problem *. & : intersection\n",
    "# # store the result in track list, so if there is nothing in common, it does not return anything\n",
    "#     track_list = track_list & set(track_df.index)\n",
    "#     playlist_df = track_df.loc[list(track_list), :]\n",
    "# #     problem * sth in track_df.loc[list(track_list), :] is not in the index of track_df(like playlist_list[347]). solution:\n",
    "    \n",
    "#     return playlist_df"
   ]
  },
  {
   "cell_type": "code",
   "execution_count": 22,
   "metadata": {},
   "outputs": [
    {
     "name": "stdout",
     "output_type": "stream",
     "text": [
      "88.6 ms ± 16.6 ms per loop (mean ± std. dev. of 7 runs, 1 loop each)\n"
     ]
    }
   ],
   "source": [
    "%timeit get_playlist_df2(playlist_list[0])"
   ]
  },
  {
   "cell_type": "code",
   "execution_count": 23,
   "metadata": {},
   "outputs": [
    {
     "name": "stdout",
     "output_type": "stream",
     "text": [
      "1.35 ms ± 73.9 µs per loop (mean ± std. dev. of 7 runs, 1000 loops each)\n"
     ]
    }
   ],
   "source": [
    "%timeit get_playlist_df(playlist_list[0])"
   ]
  },
  {
   "cell_type": "code",
   "execution_count": 27,
   "metadata": {},
   "outputs": [
    {
     "data": {
      "text/plain": [
       "(51, 200)"
      ]
     },
     "execution_count": 27,
     "metadata": {},
     "output_type": "execute_result"
    }
   ],
   "source": [
    "get_playlist_df(playlist_list[0]).shape"
   ]
  },
  {
   "cell_type": "code",
   "execution_count": 163,
   "metadata": {},
   "outputs": [],
   "source": [
    "# get_playlist_df(playlist_list[347])"
   ]
  },
  {
   "cell_type": "code",
   "execution_count": 31,
   "metadata": {},
   "outputs": [],
   "source": [
    "from tqdm import tqdm_notebook as tqdm"
   ]
  },
  {
   "cell_type": "code",
   "execution_count": 48,
   "metadata": {},
   "outputs": [
    {
     "data": {
      "application/vnd.jupyter.widget-view+json": {
       "model_id": "485368f0941f4db6986b2d1f08f42512",
       "version_major": 2,
       "version_minor": 0
      },
      "text/plain": [
       "HBox(children=(IntProgress(value=0, max=10000), HTML(value=u'')))"
      ]
     },
     "metadata": {},
     "output_type": "display_data"
    },
    {
     "name": "stdout",
     "output_type": "stream",
     "text": [
      "\n",
      "('num missing embedding:', 0)\n"
     ]
    }
   ],
   "source": [
    "from collections import defaultdict\n",
    "def make_track_playlists(playlist_list):\n",
    "    track_playlists = defaultdict(set)\n",
    "    for playlist_index, playlist in enumerate(playlist_list):\n",
    "        for track_uri in get_tracks(playlist):\n",
    "            track_playlists[track_uri].add(playlist_index)\n",
    "    return track_playlists\n",
    "\n",
    "limited_playlist_list = playlist_list[:10000]\n",
    "track_playlists = make_track_playlists(limited_playlist_list)\n",
    "count_missing_embeddings = 0\n",
    "playlist_df_list = [get_playlist_df(playlist) for index, playlist in enumerate(tqdm(limited_playlist_list))]\n",
    "print('num missing embedding:', count_missing_embeddings)"
   ]
  },
  {
   "cell_type": "code",
   "execution_count": 33,
   "metadata": {},
   "outputs": [],
   "source": [
    "training_playlist = playlist_df_list"
   ]
  },
  {
   "cell_type": "code",
   "execution_count": 34,
   "metadata": {},
   "outputs": [
    {
     "data": {
      "text/plain": [
       "51"
      ]
     },
     "execution_count": 34,
     "metadata": {},
     "output_type": "execute_result"
    }
   ],
   "source": [
    "len(training_playlist[0])"
   ]
  },
  {
   "cell_type": "code",
   "execution_count": 35,
   "metadata": {},
   "outputs": [],
   "source": [
    "# fit in pandas needs a 2 dim-matrix, with rows being sample and columns being features\n",
    "# training_playlist is a list of 2-dim-matrix, so if the rows can be on top of eachother\n",
    "# the 2-dim matrix is build. solution: concat\n",
    "concat_training_playlist = pd.concat(training_playlist).drop_duplicates()"
   ]
  },
  {
   "cell_type": "code",
   "execution_count": 36,
   "metadata": {},
   "outputs": [],
   "source": [
    "def make_query_mediod(investigated_playlist, index_to_remove):\n",
    "    query = investigated_playlist.drop(investigated_playlist.index[index_to_remove])\n",
    "    query_distance_matrix = sklearn.metrics.pairwise.cosine_distances(query)\n",
    "    mediod = np.argmin(query_distance_matrix.sum(axis = 0))\n",
    "    return mediod"
   ]
  },
  {
   "cell_type": "code",
   "execution_count": 37,
   "metadata": {},
   "outputs": [],
   "source": [
    "def make_mediod_features(mediod, investigated_playlist):\n",
    "    mediod_features = investigated_playlist.iloc[mediod]\n",
    "    return mediod_features"
   ]
  },
  {
   "cell_type": "code",
   "execution_count": 38,
   "metadata": {},
   "outputs": [],
   "source": [
    "from sklearn.neighbors import NearestNeighbors\n",
    "from tqdm import tnrange\n",
    "import random\n",
    "\n",
    "def cal_knn(k, concat_training_playlist):\n",
    "    nbrs = NearestNeighbors(n_neighbors=k, metric='cosine', n_jobs=1).fit(concat_training_playlist)\n",
    "    all_true_indices = []\n",
    "    all_distances = []\n",
    "    all_indices = []\n",
    "#     for i in tnrange(len(training_playlist)):\n",
    "    for i in tnrange(1000):\n",
    "        if len(training_playlist[i]) < 5:\n",
    "            continue\n",
    "        j = random.choice(range(len(training_playlist[i])))\n",
    "#         for j in range(len(training_playlist[i])):\n",
    "        track_uri = training_playlist[i].iloc[j].name\n",
    "        true_index = concat_training_playlist.index.get_loc(track_uri)\n",
    "        all_true_indices.append(true_index)\n",
    "        mediod = make_query_mediod(training_playlist[i], j)\n",
    "        mediod_features = make_mediod_features(mediod, training_playlist[i])\n",
    "#         distances, indices = nbrs.kneighbors(mediod_features.as_matrix().reshape(1,50))\n",
    "        distances, indices = nbrs.kneighbors(mediod_features.as_matrix().reshape(1,200))\n",
    "        all_distances.append(distances)\n",
    "        all_indices.append(indices)\n",
    "    return all_true_indices, all_distances, all_indices"
   ]
  },
  {
   "cell_type": "code",
   "execution_count": 39,
   "metadata": {
    "scrolled": true
   },
   "outputs": [
    {
     "data": {
      "application/vnd.jupyter.widget-view+json": {
       "model_id": "b4c6f94741024d9d9c1e008cec0c80e3",
       "version_major": 2,
       "version_minor": 0
      },
      "text/plain": [
       "HBox(children=(IntProgress(value=0, max=1000), HTML(value=u'')))"
      ]
     },
     "metadata": {},
     "output_type": "display_data"
    },
    {
     "name": "stderr",
     "output_type": "stream",
     "text": [
      "/Users/pani/work/env/lib/python2.7/site-packages/ipykernel_launcher.py:22: FutureWarning: Method .as_matrix will be removed in a future version. Use .values instead.\n"
     ]
    },
    {
     "name": "stdout",
     "output_type": "stream",
     "text": [
      "\n"
     ]
    }
   ],
   "source": [
    "all_true_indices, all_distances, all_indices = cal_knn(600, concat_training_playlist)"
   ]
  },
  {
   "cell_type": "code",
   "execution_count": 96,
   "metadata": {},
   "outputs": [],
   "source": [
    "# import pdb\n",
    "# pdb.pm()"
   ]
  },
  {
   "cell_type": "code",
   "execution_count": 40,
   "metadata": {},
   "outputs": [],
   "source": [
    "# evaluation metric\n",
    "def cal_ave_precision(k, all_true_indices, all_indices):\n",
    "    sum_precision = 0.0\n",
    "    for i in range(len(all_true_indices)):\n",
    "        precision = float(all_true_indices[i] in all_indices[i][0, :k])\n",
    "        sum_precision += precision\n",
    "    average_precision = sum_precision / len(all_true_indices)\n",
    "    return average_precision"
   ]
  },
  {
   "cell_type": "code",
   "execution_count": 41,
   "metadata": {},
   "outputs": [
    {
     "name": "stdout",
     "output_type": "stream",
     "text": [
      "(10, 3.9)\n",
      "(400, 12.2)\n",
      "(500, 13.8)\n",
      "(600, 15.0)\n"
     ]
    }
   ],
   "source": [
    "for k in [10, 400, 500, 600]:\n",
    "    print(k, 100* cal_ave_precision(k, all_true_indices, all_indices))"
   ]
  },
  {
   "cell_type": "code",
   "execution_count": 42,
   "metadata": {},
   "outputs": [],
   "source": [
    "# 2.perfect answer(the returned track is the exact dropped track) gain = 2\n",
    "# 1.a good answer(The found track is in the same playlist as the dropped track) gain = 1\n",
    "# 0.an incorrect answer(The found track is irrelevant) gain=0\n",
    "\n",
    "import math\n",
    "def dcg(gains):\n",
    "    value = 0\n",
    "    for index, gain in enumerate(gains):\n",
    "        if index == 0:\n",
    "            value += gain\n",
    "        else:\n",
    "            value += gain/math.log(1+index)\n",
    "    return value\n"
   ]
  },
  {
   "cell_type": "code",
   "execution_count": 43,
   "metadata": {},
   "outputs": [],
   "source": [
    "def ndcg(gains):\n",
    "    ideal_gains = list(sorted(gains))     \n",
    "    ideal_dcg = dcg(ideal_gains)\n",
    "    if ideal_dcg == 0:\n",
    "        return 0.0\n",
    "    real_dcg = dcg(gains)\n",
    "    return real_dcg/ideal_dcg"
   ]
  },
  {
   "cell_type": "code",
   "execution_count": 44,
   "metadata": {},
   "outputs": [],
   "source": [
    "def binary_get_gain(playlist_index, true_index, indices):\n",
    "    gains = []\n",
    "    for index in indices:\n",
    "        if index == true_index:\n",
    "            gains.append(1)\n",
    "#         elif is_same_artist(playlist_index, true_index, index):\n",
    "#         elif is_same_playlist(track_playlists, true_index, index):\n",
    "#             gains.append(1)\n",
    "        else:\n",
    "            gains.append(0)\n",
    "    return gains"
   ]
  },
  {
   "cell_type": "code",
   "execution_count": 45,
   "metadata": {},
   "outputs": [],
   "source": [
    "def cal_ndcg(track_playlists, all_true_indices, all_indices):\n",
    "    result = 0\n",
    "    count = 0\n",
    "    for true_index, indices in zip(all_true_indices, all_indices):\n",
    "        playlist_index = count\n",
    "        gains = binary_get_gain(playlist_index, true_index, indices[0,:])\n",
    "        result += ndcg(gains)\n",
    "        count += 1\n",
    "    return result / count"
   ]
  },
  {
   "cell_type": "code",
   "execution_count": 49,
   "metadata": {},
   "outputs": [
    {
     "data": {
      "text/plain": [
       "0.38904311763449806"
      ]
     },
     "execution_count": 49,
     "metadata": {},
     "output_type": "execute_result"
    }
   ],
   "source": [
    "cal_ndcg(track_playlists, all_true_indices, all_indices)"
   ]
  },
  {
   "cell_type": "code",
   "execution_count": null,
   "metadata": {},
   "outputs": [],
   "source": []
  }
 ],
 "metadata": {
  "kernelspec": {
   "display_name": "Python 2",
   "language": "python",
   "name": "python2"
  }
 },
 "nbformat": 4,
 "nbformat_minor": 2
}
