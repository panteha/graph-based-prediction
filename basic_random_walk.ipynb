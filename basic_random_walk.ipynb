{
 "cells": [
  {
   "cell_type": "code",
   "execution_count": 1,
   "metadata": {},
   "outputs": [],
   "source": [
    "# query is a track \n",
    "# query is a playlist \n",
    "# suggestion is always a track\n"
   ]
  },
  {
   "cell_type": "code",
   "execution_count": 1,
   "metadata": {},
   "outputs": [],
   "source": [
    "import json\n",
    "import numpy as np\n",
    "import sklearn\n",
    "import sklearn.metrics\n",
    "import seaborn as sns\n",
    "import matplotlib.pyplot as plt\n",
    "import pandas as pd\n",
    "import datetime\n",
    "import os\n",
    "import snap\n",
    "data_dir = \"/Users/pani/mpd/data/\""
   ]
  },
  {
   "cell_type": "code",
   "execution_count": 2,
   "metadata": {},
   "outputs": [],
   "source": [
    "data_files = list(sorted(os.listdir(data_dir)))"
   ]
  },
  {
   "cell_type": "code",
   "execution_count": 3,
   "metadata": {},
   "outputs": [],
   "source": [
    "data_files = data_files[:10]"
   ]
  },
  {
   "cell_type": "code",
   "execution_count": 4,
   "metadata": {},
   "outputs": [],
   "source": [
    "all_playlists = []\n",
    "for file_number, data_file in enumerate(data_files):\n",
    "#     print(file_number, data_file)\n",
    "    with open(data_dir + data_file) as file:\n",
    "        data = json.load(file)\n",
    "        playlists = data['playlists']\n",
    "        all_playlists += playlists"
   ]
  },
  {
   "cell_type": "code",
   "execution_count": 5,
   "metadata": {},
   "outputs": [
    {
     "data": {
      "text/plain": [
       "10000"
      ]
     },
     "execution_count": 5,
     "metadata": {},
     "output_type": "execute_result"
    }
   ],
   "source": [
    "playlist_list = all_playlists\n",
    "len(playlist_list)"
   ]
  },
  {
   "cell_type": "code",
   "execution_count": 6,
   "metadata": {},
   "outputs": [
    {
     "data": {
      "text/plain": [
       "90120"
      ]
     },
     "execution_count": 6,
     "metadata": {},
     "output_type": "execute_result"
    }
   ],
   "source": [
    "import sys\n",
    "sys.getsizeof(all_playlists)"
   ]
  },
  {
   "cell_type": "code",
   "execution_count": 7,
   "metadata": {},
   "outputs": [],
   "source": [
    "def get_tracks(playlist):\n",
    "    track_list = set([])\n",
    "    for i in range(playlist['num_tracks']):\n",
    "        track_list.add(playlist['tracks'][i]['track_uri'])\n",
    "    return track_list"
   ]
  },
  {
   "cell_type": "code",
   "execution_count": 8,
   "metadata": {},
   "outputs": [],
   "source": [
    "# tracks = get_tracks(data['playlists'][0])\n",
    "# tracks"
   ]
  },
  {
   "cell_type": "code",
   "execution_count": 9,
   "metadata": {},
   "outputs": [],
   "source": [
    "# A graph is made in which an edge between playlist-id and track-id is missing\n",
    "# the aim is to predict the missing track in the playlist\n",
    "\n",
    "# g, dropped_track_id = make_graph_drop_edge(playlist_list, playlist_id, dropped_track_index)/\n",
    "\n",
    "# This function creats the track ids\n",
    "\n",
    "def make_graph_drop_edge(playlist_list, playlist_id, dropped_track_index):\n",
    "# What if a track was common between two playlist? If there is no dictionary, track+id +=1 produces\n",
    "# 2 node ids for the same track.\n",
    "    g = snap.TUNGraph.New()\n",
    "    next_track_id = len(playlist_list)\n",
    "    tracks_dict = {}\n",
    "    dropped_track_id = None\n",
    "    for increasing_playlist_id in range(len(playlist_list)):\n",
    "        g.AddNode(increasing_playlist_id)\n",
    "        track_list = get_tracks(playlist_list[increasing_playlist_id])\n",
    "        track_list = sorted(track_list)\n",
    "        \n",
    "        for track_uri in track_list:\n",
    "            track_index = track_list.index(track_uri)\n",
    "#             to have unique track id\n",
    "            if track_uri in tracks_dict:\n",
    "                increasing_track_id = tracks_dict[track_uri]\n",
    "            else:\n",
    "                tracks_dict[track_uri] = next_track_id\n",
    "                next_track_id += 1\n",
    "                increasing_track_id = tracks_dict[track_uri]\n",
    "                g.AddNode(increasing_track_id)\n",
    "            if (playlist_id == increasing_playlist_id and track_index == dropped_track_index):\n",
    "                dropped_track_id = increasing_track_id\n",
    "                continue\n",
    "            g.AddEdge(increasing_track_id, increasing_playlist_id)\n",
    "    return g, dropped_track_id"
   ]
  },
  {
   "cell_type": "code",
   "execution_count": 10,
   "metadata": {},
   "outputs": [],
   "source": [
    "# list(g.GetNI(0).GetOutEdges())"
   ]
  },
  {
   "cell_type": "code",
   "execution_count": 11,
   "metadata": {},
   "outputs": [],
   "source": [
    "# Basic random walk from playlist_id to track_id\n",
    "\n",
    "from collections import defaultdict\n",
    "import random\n",
    "\n",
    "def basic_random_walk_playlist(query,g):\n",
    "    N = 10000\n",
    "    totSteps = 0\n",
    "    num_visits = defaultdict(int)\n",
    "\n",
    "    while totSteps < N : \n",
    "        currPlaylist = query\n",
    "        # Number of iterations\n",
    "        currSteps = 5\n",
    "        for i in range(currSteps):\n",
    "            # takes 1 step (from a playlist to track)\n",
    "            edges = list(g.GetNI(currPlaylist).GetOutEdges())\n",
    "            currTrack = random.choice(edges)\n",
    "            # takes 1 step (from a track to playlist)\n",
    "            edges = list(g.GetNI(currTrack).GetOutEdges())\n",
    "            currPlaylist = random.choice(edges)\n",
    "            num_visits[currTrack] += 1\n",
    "        totSteps += currSteps\n",
    "    return num_visits"
   ]
  },
  {
   "cell_type": "code",
   "execution_count": 12,
   "metadata": {},
   "outputs": [],
   "source": [
    "# edges = list(g.GetNI(0).GetOutEdges())\n",
    "# print edges"
   ]
  },
  {
   "cell_type": "code",
   "execution_count": 13,
   "metadata": {},
   "outputs": [],
   "source": [
    "# g = make_graph_drop_edge(playlist_list, 20, 1020)\n",
    "# edges = list(g.GetNI(0).GetOutEdges())\n",
    "# print edges"
   ]
  },
  {
   "cell_type": "code",
   "execution_count": 14,
   "metadata": {},
   "outputs": [],
   "source": [
    "# all_true_indices : list of indices that I dropped\n",
    "# all_indices: list of list of best suggested track ids\n",
    "\n",
    "\n",
    "# evaluation metric\n",
    "def cal_ave_precision(k, all_true_indices, all_indices):\n",
    "    sum_precision = 0.0\n",
    "    for i in range(len(all_true_indices)):\n",
    "        precision = float(all_true_indices[i] in all_indices[i][:k])\n",
    "        sum_precision += precision\n",
    "    average_precision = sum_precision / len(all_true_indices)\n",
    "    return average_precision"
   ]
  },
  {
   "cell_type": "code",
   "execution_count": 15,
   "metadata": {},
   "outputs": [],
   "source": [
    "# dropped_track_id = 2000\n",
    "\n",
    "# g = make_graph_drop_edge(playlist_list, 500, dropped_track_id)\n",
    "# print g"
   ]
  },
  {
   "cell_type": "code",
   "execution_count": 16,
   "metadata": {},
   "outputs": [],
   "source": [
    "# num_visits = basic_random_walk_playlist(query,g)\n",
    "# num_visits"
   ]
  },
  {
   "cell_type": "code",
   "execution_count": 17,
   "metadata": {},
   "outputs": [],
   "source": [
    "# all_true_indices : list of indices that I dropped\n",
    "# all_indices: list of list of best suggested track ids\n",
    "# all_true_indices = [dropped_track_id]\n",
    "# all_indices = [sorted(num_visits, key=num_visits.get, reverse=True)[:5]]\n",
    "# avg_precision = cal_ave_precision(2, all_true_indices, all_indices)\n",
    "# print avg_precision"
   ]
  },
  {
   "cell_type": "code",
   "execution_count": 18,
   "metadata": {},
   "outputs": [],
   "source": [
    "# all_true_indices : list of ids that I dropped\n",
    "# all_indices: list of list of best suggested track ids\n",
    "\n",
    "# dropped_track_id = 2000\n",
    "\n",
    "# g = make_graph_drop_edge(playlist_list, 500, dropped_track_id)\n",
    "# print g\n",
    "\n",
    "# num_visits = basic_random_walk_playlist(query,g)\n",
    "# num_visits\n",
    "from tqdm import tqdm_notebook as tqdm\n",
    "\n",
    "def cal_most_visited(playlist_list):\n",
    "#     correct track ids\n",
    "    all_true_ids = []\n",
    "    all_suggested_ids = []\n",
    "    for playlist_id in tqdm(range(len(playlist_list))):\n",
    "        dropped_track_index = random.choice(range(len(playlist_list[playlist_id])))\n",
    "#         for dropped_track_index in range(len(playlist_list[playlist_id])):\n",
    "        g, dropped_track_id = make_graph_drop_edge(playlist_list, playlist_id, dropped_track_index)\n",
    "#             print('1', playlist_id, dropped_track_id)\n",
    "#             tracks in the playlist graphs where one is dropped\n",
    "        if len(list(g.GetNI(playlist_id).GetOutEdges())) < 5:\n",
    "            continue\n",
    "        num_visits = basic_random_walk_playlist(playlist_id, g)\n",
    "#             print num_visits\n",
    "        indices = sorted(num_visits, key=num_visits.get, reverse=True)\n",
    "        all_true_ids.append(dropped_track_id)\n",
    "        all_suggested_ids.append(indices)\n",
    "    return all_true_ids, all_suggested_ids"
   ]
  },
  {
   "cell_type": "code",
   "execution_count": 19,
   "metadata": {},
   "outputs": [],
   "source": [
    "import multiprocessing\n",
    "import functools\n",
    "from tqdm import tqdm_notebook as tqdm\n",
    "\n",
    "def cal_most_visited_playlist(playlist_list, playlist_id):\n",
    "    dropped_track_index = random.choice(range(len(playlist_list[playlist_id])))\n",
    "#         for dropped_track_index in range(len(playlist_list[playlist_id])):\n",
    "    g, dropped_track_id = make_graph_drop_edge(playlist_list, playlist_id, dropped_track_index)\n",
    "#             print('1', playlist_id, dropped_track_id)\n",
    "#             tracks in the playlist graphs where one is dropped\n",
    "    if len(list(g.GetNI(playlist_id).GetOutEdges())) < 5:\n",
    "        return None, None\n",
    "    num_visits = basic_random_walk_playlist(playlist_id, g)\n",
    "    suggested_ids = sorted(num_visits, key=num_visits.get, reverse=True)\n",
    "    return dropped_track_id, suggested_ids\n",
    "\n",
    "def process_playlists(fn, playlist_list):\n",
    "    pool = multiprocessing.Pool(3)\n",
    "    num_playlist = len(playlist_list)\n",
    "    fn_with_playlist_list = functools.partial(fn, playlist_list)\n",
    "    all_true_ids = []\n",
    "    all_suggested_ids = []\n",
    "#     map(fn, [1,2,3,4]) -> [fn(1), fn(2), fn(3), fn(4)]\n",
    "    result = pool.imap_unordered(fn_with_playlist_list, range(num_playlist),\n",
    "                                 chunksize=10)\n",
    "    for true_id, suggested_ids in tqdm(result, total=num_playlist):\n",
    "        if true_id is None:\n",
    "            continue\n",
    "        all_true_ids.append(true_id)\n",
    "        all_suggested_ids.append(suggested_ids)\n",
    "    return all_true_ids, all_suggested_ids"
   ]
  },
  {
   "cell_type": "code",
   "execution_count": 20,
   "metadata": {
    "scrolled": true
   },
   "outputs": [
    {
     "data": {
      "application/vnd.jupyter.widget-view+json": {
       "model_id": "222219ee3fc641a0ac79f968e62ea158",
       "version_major": 2,
       "version_minor": 0
      },
      "text/plain": [
       "HBox(children=(IntProgress(value=0, max=10000), HTML(value=u'')))"
      ]
     },
     "metadata": {},
     "output_type": "display_data"
    },
    {
     "name": "stdout",
     "output_type": "stream",
     "text": [
      "\n",
      "0.335774590581\n"
     ]
    }
   ],
   "source": [
    "# all_true_ids, all_suggested_ids = cal_most_visited(playlist_list)\n",
    "all_true_ids, all_suggested_ids = process_playlists(cal_most_visited_playlist, playlist_list)\n",
    "avg_precision = cal_ave_precision(500, all_true_ids, all_suggested_ids)\n",
    "print avg_precision"
   ]
  },
  {
   "cell_type": "code",
   "execution_count": null,
   "metadata": {},
   "outputs": [],
   "source": []
  },
  {
   "cell_type": "code",
   "execution_count": null,
   "metadata": {},
   "outputs": [],
   "source": []
  },
  {
   "cell_type": "code",
   "execution_count": null,
   "metadata": {},
   "outputs": [],
   "source": []
  },
  {
   "cell_type": "code",
   "execution_count": 242,
   "metadata": {},
   "outputs": [
    {
     "data": {
      "text/plain": [
       "True"
      ]
     },
     "execution_count": 242,
     "metadata": {},
     "output_type": "execute_result"
    }
   ],
   "source": [
    "all_true_indices[0] in all_indices[0]"
   ]
  },
  {
   "cell_type": "code",
   "execution_count": 246,
   "metadata": {},
   "outputs": [
    {
     "data": {
      "text/plain": [
       "6808"
      ]
     },
     "execution_count": 246,
     "metadata": {},
     "output_type": "execute_result"
    }
   ],
   "source": [
    "len(all_indices[0])"
   ]
  },
  {
   "cell_type": "code",
   "execution_count": 243,
   "metadata": {},
   "outputs": [
    {
     "data": {
      "text/plain": [
       "1000"
      ]
     },
     "execution_count": 243,
     "metadata": {},
     "output_type": "execute_result"
    }
   ],
   "source": [
    "all_true_indices[0]"
   ]
  },
  {
   "cell_type": "code",
   "execution_count": null,
   "metadata": {},
   "outputs": [],
   "source": []
  },
  {
   "cell_type": "code",
   "execution_count": null,
   "metadata": {},
   "outputs": [],
   "source": [
    "# g = make_graph_drop_edge(playlist_list, 0, 1000)\n",
    "# num_visits = basic_random_walk_playlist(0,g)\n",
    "# print num_visits"
   ]
  },
  {
   "cell_type": "code",
   "execution_count": 224,
   "metadata": {},
   "outputs": [
    {
     "data": {
      "text/plain": [
       "True"
      ]
     },
     "execution_count": 224,
     "metadata": {},
     "output_type": "execute_result"
    }
   ],
   "source": [
    "1000 in num_visits.keys()"
   ]
  },
  {
   "cell_type": "code",
   "execution_count": 225,
   "metadata": {},
   "outputs": [
    {
     "data": {
      "text/plain": [
       "5"
      ]
     },
     "execution_count": 225,
     "metadata": {},
     "output_type": "execute_result"
    }
   ],
   "source": [
    "num_visits[1000]"
   ]
  },
  {
   "cell_type": "code",
   "execution_count": 226,
   "metadata": {},
   "outputs": [
    {
     "data": {
      "text/plain": [
       "143"
      ]
     },
     "execution_count": 226,
     "metadata": {},
     "output_type": "execute_result"
    }
   ],
   "source": [
    "max(num_visits.values())"
   ]
  },
  {
   "cell_type": "code",
   "execution_count": 227,
   "metadata": {},
   "outputs": [
    {
     "data": {
      "text/plain": [
       "500"
      ]
     },
     "execution_count": 227,
     "metadata": {},
     "output_type": "execute_result"
    }
   ],
   "source": [
    "list(sorted(num_visits, key=num_visits.get, reverse=True)).index(1000)"
   ]
  },
  {
   "cell_type": "code",
   "execution_count": 228,
   "metadata": {},
   "outputs": [
    {
     "data": {
      "text/plain": [
       "[359, 812, 908]"
      ]
     },
     "execution_count": 228,
     "metadata": {},
     "output_type": "execute_result"
    }
   ],
   "source": [
    "list(g.GetNI(1000).GetOutEdges())"
   ]
  },
  {
   "cell_type": "code",
   "execution_count": 229,
   "metadata": {},
   "outputs": [
    {
     "data": {
      "text/plain": [
       "3"
      ]
     },
     "execution_count": 229,
     "metadata": {},
     "output_type": "execute_result"
    }
   ],
   "source": [
    "snap.GetShortPath(g, 0, 1000)"
   ]
  },
  {
   "cell_type": "code",
   "execution_count": 230,
   "metadata": {},
   "outputs": [
    {
     "data": {
      "text/plain": [
       "False"
      ]
     },
     "execution_count": 230,
     "metadata": {},
     "output_type": "execute_result"
    }
   ],
   "source": [
    "g.IsEdge(0, 1000)"
   ]
  },
  {
   "cell_type": "code",
   "execution_count": 232,
   "metadata": {},
   "outputs": [
    {
     "data": {
      "text/plain": [
       "1.0"
      ]
     },
     "execution_count": 232,
     "metadata": {},
     "output_type": "execute_result"
    }
   ],
   "source": [
    "cal_ave_precision(600, [1000], [num_visits.keys()])"
   ]
  },
  {
   "cell_type": "code",
   "execution_count": 150,
   "metadata": {},
   "outputs": [],
   "source": [
    "# evaluation metric\n",
    "def cal_ave_precision(k, all_true_indices, all_indices):\n",
    "    sum_precision = 0.0\n",
    "    for i in range(len(all_true_indices)):\n",
    "        precision = float(all_true_indices[i] in all_indices[i][:k])\n",
    "        sum_precision += precision\n",
    "    average_precision = sum_precision / len(all_true_indices)\n",
    "    return average_precision"
   ]
  },
  {
   "cell_type": "code",
   "execution_count": 153,
   "metadata": {},
   "outputs": [
    {
     "data": {
      "text/plain": [
       "0.0"
      ]
     },
     "execution_count": 153,
     "metadata": {},
     "output_type": "execute_result"
    }
   ],
   "source": [
    "float(False)"
   ]
  },
  {
   "cell_type": "code",
   "execution_count": 72,
   "metadata": {},
   "outputs": [
    {
     "name": "stdout",
     "output_type": "stream",
     "text": [
      "> <ipython-input-70-046a38a27c48>(21)cal_most_visited()\n",
      "-> if len(g.GetNI(playlist_id).GetOutEdges()) < 5:\n",
      "(Pdb) q\n"
     ]
    }
   ],
   "source": [
    "import pdb; pdb.pm()"
   ]
  },
  {
   "cell_type": "code",
   "execution_count": null,
   "metadata": {},
   "outputs": [],
   "source": []
  },
  {
   "cell_type": "code",
   "execution_count": 122,
   "metadata": {},
   "outputs": [
    {
     "data": {
      "text/plain": [
       "66720"
      ]
     },
     "execution_count": 122,
     "metadata": {},
     "output_type": "execute_result"
    }
   ],
   "source": [
    "g = make_graph_drop_edge(playlist_list, 0, 1000)\n",
    "g.GetEdges()"
   ]
  },
  {
   "cell_type": "code",
   "execution_count": 123,
   "metadata": {},
   "outputs": [
    {
     "data": {
      "text/plain": [
       "defaultdict(int,\n",
       "            {1001: 1,\n",
       "             1002: 1,\n",
       "             1013: 1,\n",
       "             1024: 1,\n",
       "             1039: 1,\n",
       "             4737: 1,\n",
       "             6607: 1,\n",
       "             6677: 1,\n",
       "             14055: 1})"
      ]
     },
     "execution_count": 123,
     "metadata": {},
     "output_type": "execute_result"
    }
   ],
   "source": [
    "num_visits = basic_random_walk_playlist(0,g)\n",
    "num_visits"
   ]
  }
 ],
 "metadata": {
  "kernelspec": {
   "display_name": "Python 2",
   "language": "python",
   "name": "python2"
  },
  "language_info": {
   "codemirror_mode": {
    "name": "ipython",
    "version": 2
   },
   "file_extension": ".py",
   "mimetype": "text/x-python",
   "name": "python",
   "nbconvert_exporter": "python",
   "pygments_lexer": "ipython2",
   "version": "2.7.10"
  }
 },
 "nbformat": 4,
 "nbformat_minor": 2
}
