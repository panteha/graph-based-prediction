{
 "cells": [
  {
   "cell_type": "code",
   "execution_count": null,
   "metadata": {},
   "outputs": [],
   "source": [
    "import json\n",
    "import numpy as np\n",
    "import sklearn\n",
    "import sklearn.metrics\n",
    "import seaborn as sns\n",
    "import matplotlib.pyplot as plt\n",
    "import pandas as pd\n",
    "import datetime\n",
    "import os\n",
    "# import snap\n",
    "from collections import defaultdict\n",
    "import random\n",
    "import playlist\n",
    "reload(playlist)"
   ]
  },
  {
   "cell_type": "code",
   "execution_count": null,
   "metadata": {},
   "outputs": [],
   "source": [
    "playlist_list = playlist.get_playlist_list()"
   ]
  },
  {
   "cell_type": "code",
   "execution_count": null,
   "metadata": {},
   "outputs": [],
   "source": [
    "len(playlist_list)"
   ]
  },
  {
   "cell_type": "code",
   "execution_count": null,
   "metadata": {},
   "outputs": [],
   "source": [
    "import sys\n",
    "sys.getsizeof(playlist_list)"
   ]
  },
  {
   "cell_type": "code",
   "execution_count": null,
   "metadata": {},
   "outputs": [],
   "source": [
    "# tracks = get_tracks(data['playlists'][0])\n",
    "# tracks"
   ]
  },
  {
   "cell_type": "code",
   "execution_count": null,
   "metadata": {},
   "outputs": [],
   "source": [
    "def highest_visited_random_walk_playlist(query,g,dropped_track_id):\n",
    "#     do not go from query to dropped_track_id\n",
    "#     or dropped_track_id to query\n",
    "    \n",
    "    N = 10000\n",
    "#     totSteps is the number of total steps where step is going from playlist to track to playlist\n",
    "    totSteps = 0\n",
    "#     nHighVisited is the number of track nodes that have been visited at least nv times\n",
    "    nHighVisited = 0\n",
    "    nv = 5\n",
    "#     nt is the least number of tracks which have been visited at least nv times\n",
    "    nt = 200\n",
    "    num_visits = defaultdict(int)\n",
    "\n",
    "    # BUG: was or nHighVisited > nt\n",
    "    while totSteps < N and nHighVisited < nt:\n",
    "        currPlaylist = query\n",
    "        # Number of iterations\n",
    "        currSteps = 5\n",
    "        for i in range(currSteps):\n",
    "            # takes 1 step (from a playlist to track)\n",
    "            # list() is needed so graph is not changed by remove\n",
    "            edges = list(g[currPlaylist])\n",
    "            if currPlaylist == query:\n",
    "                edges.remove(dropped_track_id)\n",
    "            currTrack = random.choice(edges)\n",
    "\n",
    "            # takes 1 step (from a track to playlist)\n",
    "            edges = list(g[currTrack])\n",
    "            if currTrack == dropped_track_id:\n",
    "                edges.remove(query)\n",
    "            currPlaylist = random.choice(edges)\n",
    "            num_visits[currTrack] += 1\n",
    "            if num_visits[currTrack] == nv:\n",
    "                nHighVisited += 1\n",
    "        totSteps += currSteps\n",
    "    return num_visits"
   ]
  },
  {
   "cell_type": "code",
   "execution_count": null,
   "metadata": {},
   "outputs": [],
   "source": [
    "# g, tracks_dict, tracks_id_dict = playlist.make_graph(playlist_list)\n",
    "g, tracks_dict, tracks_id_dict = playlist.make_graph_dict(playlist_list)"
   ]
  },
  {
   "cell_type": "code",
   "execution_count": null,
   "metadata": {},
   "outputs": [],
   "source": [
    "def cal_most_visited_playlist(playlist_list, playlist_id):\n",
    "    dropped_track_id = random.choice(tuple(g[playlist_id]))\n",
    "\n",
    "    if len(g[playlist_id]) < 5:\n",
    "        return None, None\n",
    "    num_visits = highest_visited_random_walk_playlist(playlist_id, g, dropped_track_id)\n",
    "    suggested_ids = sorted(num_visits, key=num_visits.get, reverse=True)\n",
    "    return dropped_track_id, suggested_ids"
   ]
  },
  {
   "cell_type": "code",
   "execution_count": null,
   "metadata": {
    "scrolled": false
   },
   "outputs": [],
   "source": [
    "# all_true_ids, all_suggested_ids = cal_most_visited(playlist_list)\n",
    "all_true_ids, all_suggested_ids = playlist.process_playlists(cal_most_visited_playlist, playlist_list,\n",
    "                                                             multiprocess=False)\n"
   ]
  },
  {
   "cell_type": "code",
   "execution_count": null,
   "metadata": {},
   "outputs": [],
   "source": [
    "results = playlist.cal_results(playlist_list, all_true_ids, all_suggested_ids)\n",
    "filename = 'results%d_highest_visited_random_walk_10k.txt' % (len(playlist_list),)\n",
    "with open(filename, 'w') as output:\n",
    "    output.write(str(results))"
   ]
  },
  {
   "cell_type": "code",
   "execution_count": null,
   "metadata": {},
   "outputs": [],
   "source": [
    "# np.savez_compressed('basic_random_walk_50k_500_result_new.npz',all_true_ids = all_true_ids, \n",
    "#                    all_suggested_ids = all_suggested_ids)"
   ]
  },
  {
   "cell_type": "code",
   "execution_count": null,
   "metadata": {},
   "outputs": [],
   "source": [
    "# %%time\n",
    "# data = np.load('basic_random_walk_50k_500_result.npz', mmap_mode='r')\n",
    "# all_true_ids = data['all_true_ids'] \n",
    "# all_suggested_ids = data['all_suggested_ids']"
   ]
  },
  {
   "cell_type": "code",
   "execution_count": null,
   "metadata": {},
   "outputs": [],
   "source": [
    "# %%time\n",
    "# tracks_dict, tracks_id_dict = playlist.make_tracks_dict(playlist_list)"
   ]
  },
  {
   "cell_type": "code",
   "execution_count": null,
   "metadata": {},
   "outputs": [],
   "source": [
    "# max(num_visits.values())"
   ]
  },
  {
   "cell_type": "code",
   "execution_count": null,
   "metadata": {},
   "outputs": [],
   "source": [
    "list(sorted(num_visits, key=num_visits.get, reverse=True)).index(1000)"
   ]
  },
  {
   "cell_type": "code",
   "execution_count": null,
   "metadata": {},
   "outputs": [],
   "source": [
    "# avg_precision = playlist.cal_ave_precision(500, all_true_ids, all_suggested_ids)\n",
    "# print avg_precision"
   ]
  },
  {
   "cell_type": "code",
   "execution_count": null,
   "metadata": {},
   "outputs": [],
   "source": [
    "# binary_ndcg = playlist.cal_ndcg(all_true_ids, all_suggested_ids, gain=playlist.binary_get_gain)\n",
    "# print binary_ndcg"
   ]
  },
  {
   "cell_type": "code",
   "execution_count": null,
   "metadata": {},
   "outputs": [],
   "source": [
    "# artist_get_gain = playlist.artist_get_gain(playlist_list, tracks_id_dict)"
   ]
  },
  {
   "cell_type": "code",
   "execution_count": null,
   "metadata": {},
   "outputs": [],
   "source": [
    "# artist_ndcg = playlist.cal_ndcg(all_true_ids, all_suggested_ids, gain=artist_get_gain)\n",
    "# print artist_ndcg"
   ]
  },
  {
   "cell_type": "code",
   "execution_count": null,
   "metadata": {},
   "outputs": [],
   "source": [
    "# float(False)"
   ]
  },
  {
   "cell_type": "code",
   "execution_count": null,
   "metadata": {},
   "outputs": [],
   "source": [
    "# import pdb; pdb.pm()"
   ]
  }
 ],
 "metadata": {
  "kernelspec": {
   "display_name": "Python 2",
   "language": "python",
   "name": "python2"
  },
  "language_info": {
   "codemirror_mode": {
    "name": "ipython",
    "version": 2
   },
   "file_extension": ".py",
   "mimetype": "text/x-python",
   "name": "python",
   "nbconvert_exporter": "python",
   "pygments_lexer": "ipython2",
   "version": "2.7.13"
  }
 },
 "nbformat": 4,
 "nbformat_minor": 2
}
