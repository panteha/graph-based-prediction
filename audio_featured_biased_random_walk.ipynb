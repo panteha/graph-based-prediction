{
 "cells": [
  {
   "cell_type": "code",
   "execution_count": null,
   "metadata": {},
   "outputs": [],
   "source": [
    "import pandas as pd\n",
    "import matplotlib.pyplot as plt\n",
    "import seaborn as sns\n",
    "import json\n",
    "import random\n",
    "from playlist import *\n",
    "from collections import defaultdict\n",
    "from numpy.random import choice\n",
    "import spotipy\n",
    "from spotipy.oauth2 import SpotifyClientCredentials\n",
    "\n",
    "# client_credentials_manager = SpotifyClientCredentials()\n",
    "# sp = spotipy.Spotify(client_credentials_manager=client_credentials_manager)\n",
    "\n",
    "# results = sp.search(q='weezer', limit=20)\n",
    "# for i, t in enumerate(results['tracks']['items']):\n",
    "#     print(' ', i, t['name'])"
   ]
  },
  {
   "cell_type": "code",
   "execution_count": 127,
   "metadata": {},
   "outputs": [],
   "source": [
    "playlist_list = get_playlist_list()"
   ]
  },
  {
   "cell_type": "code",
   "execution_count": 145,
   "metadata": {},
   "outputs": [],
   "source": [
    "def get_tracks(playlist):\n",
    "    track_list = set([])\n",
    "    for i in range(playlist['num_tracks']):\n",
    "        track_list.add(playlist['tracks'][i]['track_uri'])\n",
    "    return track_list"
   ]
  },
  {
   "cell_type": "code",
   "execution_count": 146,
   "metadata": {},
   "outputs": [],
   "source": [
    "# track_audio_features = {}\n",
    "# for i in range (len(playlist_list)):\n",
    "#         playlist = playlist_list[i]\n",
    "#         for j in range(playlist['num_tracks']):\n",
    "#             track_uri = playlist['tracks'][j]['track_uri']\n",
    "#             if track_uri not in track_audio_features:\n",
    "#                 track_audio_features[track_uri] = sp.audio_features([track_uri])[0]"
   ]
  },
  {
   "cell_type": "code",
   "execution_count": 19,
   "metadata": {},
   "outputs": [],
   "source": [
    "# import gzip\n",
    "# import pickle\n",
    "\n",
    "# with gzip.open('audio_features_1K.pickle.gz','wb') as output:\n",
    "#     pickle.dump(track_audio_features ,output)"
   ]
  },
  {
   "cell_type": "code",
   "execution_count": 147,
   "metadata": {},
   "outputs": [],
   "source": [
    "import gzip\n",
    "import pickle\n",
    "\n",
    "with gzip.open(\"audio_features_1K_p2.pickle.gz\", \"rb\") as inp:\n",
    "    track_audio_features = pickle.load(inp)"
   ]
  },
  {
   "cell_type": "code",
   "execution_count": 148,
   "metadata": {},
   "outputs": [],
   "source": [
    "\n",
    "# sp.audio_features(['spotify:track:20ORwCJusz4KS2PbTPVNKo'])"
   ]
  },
  {
   "cell_type": "code",
   "execution_count": 149,
   "metadata": {},
   "outputs": [],
   "source": [
    "# sp.audio_analysis('spotify:track:20ORwCJusz4KS2PbTPVNKo')"
   ]
  },
  {
   "cell_type": "code",
   "execution_count": 150,
   "metadata": {},
   "outputs": [],
   "source": [
    "# sp.artist('spotify:artist:2Hjj68yyUPiC0HKEOigcEp')"
   ]
  },
  {
   "cell_type": "code",
   "execution_count": 151,
   "metadata": {},
   "outputs": [],
   "source": [
    "audio_df = pd.DataFrame(track_audio_features).T\n",
    "audio_df = audio_df[['acousticness', 'danceability', 'duration_ms', 'energy',\n",
    "        'instrumentalness', 'key', 'liveness', 'loudness', 'mode',\n",
    "       'speechiness', 'tempo', 'time_signature',\n",
    "       'valence']]\n",
    "audio_df = audio_df.astype(float)"
   ]
  },
  {
   "cell_type": "code",
   "execution_count": 152,
   "metadata": {},
   "outputs": [
    {
     "data": {
      "text/plain": [
       "(34443, 13)"
      ]
     },
     "execution_count": 152,
     "metadata": {},
     "output_type": "execute_result"
    }
   ],
   "source": [
    "audio_df.shape"
   ]
  },
  {
   "cell_type": "code",
   "execution_count": 153,
   "metadata": {},
   "outputs": [
    {
     "data": {
      "text/html": [
       "<div>\n",
       "<style scoped>\n",
       "    .dataframe tbody tr th:only-of-type {\n",
       "        vertical-align: middle;\n",
       "    }\n",
       "\n",
       "    .dataframe tbody tr th {\n",
       "        vertical-align: top;\n",
       "    }\n",
       "\n",
       "    .dataframe thead th {\n",
       "        text-align: right;\n",
       "    }\n",
       "</style>\n",
       "<table border=\"1\" class=\"dataframe\">\n",
       "  <thead>\n",
       "    <tr style=\"text-align: right;\">\n",
       "      <th></th>\n",
       "      <th>acousticness</th>\n",
       "      <th>danceability</th>\n",
       "      <th>duration_ms</th>\n",
       "      <th>energy</th>\n",
       "      <th>instrumentalness</th>\n",
       "      <th>key</th>\n",
       "      <th>liveness</th>\n",
       "      <th>loudness</th>\n",
       "      <th>mode</th>\n",
       "      <th>speechiness</th>\n",
       "      <th>tempo</th>\n",
       "      <th>time_signature</th>\n",
       "      <th>valence</th>\n",
       "    </tr>\n",
       "  </thead>\n",
       "  <tbody>\n",
       "    <tr>\n",
       "      <th>spotify:track:000mA0etY38nKdvf1N04af</th>\n",
       "      <td>0.2530</td>\n",
       "      <td>0.300</td>\n",
       "      <td>214507.0</td>\n",
       "      <td>0.630</td>\n",
       "      <td>0.000005</td>\n",
       "      <td>10.0</td>\n",
       "      <td>0.1320</td>\n",
       "      <td>-8.406</td>\n",
       "      <td>1.0</td>\n",
       "      <td>0.0384</td>\n",
       "      <td>77.570</td>\n",
       "      <td>4.0</td>\n",
       "      <td>0.182</td>\n",
       "    </tr>\n",
       "    <tr>\n",
       "      <th>spotify:track:000xQL6tZNLJzIrtIgxqSl</th>\n",
       "      <td>0.1310</td>\n",
       "      <td>0.748</td>\n",
       "      <td>188491.0</td>\n",
       "      <td>0.627</td>\n",
       "      <td>0.000000</td>\n",
       "      <td>7.0</td>\n",
       "      <td>0.0852</td>\n",
       "      <td>-6.029</td>\n",
       "      <td>1.0</td>\n",
       "      <td>0.0644</td>\n",
       "      <td>120.963</td>\n",
       "      <td>4.0</td>\n",
       "      <td>0.524</td>\n",
       "    </tr>\n",
       "    <tr>\n",
       "      <th>spotify:track:006AVH7fq061voGXkUiII4</th>\n",
       "      <td>0.6970</td>\n",
       "      <td>0.491</td>\n",
       "      <td>191573.0</td>\n",
       "      <td>0.324</td>\n",
       "      <td>0.000000</td>\n",
       "      <td>2.0</td>\n",
       "      <td>0.1350</td>\n",
       "      <td>-10.627</td>\n",
       "      <td>1.0</td>\n",
       "      <td>0.0442</td>\n",
       "      <td>115.137</td>\n",
       "      <td>5.0</td>\n",
       "      <td>0.123</td>\n",
       "    </tr>\n",
       "    <tr>\n",
       "      <th>spotify:track:006PJvsr6CyV3JdBf7wiNF</th>\n",
       "      <td>0.1620</td>\n",
       "      <td>0.861</td>\n",
       "      <td>305320.0</td>\n",
       "      <td>0.417</td>\n",
       "      <td>0.000028</td>\n",
       "      <td>0.0</td>\n",
       "      <td>0.1020</td>\n",
       "      <td>-8.083</td>\n",
       "      <td>0.0</td>\n",
       "      <td>0.0437</td>\n",
       "      <td>119.968</td>\n",
       "      <td>4.0</td>\n",
       "      <td>0.235</td>\n",
       "    </tr>\n",
       "    <tr>\n",
       "      <th>spotify:track:006yrnQMCZpiUgkR612gC8</th>\n",
       "      <td>0.0529</td>\n",
       "      <td>0.751</td>\n",
       "      <td>123411.0</td>\n",
       "      <td>0.829</td>\n",
       "      <td>0.000076</td>\n",
       "      <td>10.0</td>\n",
       "      <td>0.4980</td>\n",
       "      <td>-2.007</td>\n",
       "      <td>0.0</td>\n",
       "      <td>0.1090</td>\n",
       "      <td>140.118</td>\n",
       "      <td>4.0</td>\n",
       "      <td>0.275</td>\n",
       "    </tr>\n",
       "  </tbody>\n",
       "</table>\n",
       "</div>"
      ],
      "text/plain": [
       "                                      acousticness  danceability  duration_ms  \\\n",
       "spotify:track:000mA0etY38nKdvf1N04af        0.2530         0.300     214507.0   \n",
       "spotify:track:000xQL6tZNLJzIrtIgxqSl        0.1310         0.748     188491.0   \n",
       "spotify:track:006AVH7fq061voGXkUiII4        0.6970         0.491     191573.0   \n",
       "spotify:track:006PJvsr6CyV3JdBf7wiNF        0.1620         0.861     305320.0   \n",
       "spotify:track:006yrnQMCZpiUgkR612gC8        0.0529         0.751     123411.0   \n",
       "\n",
       "                                      energy  instrumentalness   key  \\\n",
       "spotify:track:000mA0etY38nKdvf1N04af   0.630          0.000005  10.0   \n",
       "spotify:track:000xQL6tZNLJzIrtIgxqSl   0.627          0.000000   7.0   \n",
       "spotify:track:006AVH7fq061voGXkUiII4   0.324          0.000000   2.0   \n",
       "spotify:track:006PJvsr6CyV3JdBf7wiNF   0.417          0.000028   0.0   \n",
       "spotify:track:006yrnQMCZpiUgkR612gC8   0.829          0.000076  10.0   \n",
       "\n",
       "                                      liveness  loudness  mode  speechiness  \\\n",
       "spotify:track:000mA0etY38nKdvf1N04af    0.1320    -8.406   1.0       0.0384   \n",
       "spotify:track:000xQL6tZNLJzIrtIgxqSl    0.0852    -6.029   1.0       0.0644   \n",
       "spotify:track:006AVH7fq061voGXkUiII4    0.1350   -10.627   1.0       0.0442   \n",
       "spotify:track:006PJvsr6CyV3JdBf7wiNF    0.1020    -8.083   0.0       0.0437   \n",
       "spotify:track:006yrnQMCZpiUgkR612gC8    0.4980    -2.007   0.0       0.1090   \n",
       "\n",
       "                                        tempo  time_signature  valence  \n",
       "spotify:track:000mA0etY38nKdvf1N04af   77.570             4.0    0.182  \n",
       "spotify:track:000xQL6tZNLJzIrtIgxqSl  120.963             4.0    0.524  \n",
       "spotify:track:006AVH7fq061voGXkUiII4  115.137             5.0    0.123  \n",
       "spotify:track:006PJvsr6CyV3JdBf7wiNF  119.968             4.0    0.235  \n",
       "spotify:track:006yrnQMCZpiUgkR612gC8  140.118             4.0    0.275  "
      ]
     },
     "execution_count": 153,
     "metadata": {},
     "output_type": "execute_result"
    }
   ],
   "source": [
    "audio_df.head()"
   ]
  },
  {
   "cell_type": "code",
   "execution_count": null,
   "metadata": {},
   "outputs": [],
   "source": []
  },
  {
   "cell_type": "code",
   "execution_count": 154,
   "metadata": {},
   "outputs": [],
   "source": [
    "audio_df = audio_df.fillna(0)"
   ]
  },
  {
   "cell_type": "code",
   "execution_count": 155,
   "metadata": {},
   "outputs": [],
   "source": [
    "# normalised panda data frame\n",
    "from sklearn import preprocessing\n",
    "\n",
    "x = audio_df.values #returns a numpy array\n",
    "min_max_scaler = preprocessing.MinMaxScaler()\n",
    "x_scaled = min_max_scaler.fit_transform(x)\n",
    "new_audio_df = pd.DataFrame(x_scaled)\n",
    "new_audio_df.index = audio_df.index\n",
    "audio_df = new_audio_df\n",
    "# new_audio_df.head()"
   ]
  },
  {
   "cell_type": "code",
   "execution_count": 156,
   "metadata": {},
   "outputs": [],
   "source": [
    "def get_track_embedding(track_uri):\n",
    "    return audio_df.loc[track_uri].values"
   ]
  },
  {
   "cell_type": "code",
   "execution_count": 157,
   "metadata": {},
   "outputs": [
    {
     "data": {
      "text/plain": [
       "(13,)"
      ]
     },
     "execution_count": 157,
     "metadata": {},
     "output_type": "execute_result"
    }
   ],
   "source": [
    "get_track_embedding('spotify:track:0uqPG793dkDDN7sCUJJIVC').shape"
   ]
  },
  {
   "cell_type": "code",
   "execution_count": 158,
   "metadata": {},
   "outputs": [],
   "source": [
    "cached_playlist_embedding = {}\n",
    "\n",
    "def get_playlist_embedding(playlist_id):\n",
    "    # check if already in cache \n",
    "    if playlist_id in cached_playlist_embedding:\n",
    "        return cached_playlist_embedding[playlist_id]\n",
    "\n",
    "    embedding_list = []\n",
    "    for i in range(playlist_list[playlist_id]['num_tracks']):\n",
    "        track_uri = playlist_list[playlist_id]['tracks'][i]['track_uri']\n",
    "    #     print(type(track_df.loc[track_uri]))\n",
    "        embedding_list.append(get_track_embedding(track_uri))\n",
    "    embedding = np.mean(embedding_list, axis = 0)\n",
    "    # put in the cache\n",
    "    cached_playlist_embedding[playlist_id] = embedding\n",
    "    return embedding"
   ]
  },
  {
   "cell_type": "code",
   "execution_count": 159,
   "metadata": {},
   "outputs": [],
   "source": [
    "# get_playlist_embedding(0).shape"
   ]
  },
  {
   "cell_type": "code",
   "execution_count": 160,
   "metadata": {},
   "outputs": [],
   "source": [
    "def cal_similarity(playlist_id_1, playlist_id_2):\n",
    "#         similarity = sklearn.metrics.pairwise.cosine_similarity(get_playlist_embedding(playlist_id_1).reshape(1, -1), \n",
    "#                                                                 get_playlist_embedding(playlist_id_2).reshape(1, -1))\n",
    "    similarity = sklearn.metrics.pairwise.euclidean_distances(get_playlist_embedding(playlist_id_1).reshape(1, -1), \n",
    "                                                                get_playlist_embedding(playlist_id_2).reshape(1, -1))\n",
    "#         return similarity[0][0]\n",
    "    return -similarity[0][0]"
   ]
  },
  {
   "cell_type": "code",
   "execution_count": 192,
   "metadata": {},
   "outputs": [],
   "source": [
    "def biased_audio_random_walk_playlist(query,g, beta = 10):\n",
    "    \n",
    "    N = 1000\n",
    "    totSteps = 0\n",
    "    nHighVisited = 0\n",
    "    nt = 200\n",
    "    nv = 5\n",
    "    num_visits = defaultdict(int)\n",
    "    \n",
    "    def weight_cal(edge):\n",
    "        weight = cal_similarity(query,edge)\n",
    "        return weight\n",
    "\n",
    "    while totSteps < N or nHighVisited > nt: \n",
    "        currPlaylist = query\n",
    "        # Number of iterations\n",
    "        currSteps = 5\n",
    "        for i in range(currSteps):\n",
    "            # takes 1 step (from a playlist to track)\n",
    "            edges = list(g.GetNI(currPlaylist).GetOutEdges())\n",
    "            currTrack = random.choice(edges)\n",
    "            # takes 1 step (from a track to playlist)\n",
    "            edges = list(g.GetNI(currTrack).GetOutEdges())\n",
    "#             weights = [f(edge) for edge in edges]\n",
    "            weights = [weight_cal(edge) for edge in edges]\n",
    "            weights_np = np.asarray(weights)\n",
    "\n",
    "# uncomment to do softmax\n",
    "# see https://stackoverflow.com/questions/34968722/how-to-implement-the-softmax-function-in-python\n",
    "#             # this bit makes it more stable numerically\n",
    "            max_weight = np.max(weights_np)\n",
    "            weights_np -= max_weight\n",
    "            # but does not change the answer\n",
    "            weights_np = np.exp(beta * weights_np)\n",
    "\n",
    "            prob_dis = weights_np / float(sum(weights_np))\n",
    "            currPlaylist = int(choice(edges, 1, p=prob_dis))\n",
    "            num_visits[currTrack] += 1\n",
    "            if num_visits[currTrack] == nv:\n",
    "                nHighVisited += 1\n",
    "        totSteps += currSteps\n",
    "    return num_visits"
   ]
  },
  {
   "cell_type": "code",
   "execution_count": 193,
   "metadata": {},
   "outputs": [],
   "source": [
    "def cal_most_visited_playlist(playlist_list, playlist_id):\n",
    "    dropped_track_index = random.choice(range(len(playlist_list[playlist_id])))\n",
    "#         for dropped_track_index in range(len(playlist_list[playlist_id])):\n",
    "    g, dropped_track_id = make_graph_drop_edge(playlist_list, playlist_id, dropped_track_index)\n",
    "#             print('1', playlist_id, dropped_track_id)\n",
    "#             tracks in the playlist graphs where one is dropped\n",
    "    if len(list(g.GetNI(playlist_id).GetOutEdges())) < 5:\n",
    "        return None, None\n",
    "    query = playlist_id\n",
    "    num_visits = biased_audio_random_walk_playlist(query,g)\n",
    "#     num_visits = highest_visited_random_walk_playlist(query, g)\n",
    "#     num_visits =biased_modified_at_random_walk_playlist(query, g)\n",
    "    suggested_ids = sorted(num_visits, key=num_visits.get, reverse=True)\n",
    "    return dropped_track_id, suggested_ids"
   ]
  },
  {
   "cell_type": "code",
   "execution_count": 194,
   "metadata": {},
   "outputs": [
    {
     "data": {
      "application/vnd.jupyter.widget-view+json": {
       "model_id": "bd4f5f6346aa42948639d88b774d1218",
       "version_major": 2,
       "version_minor": 0
      },
      "text/plain": [
       "HBox(children=(IntProgress(value=0, max=1000), HTML(value=u'')))"
      ]
     },
     "metadata": {},
     "output_type": "display_data"
    }
   ],
   "source": [
    "# all_true_ids, all_suggested_ids = cal_most_visited(playlist_list)\n",
    "all_true_ids, all_suggested_ids = process_playlists(cal_most_visited_playlist, playlist_list, multiprocess=False)"
   ]
  },
  {
   "cell_type": "code",
   "execution_count": null,
   "metadata": {},
   "outputs": [],
   "source": [
    "\n",
    "# np.any(audio_df.isna(), axis = 0)"
   ]
  },
  {
   "cell_type": "code",
   "execution_count": null,
   "metadata": {},
   "outputs": [],
   "source": [
    "# help(audio_df.fillna)"
   ]
  },
  {
   "cell_type": "code",
   "execution_count": 195,
   "metadata": {},
   "outputs": [
    {
     "name": "stdout",
     "output_type": "stream",
     "text": [
      "0.142421159715\n"
     ]
    }
   ],
   "source": [
    "avg_precision = cal_ave_precision(600, all_true_ids, all_suggested_ids)\n",
    "print avg_precision"
   ]
  },
  {
   "cell_type": "code",
   "execution_count": null,
   "metadata": {},
   "outputs": [],
   "source": []
  },
  {
   "cell_type": "code",
   "execution_count": 65,
   "metadata": {},
   "outputs": [],
   "source": [
    "import math\n",
    "def dcg(gains):\n",
    "    value = 0\n",
    "    for index, gain in enumerate(gains):\n",
    "        if index == 0:\n",
    "            value += gain\n",
    "        else:\n",
    "            value += gain/math.log(1+index)\n",
    "    return value"
   ]
  },
  {
   "cell_type": "code",
   "execution_count": 66,
   "metadata": {},
   "outputs": [],
   "source": [
    "def ndcg(gains):\n",
    "    ideal_gains = list(sorted(gains))     \n",
    "    ideal_dcg = dcg(ideal_gains)\n",
    "    if ideal_dcg == 0:\n",
    "        return 0.0\n",
    "    real_dcg = dcg(gains)\n",
    "    return real_dcg/ideal_dcg"
   ]
  },
  {
   "cell_type": "code",
   "execution_count": 77,
   "metadata": {},
   "outputs": [],
   "source": [
    "def get_gain(playlist_index, true_index, indices):\n",
    "    gains = []\n",
    "    for index in indices:\n",
    "        if index == true_index:\n",
    "            gains.append(2)\n",
    "        elif is_same_playlist(track_playlists, true_index, index):\n",
    "            gains.append(1)\n",
    "        else:\n",
    "            gains.append(0)\n",
    "    return gains"
   ]
  },
  {
   "cell_type": "code",
   "execution_count": 73,
   "metadata": {},
   "outputs": [],
   "source": [
    "def is_same_playlist(track_playlists, track1, track2):\n",
    "    if track_playlists[track1].intersection(track_playlists[track2]):\n",
    "        return True\n",
    "    return False"
   ]
  },
  {
   "cell_type": "code",
   "execution_count": 74,
   "metadata": {},
   "outputs": [],
   "source": [
    "from collections import defaultdict\n",
    "def make_track_playlists(playlist_list):\n",
    "    track_playlists = defaultdict(set)\n",
    "    for playlist_index, playlist in enumerate(playlist_list):\n",
    "        for track_uri in get_tracks(playlist):\n",
    "            track_playlists[track_uri].add(playlist_index)\n",
    "    return track_playlists\n",
    "\n",
    "limited_playlist_list = playlist_list[:1000]\n",
    "track_playlists = make_track_playlists(limited_playlist_list)"
   ]
  },
  {
   "cell_type": "code",
   "execution_count": 75,
   "metadata": {},
   "outputs": [],
   "source": [
    "def cal_ndcg(track_playlists, all_true_indices, all_indices):\n",
    "    result = 0\n",
    "    count = 0\n",
    "    for true_index, indices in zip(all_true_indices, all_indices):\n",
    "        playlist_index = count\n",
    "        gains = get_gain(playlist_index, true_index, indices[0,:])\n",
    "        result += ndcg(gains)\n",
    "        count += 1\n",
    "    return result / count"
   ]
  },
  {
   "cell_type": "code",
   "execution_count": 76,
   "metadata": {},
   "outputs": [
    {
     "data": {
      "text/plain": [
       "0.24178949260357807"
      ]
     },
     "execution_count": 76,
     "metadata": {},
     "output_type": "execute_result"
    }
   ],
   "source": [
    "all_suggested_ids_np = [np.array(all_suggested_id).reshape(1,-1)\n",
    "                        for all_suggested_id in all_suggested_ids]\n",
    "cal_ndcg(track_playlists, all_true_ids, all_suggested_ids_np)"
   ]
  },
  {
   "cell_type": "code",
   "execution_count": null,
   "metadata": {},
   "outputs": [],
   "source": []
  },
  {
   "cell_type": "code",
   "execution_count": 191,
   "metadata": {},
   "outputs": [
    {
     "data": {
      "image/png": "[encoded data removed]",
      "text/plain": [
       "<Figure size 432x288 with 1 Axes>"
      ]
     },
     "metadata": {},
     "output_type": "display_data"
    }
   ],
   "source": [
    "import matplotlib.pyplot as plt\n",
    "\n",
    "weights = [cal_similarity(0, 1+i) for i in range(10)]\n",
    "weights_np = np.asarray(weights)\n",
    "prob_dis = weights_np / float(sum(weights_np))\n",
    "plt.plot(prob_dis, label=\"flat\")\n",
    "for beta in [1,2,5,10]:\n",
    "    weights_np = np.asarray(weights)\n",
    "    # this bit makes it more stable numerically\n",
    "    max_weight = np.max(weights_np)\n",
    "    weights_np -= max_weight\n",
    "    # but does not change the answer\n",
    "    weights_np = np.exp(beta * weights_np)\n",
    "\n",
    "    prob_dis = weights_np / float(sum(weights_np))\n",
    "    plt.plot(prob_dis, label=\"beta=\" + str(beta))\n",
    "plt.legend()\n",
    "plt.show()"
   ]
  },
  {
   "cell_type": "code",
   "execution_count": 171,
   "metadata": {},
   "outputs": [
    {
     "data": {
      "text/plain": [
       "[-0.39295434296111453,\n",
       " -0.28679903057623057,\n",
       " -0.41229439175583665,\n",
       " -0.33429634733961316,\n",
       " -0.12960032785052511,\n",
       " -0.25774752428243652,\n",
       " -0.52556115256711322,\n",
       " -0.24848170252534185,\n",
       " -0.31241152462882471,\n",
       " -0.28682671730932702]"
      ]
     },
     "execution_count": 171,
     "metadata": {},
     "output_type": "execute_result"
    }
   ],
   "source": [
    "weights"
   ]
  },
  {
   "cell_type": "code",
   "execution_count": null,
   "metadata": {},
   "outputs": [],
   "source": []
  }
 ],
 "metadata": {
  "kernelspec": {
   "display_name": "Python 2",
   "language": "python",
   "name": "python2"
  },
  "language_info": {
   "codemirror_mode": {
    "name": "ipython",
    "version": 2
   },
   "file_extension": ".py",
   "mimetype": "text/x-python",
   "name": "python",
   "nbconvert_exporter": "python",
   "pygments_lexer": "ipython2",
   "version": "2.7.10"
  }
 },
 "nbformat": 4,
 "nbformat_minor": 2
}
