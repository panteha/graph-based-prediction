{
 "cells": [
  {
   "cell_type": "code",
   "execution_count": 95,
   "metadata": {},
   "outputs": [
    {
     "data": {
      "text/plain": [
       "<module 'playlist' from 'playlist.pyc'>"
      ]
     },
     "execution_count": 95,
     "metadata": {},
     "output_type": "execute_result"
    }
   ],
   "source": [
    "import json\n",
    "import numpy as np\n",
    "import sklearn\n",
    "import sklearn.metrics\n",
    "import seaborn as sns\n",
    "import matplotlib.pyplot as plt\n",
    "import pandas as pd\n",
    "import datetime\n",
    "import snap\n",
    "import random\n",
    "from numpy.random import choice\n",
    "import numpy as np\n",
    "from collections import defaultdict\n",
    "# from playlist import *\n",
    "import playlist\n",
    "reload(playlist)"
   ]
  },
  {
   "cell_type": "code",
   "execution_count": 96,
   "metadata": {},
   "outputs": [],
   "source": [
    "playlist_list = playlist.get_playlist_list()"
   ]
  },
  {
   "cell_type": "code",
   "execution_count": 97,
   "metadata": {},
   "outputs": [
    {
     "data": {
      "text/plain": [
       "1000"
      ]
     },
     "execution_count": 97,
     "metadata": {},
     "output_type": "execute_result"
    }
   ],
   "source": [
    "len(playlist_list)"
   ]
  },
  {
   "cell_type": "code",
   "execution_count": 98,
   "metadata": {},
   "outputs": [],
   "source": [
    "track_list = set([])\n",
    "for i in range(len(playlist_list)):\n",
    "    for j in range(playlist_list[i]['num_tracks']):\n",
    "        track_uri = playlist_list[i]['tracks'][j]['track_uri']\n",
    "        track_list.add(track_uri)\n",
    "track_list = list(sorted(track_list))\n",
    "track_order_dict = dict(zip(track_list, range(len(track_list))))"
   ]
  },
  {
   "cell_type": "code",
   "execution_count": 99,
   "metadata": {},
   "outputs": [
    {
     "data": {
      "text/plain": [
       "34443"
      ]
     },
     "execution_count": 99,
     "metadata": {},
     "output_type": "execute_result"
    }
   ],
   "source": [
    "len(track_list)"
   ]
  },
  {
   "cell_type": "code",
   "execution_count": 100,
   "metadata": {},
   "outputs": [
    {
     "data": {
      "text/plain": [
       "(1000, 34443)"
      ]
     },
     "execution_count": 100,
     "metadata": {},
     "output_type": "execute_result"
    }
   ],
   "source": [
    "feature_matrix = np.zeros((len(playlist_list), len(track_list)))\n",
    "feature_matrix.shape"
   ]
  },
  {
   "cell_type": "code",
   "execution_count": 101,
   "metadata": {},
   "outputs": [],
   "source": [
    "for i in range(len(playlist_list)):\n",
    "    for j in range(playlist_list[i]['num_tracks']):\n",
    "        track_uri = playlist_list[i]['tracks'][j]['track_uri']\n",
    "        k = track_order_dict[track_uri]\n",
    "        feature_matrix[i][k] = 1    "
   ]
  },
  {
   "cell_type": "code",
   "execution_count": 102,
   "metadata": {},
   "outputs": [],
   "source": [
    "# if 1 in feature_matrix[:, :]:\n",
    "#     print\"1\""
   ]
  },
  {
   "cell_type": "code",
   "execution_count": 77,
   "metadata": {},
   "outputs": [],
   "source": [
    "from sklearn.decomposition import NMF\n",
    "model = NMF(n_components=100, init='random', random_state=0)\n",
    "W = model.fit_transform(feature_matrix)\n",
    "H = model.components_"
   ]
  },
  {
   "cell_type": "code",
   "execution_count": 78,
   "metadata": {},
   "outputs": [
    {
     "data": {
      "text/plain": [
       "213.38288469030252"
      ]
     },
     "execution_count": 78,
     "metadata": {},
     "output_type": "execute_result"
    }
   ],
   "source": [
    "model.reconstruction_err_"
   ]
  },
  {
   "cell_type": "code",
   "execution_count": 79,
   "metadata": {},
   "outputs": [],
   "source": [
    "import gzip\n",
    "import pickle\n",
    "\n",
    "with gzip.open('track_H_1k_100n.pickle.gz','wb') as output:\n",
    "    pickle.dump(H ,output)"
   ]
  },
  {
   "cell_type": "code",
   "execution_count": 103,
   "metadata": {},
   "outputs": [],
   "source": [
    "with gzip.open(\"track_H_1k_30n.pickle.gz\", \"rb\") as inp:\n",
    "    H = pickle.load(inp)"
   ]
  },
  {
   "cell_type": "code",
   "execution_count": 104,
   "metadata": {},
   "outputs": [
    {
     "data": {
      "text/plain": [
       "(1000, 100)"
      ]
     },
     "execution_count": 104,
     "metadata": {},
     "output_type": "execute_result"
    }
   ],
   "source": [
    "W.shape"
   ]
  },
  {
   "cell_type": "code",
   "execution_count": 105,
   "metadata": {},
   "outputs": [
    {
     "data": {
      "text/plain": [
       "(30, 34443)"
      ]
     },
     "execution_count": 105,
     "metadata": {},
     "output_type": "execute_result"
    }
   ],
   "source": [
    "H.shape"
   ]
  },
  {
   "cell_type": "code",
   "execution_count": 106,
   "metadata": {},
   "outputs": [
    {
     "data": {
      "text/plain": [
       "(34443, 30)"
      ]
     },
     "execution_count": 106,
     "metadata": {},
     "output_type": "execute_result"
    }
   ],
   "source": [
    "(H.T).shape"
   ]
  },
  {
   "cell_type": "code",
   "execution_count": 107,
   "metadata": {},
   "outputs": [],
   "source": [
    "track_H_df = pd.DataFrame(data=H.T, index = track_list)"
   ]
  },
  {
   "cell_type": "code",
   "execution_count": 108,
   "metadata": {},
   "outputs": [
    {
     "data": {
      "text/html": [
       "<div>\n",
       "<style scoped>\n",
       "    .dataframe tbody tr th:only-of-type {\n",
       "        vertical-align: middle;\n",
       "    }\n",
       "\n",
       "    .dataframe tbody tr th {\n",
       "        vertical-align: top;\n",
       "    }\n",
       "\n",
       "    .dataframe thead th {\n",
       "        text-align: right;\n",
       "    }\n",
       "</style>\n",
       "<table border=\"1\" class=\"dataframe\">\n",
       "  <thead>\n",
       "    <tr style=\"text-align: right;\">\n",
       "      <th></th>\n",
       "      <th>0</th>\n",
       "      <th>1</th>\n",
       "      <th>2</th>\n",
       "      <th>3</th>\n",
       "      <th>4</th>\n",
       "      <th>5</th>\n",
       "      <th>6</th>\n",
       "      <th>7</th>\n",
       "      <th>8</th>\n",
       "      <th>9</th>\n",
       "      <th>...</th>\n",
       "      <th>20</th>\n",
       "      <th>21</th>\n",
       "      <th>22</th>\n",
       "      <th>23</th>\n",
       "      <th>24</th>\n",
       "      <th>25</th>\n",
       "      <th>26</th>\n",
       "      <th>27</th>\n",
       "      <th>28</th>\n",
       "      <th>29</th>\n",
       "    </tr>\n",
       "  </thead>\n",
       "  <tbody>\n",
       "    <tr>\n",
       "      <th>spotify:track:000mA0etY38nKdvf1N04af</th>\n",
       "      <td>0.0</td>\n",
       "      <td>0.000000</td>\n",
       "      <td>0.000000</td>\n",
       "      <td>0.0</td>\n",
       "      <td>0.000000</td>\n",
       "      <td>0.0</td>\n",
       "      <td>0.000000</td>\n",
       "      <td>0.000000</td>\n",
       "      <td>0.0</td>\n",
       "      <td>0.0</td>\n",
       "      <td>...</td>\n",
       "      <td>0.000000</td>\n",
       "      <td>0.0</td>\n",
       "      <td>0.000000</td>\n",
       "      <td>0.0</td>\n",
       "      <td>0.0</td>\n",
       "      <td>0.0</td>\n",
       "      <td>0.000000</td>\n",
       "      <td>0.0</td>\n",
       "      <td>0.0</td>\n",
       "      <td>0.000000</td>\n",
       "    </tr>\n",
       "    <tr>\n",
       "      <th>spotify:track:000xQL6tZNLJzIrtIgxqSl</th>\n",
       "      <td>0.0</td>\n",
       "      <td>0.097767</td>\n",
       "      <td>0.023119</td>\n",
       "      <td>0.0</td>\n",
       "      <td>0.033683</td>\n",
       "      <td>0.0</td>\n",
       "      <td>0.000000</td>\n",
       "      <td>0.000000</td>\n",
       "      <td>0.0</td>\n",
       "      <td>0.0</td>\n",
       "      <td>...</td>\n",
       "      <td>0.000000</td>\n",
       "      <td>0.0</td>\n",
       "      <td>0.000000</td>\n",
       "      <td>0.0</td>\n",
       "      <td>0.0</td>\n",
       "      <td>0.0</td>\n",
       "      <td>0.000000</td>\n",
       "      <td>0.0</td>\n",
       "      <td>0.0</td>\n",
       "      <td>0.000000</td>\n",
       "    </tr>\n",
       "    <tr>\n",
       "      <th>spotify:track:006AVH7fq061voGXkUiII4</th>\n",
       "      <td>0.0</td>\n",
       "      <td>0.000425</td>\n",
       "      <td>0.000000</td>\n",
       "      <td>0.0</td>\n",
       "      <td>0.000000</td>\n",
       "      <td>0.0</td>\n",
       "      <td>0.000000</td>\n",
       "      <td>0.000000</td>\n",
       "      <td>0.0</td>\n",
       "      <td>0.0</td>\n",
       "      <td>...</td>\n",
       "      <td>0.000000</td>\n",
       "      <td>0.0</td>\n",
       "      <td>0.001429</td>\n",
       "      <td>0.0</td>\n",
       "      <td>0.0</td>\n",
       "      <td>0.0</td>\n",
       "      <td>0.000182</td>\n",
       "      <td>0.0</td>\n",
       "      <td>0.0</td>\n",
       "      <td>0.000000</td>\n",
       "    </tr>\n",
       "    <tr>\n",
       "      <th>spotify:track:006PJvsr6CyV3JdBf7wiNF</th>\n",
       "      <td>0.0</td>\n",
       "      <td>0.000000</td>\n",
       "      <td>0.000000</td>\n",
       "      <td>0.0</td>\n",
       "      <td>0.622206</td>\n",
       "      <td>0.0</td>\n",
       "      <td>0.000104</td>\n",
       "      <td>0.000000</td>\n",
       "      <td>0.0</td>\n",
       "      <td>0.0</td>\n",
       "      <td>...</td>\n",
       "      <td>0.000389</td>\n",
       "      <td>0.0</td>\n",
       "      <td>0.000000</td>\n",
       "      <td>0.0</td>\n",
       "      <td>0.0</td>\n",
       "      <td>0.0</td>\n",
       "      <td>0.000000</td>\n",
       "      <td>0.0</td>\n",
       "      <td>0.0</td>\n",
       "      <td>0.000000</td>\n",
       "    </tr>\n",
       "    <tr>\n",
       "      <th>spotify:track:006yrnQMCZpiUgkR612gC8</th>\n",
       "      <td>0.0</td>\n",
       "      <td>0.000000</td>\n",
       "      <td>0.000000</td>\n",
       "      <td>0.0</td>\n",
       "      <td>0.000000</td>\n",
       "      <td>0.0</td>\n",
       "      <td>0.000000</td>\n",
       "      <td>0.019741</td>\n",
       "      <td>0.0</td>\n",
       "      <td>0.0</td>\n",
       "      <td>...</td>\n",
       "      <td>0.000000</td>\n",
       "      <td>0.0</td>\n",
       "      <td>0.000000</td>\n",
       "      <td>0.0</td>\n",
       "      <td>0.0</td>\n",
       "      <td>0.0</td>\n",
       "      <td>0.000000</td>\n",
       "      <td>0.0</td>\n",
       "      <td>0.0</td>\n",
       "      <td>0.027449</td>\n",
       "    </tr>\n",
       "  </tbody>\n",
       "</table>\n",
       "<p>5 rows × 30 columns</p>\n",
       "</div>"
      ],
      "text/plain": [
       "                                       0         1         2    3         4   \\\n",
       "spotify:track:000mA0etY38nKdvf1N04af  0.0  0.000000  0.000000  0.0  0.000000   \n",
       "spotify:track:000xQL6tZNLJzIrtIgxqSl  0.0  0.097767  0.023119  0.0  0.033683   \n",
       "spotify:track:006AVH7fq061voGXkUiII4  0.0  0.000425  0.000000  0.0  0.000000   \n",
       "spotify:track:006PJvsr6CyV3JdBf7wiNF  0.0  0.000000  0.000000  0.0  0.622206   \n",
       "spotify:track:006yrnQMCZpiUgkR612gC8  0.0  0.000000  0.000000  0.0  0.000000   \n",
       "\n",
       "                                       5         6         7    8    9   \\\n",
       "spotify:track:000mA0etY38nKdvf1N04af  0.0  0.000000  0.000000  0.0  0.0   \n",
       "spotify:track:000xQL6tZNLJzIrtIgxqSl  0.0  0.000000  0.000000  0.0  0.0   \n",
       "spotify:track:006AVH7fq061voGXkUiII4  0.0  0.000000  0.000000  0.0  0.0   \n",
       "spotify:track:006PJvsr6CyV3JdBf7wiNF  0.0  0.000104  0.000000  0.0  0.0   \n",
       "spotify:track:006yrnQMCZpiUgkR612gC8  0.0  0.000000  0.019741  0.0  0.0   \n",
       "\n",
       "                                        ...           20   21        22   23  \\\n",
       "spotify:track:000mA0etY38nKdvf1N04af    ...     0.000000  0.0  0.000000  0.0   \n",
       "spotify:track:000xQL6tZNLJzIrtIgxqSl    ...     0.000000  0.0  0.000000  0.0   \n",
       "spotify:track:006AVH7fq061voGXkUiII4    ...     0.000000  0.0  0.001429  0.0   \n",
       "spotify:track:006PJvsr6CyV3JdBf7wiNF    ...     0.000389  0.0  0.000000  0.0   \n",
       "spotify:track:006yrnQMCZpiUgkR612gC8    ...     0.000000  0.0  0.000000  0.0   \n",
       "\n",
       "                                       24   25        26   27   28        29  \n",
       "spotify:track:000mA0etY38nKdvf1N04af  0.0  0.0  0.000000  0.0  0.0  0.000000  \n",
       "spotify:track:000xQL6tZNLJzIrtIgxqSl  0.0  0.0  0.000000  0.0  0.0  0.000000  \n",
       "spotify:track:006AVH7fq061voGXkUiII4  0.0  0.0  0.000182  0.0  0.0  0.000000  \n",
       "spotify:track:006PJvsr6CyV3JdBf7wiNF  0.0  0.0  0.000000  0.0  0.0  0.000000  \n",
       "spotify:track:006yrnQMCZpiUgkR612gC8  0.0  0.0  0.000000  0.0  0.0  0.027449  \n",
       "\n",
       "[5 rows x 30 columns]"
      ]
     },
     "execution_count": 108,
     "metadata": {},
     "output_type": "execute_result"
    }
   ],
   "source": [
    "track_H_df.head()"
   ]
  },
  {
   "cell_type": "code",
   "execution_count": 109,
   "metadata": {},
   "outputs": [
    {
     "data": {
      "text/html": [
       "<div>\n",
       "<style scoped>\n",
       "    .dataframe tbody tr th:only-of-type {\n",
       "        vertical-align: middle;\n",
       "    }\n",
       "\n",
       "    .dataframe tbody tr th {\n",
       "        vertical-align: top;\n",
       "    }\n",
       "\n",
       "    .dataframe thead th {\n",
       "        text-align: right;\n",
       "    }\n",
       "</style>\n",
       "<table border=\"1\" class=\"dataframe\">\n",
       "  <thead>\n",
       "    <tr style=\"text-align: right;\">\n",
       "      <th></th>\n",
       "      <th>0</th>\n",
       "      <th>1</th>\n",
       "      <th>2</th>\n",
       "      <th>3</th>\n",
       "      <th>4</th>\n",
       "      <th>5</th>\n",
       "      <th>6</th>\n",
       "      <th>7</th>\n",
       "      <th>8</th>\n",
       "      <th>9</th>\n",
       "      <th>...</th>\n",
       "      <th>20</th>\n",
       "      <th>21</th>\n",
       "      <th>22</th>\n",
       "      <th>23</th>\n",
       "      <th>24</th>\n",
       "      <th>25</th>\n",
       "      <th>26</th>\n",
       "      <th>27</th>\n",
       "      <th>28</th>\n",
       "      <th>29</th>\n",
       "    </tr>\n",
       "  </thead>\n",
       "  <tbody>\n",
       "    <tr>\n",
       "      <th>spotify:track:000mA0etY38nKdvf1N04af</th>\n",
       "      <td>0.0</td>\n",
       "      <td>0.000000</td>\n",
       "      <td>0.000000</td>\n",
       "      <td>0.0</td>\n",
       "      <td>0.000000</td>\n",
       "      <td>0.0</td>\n",
       "      <td>0.000000</td>\n",
       "      <td>0.000000</td>\n",
       "      <td>0.0</td>\n",
       "      <td>0.0</td>\n",
       "      <td>...</td>\n",
       "      <td>0.000000</td>\n",
       "      <td>0.0</td>\n",
       "      <td>0.000000</td>\n",
       "      <td>0.0</td>\n",
       "      <td>0.0</td>\n",
       "      <td>0.0</td>\n",
       "      <td>0.000000</td>\n",
       "      <td>0.0</td>\n",
       "      <td>0.0</td>\n",
       "      <td>0.000000</td>\n",
       "    </tr>\n",
       "    <tr>\n",
       "      <th>spotify:track:000xQL6tZNLJzIrtIgxqSl</th>\n",
       "      <td>0.0</td>\n",
       "      <td>0.160165</td>\n",
       "      <td>0.016014</td>\n",
       "      <td>0.0</td>\n",
       "      <td>0.013145</td>\n",
       "      <td>0.0</td>\n",
       "      <td>0.000000</td>\n",
       "      <td>0.000000</td>\n",
       "      <td>0.0</td>\n",
       "      <td>0.0</td>\n",
       "      <td>...</td>\n",
       "      <td>0.000000</td>\n",
       "      <td>0.0</td>\n",
       "      <td>0.000000</td>\n",
       "      <td>0.0</td>\n",
       "      <td>0.0</td>\n",
       "      <td>0.0</td>\n",
       "      <td>0.000000</td>\n",
       "      <td>0.0</td>\n",
       "      <td>0.0</td>\n",
       "      <td>0.000000</td>\n",
       "    </tr>\n",
       "    <tr>\n",
       "      <th>spotify:track:006AVH7fq061voGXkUiII4</th>\n",
       "      <td>0.0</td>\n",
       "      <td>0.000695</td>\n",
       "      <td>0.000000</td>\n",
       "      <td>0.0</td>\n",
       "      <td>0.000000</td>\n",
       "      <td>0.0</td>\n",
       "      <td>0.000000</td>\n",
       "      <td>0.000000</td>\n",
       "      <td>0.0</td>\n",
       "      <td>0.0</td>\n",
       "      <td>...</td>\n",
       "      <td>0.000000</td>\n",
       "      <td>0.0</td>\n",
       "      <td>0.000453</td>\n",
       "      <td>0.0</td>\n",
       "      <td>0.0</td>\n",
       "      <td>0.0</td>\n",
       "      <td>0.000142</td>\n",
       "      <td>0.0</td>\n",
       "      <td>0.0</td>\n",
       "      <td>0.000000</td>\n",
       "    </tr>\n",
       "    <tr>\n",
       "      <th>spotify:track:006PJvsr6CyV3JdBf7wiNF</th>\n",
       "      <td>0.0</td>\n",
       "      <td>0.000000</td>\n",
       "      <td>0.000000</td>\n",
       "      <td>0.0</td>\n",
       "      <td>0.242820</td>\n",
       "      <td>0.0</td>\n",
       "      <td>0.000055</td>\n",
       "      <td>0.000000</td>\n",
       "      <td>0.0</td>\n",
       "      <td>0.0</td>\n",
       "      <td>...</td>\n",
       "      <td>0.000268</td>\n",
       "      <td>0.0</td>\n",
       "      <td>0.000000</td>\n",
       "      <td>0.0</td>\n",
       "      <td>0.0</td>\n",
       "      <td>0.0</td>\n",
       "      <td>0.000000</td>\n",
       "      <td>0.0</td>\n",
       "      <td>0.0</td>\n",
       "      <td>0.000000</td>\n",
       "    </tr>\n",
       "    <tr>\n",
       "      <th>spotify:track:006yrnQMCZpiUgkR612gC8</th>\n",
       "      <td>0.0</td>\n",
       "      <td>0.000000</td>\n",
       "      <td>0.000000</td>\n",
       "      <td>0.0</td>\n",
       "      <td>0.000000</td>\n",
       "      <td>0.0</td>\n",
       "      <td>0.000000</td>\n",
       "      <td>0.006634</td>\n",
       "      <td>0.0</td>\n",
       "      <td>0.0</td>\n",
       "      <td>...</td>\n",
       "      <td>0.000000</td>\n",
       "      <td>0.0</td>\n",
       "      <td>0.000000</td>\n",
       "      <td>0.0</td>\n",
       "      <td>0.0</td>\n",
       "      <td>0.0</td>\n",
       "      <td>0.000000</td>\n",
       "      <td>0.0</td>\n",
       "      <td>0.0</td>\n",
       "      <td>0.012479</td>\n",
       "    </tr>\n",
       "  </tbody>\n",
       "</table>\n",
       "<p>5 rows × 30 columns</p>\n",
       "</div>"
      ],
      "text/plain": [
       "                                       0         1         2    3         4   \\\n",
       "spotify:track:000mA0etY38nKdvf1N04af  0.0  0.000000  0.000000  0.0  0.000000   \n",
       "spotify:track:000xQL6tZNLJzIrtIgxqSl  0.0  0.160165  0.016014  0.0  0.013145   \n",
       "spotify:track:006AVH7fq061voGXkUiII4  0.0  0.000695  0.000000  0.0  0.000000   \n",
       "spotify:track:006PJvsr6CyV3JdBf7wiNF  0.0  0.000000  0.000000  0.0  0.242820   \n",
       "spotify:track:006yrnQMCZpiUgkR612gC8  0.0  0.000000  0.000000  0.0  0.000000   \n",
       "\n",
       "                                       5         6         7    8    9   \\\n",
       "spotify:track:000mA0etY38nKdvf1N04af  0.0  0.000000  0.000000  0.0  0.0   \n",
       "spotify:track:000xQL6tZNLJzIrtIgxqSl  0.0  0.000000  0.000000  0.0  0.0   \n",
       "spotify:track:006AVH7fq061voGXkUiII4  0.0  0.000000  0.000000  0.0  0.0   \n",
       "spotify:track:006PJvsr6CyV3JdBf7wiNF  0.0  0.000055  0.000000  0.0  0.0   \n",
       "spotify:track:006yrnQMCZpiUgkR612gC8  0.0  0.000000  0.006634  0.0  0.0   \n",
       "\n",
       "                                        ...           20   21        22   23  \\\n",
       "spotify:track:000mA0etY38nKdvf1N04af    ...     0.000000  0.0  0.000000  0.0   \n",
       "spotify:track:000xQL6tZNLJzIrtIgxqSl    ...     0.000000  0.0  0.000000  0.0   \n",
       "spotify:track:006AVH7fq061voGXkUiII4    ...     0.000000  0.0  0.000453  0.0   \n",
       "spotify:track:006PJvsr6CyV3JdBf7wiNF    ...     0.000268  0.0  0.000000  0.0   \n",
       "spotify:track:006yrnQMCZpiUgkR612gC8    ...     0.000000  0.0  0.000000  0.0   \n",
       "\n",
       "                                       24   25        26   27   28        29  \n",
       "spotify:track:000mA0etY38nKdvf1N04af  0.0  0.0  0.000000  0.0  0.0  0.000000  \n",
       "spotify:track:000xQL6tZNLJzIrtIgxqSl  0.0  0.0  0.000000  0.0  0.0  0.000000  \n",
       "spotify:track:006AVH7fq061voGXkUiII4  0.0  0.0  0.000142  0.0  0.0  0.000000  \n",
       "spotify:track:006PJvsr6CyV3JdBf7wiNF  0.0  0.0  0.000000  0.0  0.0  0.000000  \n",
       "spotify:track:006yrnQMCZpiUgkR612gC8  0.0  0.0  0.000000  0.0  0.0  0.012479  \n",
       "\n",
       "[5 rows x 30 columns]"
      ]
     },
     "execution_count": 109,
     "metadata": {},
     "output_type": "execute_result"
    }
   ],
   "source": [
    "track_H_df = playlist.normalize_dataframe(track_H_df)\n",
    "track_H_df.head()"
   ]
  },
  {
   "cell_type": "code",
   "execution_count": 110,
   "metadata": {},
   "outputs": [],
   "source": [
    "def get_track_embedding(track_uri):\n",
    "    return track_H_df.loc[track_uri].values"
   ]
  },
  {
   "cell_type": "code",
   "execution_count": 111,
   "metadata": {},
   "outputs": [],
   "source": [
    "cached_playlist_embedding = {}\n",
    "\n",
    "def get_playlist_embedding(playlist_id):\n",
    "    # check if already in cache \n",
    "    if playlist_id in cached_playlist_embedding:\n",
    "        return cached_playlist_embedding[playlist_id]\n",
    "\n",
    "    embedding_list = []\n",
    "    for i in range(playlist_list[playlist_id]['num_tracks']):\n",
    "        track_uri = playlist_list[playlist_id]['tracks'][i]['track_uri']\n",
    "    #     print(type(track_df.loc[track_uri]))\n",
    "        embedding_list.append(get_track_embedding(track_uri))\n",
    "    embedding = np.mean(embedding_list, axis = 0)\n",
    "    # put in the cache\n",
    "    cached_playlist_embedding[playlist_id] = embedding\n",
    "    return embedding"
   ]
  },
  {
   "cell_type": "code",
   "execution_count": 112,
   "metadata": {},
   "outputs": [],
   "source": [
    "def cal_cos_similarity(playlist_id_1, playlist_id_2):\n",
    "        similarity = sklearn.metrics.pairwise.cosine_similarity(get_playlist_embedding(playlist_id_1).reshape(1, -1), \n",
    "                                                                get_playlist_embedding(playlist_id_2).reshape(1, -1))\n",
    "#     similarity = sklearn.metrics.pairwise.euclidean_distances(get_playlist_embedding(playlist_id_1).reshape(1, -1), \n",
    "#                                                                 get_playlist_embedding(playlist_id_2).reshape(1, -1))\n",
    "        return similarity[0][0]\n",
    "#     return -similarity[0][0]"
   ]
  },
  {
   "cell_type": "code",
   "execution_count": 113,
   "metadata": {},
   "outputs": [],
   "source": [
    "def biased_H_random_walk_playlist(query,g, beta = 1):\n",
    "    \n",
    "    N = 1000\n",
    "    totSteps = 0\n",
    "    nHighVisited = 0\n",
    "    nt = 200\n",
    "    nv = 5\n",
    "    num_visits = defaultdict(int)\n",
    "    \n",
    "    def weight_cal(edge):\n",
    "        weight = cal_cos_similarity(query,edge)\n",
    "        return weight\n",
    "\n",
    "    while totSteps < N or nHighVisited > nt: \n",
    "        currPlaylist = query\n",
    "        # Number of iterations\n",
    "        currSteps = 5\n",
    "        for i in range(currSteps):\n",
    "            # takes 1 step (from a playlist to track)\n",
    "            edges = list(g.GetNI(currPlaylist).GetOutEdges())\n",
    "            currTrack = random.choice(edges)\n",
    "            # takes 1 step (from a track to playlist)\n",
    "            edges = list(g.GetNI(currTrack).GetOutEdges())\n",
    "#             weights = [f(edge) for edge in edges]\n",
    "            weights = [weight_cal(edge) for edge in edges]\n",
    "            weights_np = np.asarray(weights)\n",
    "\n",
    "# uncomment to do softmax\n",
    "# see https://stackoverflow.com/questions/34968722/how-to-implement-the-softmax-function-in-python\n",
    "#             # this bit makes it more stable numerically\n",
    "            max_weight = np.max(weights_np)\n",
    "            weights_np -= max_weight\n",
    "            # but does not change the answer\n",
    "            weights_np = np.exp(beta * weights_np)\n",
    "\n",
    "            prob_dis = weights_np / float(sum(weights_np))\n",
    "            currPlaylist = int(choice(edges, 1, p=prob_dis))\n",
    "            num_visits[currTrack] += 1\n",
    "            if num_visits[currTrack] == nv:\n",
    "                nHighVisited += 1\n",
    "        totSteps += currSteps\n",
    "    return num_visits"
   ]
  },
  {
   "cell_type": "code",
   "execution_count": 114,
   "metadata": {},
   "outputs": [],
   "source": [
    "def cal_most_visited_playlist(playlist_list, playlist_id):\n",
    "    dropped_track_index = random.choice(range(len(playlist_list[playlist_id])))\n",
    "#         for dropped_track_index in range(len(playlist_list[playlist_id])):\n",
    "    g, dropped_track_id = playlist.make_graph_drop_edge(playlist_list, playlist_id, dropped_track_index)\n",
    "#             print('1', playlist_id, dropped_track_id)\n",
    "#             tracks in the playlist graphs where one is dropped\n",
    "    if len(list(g.GetNI(playlist_id).GetOutEdges())) < 5:\n",
    "        return None, None\n",
    "    query = playlist_id\n",
    "    num_visits = biased_H_random_walk_playlist(query,g)\n",
    "#     num_visits = biased_audio_random_walk_playlist(query,g)\n",
    "#     num_visits = highest_visited_random_walk_playlist(query, g)\n",
    "#     num_visits =biased_modified_at_random_walk_playlist(query, g)\n",
    "    suggested_ids = sorted(num_visits, key=num_visits.get, reverse=True)\n",
    "    return dropped_track_id, suggested_ids"
   ]
  },
  {
   "cell_type": "code",
   "execution_count": 115,
   "metadata": {},
   "outputs": [
    {
     "data": {
      "application/vnd.jupyter.widget-view+json": {
       "model_id": "98edfdb2e33f434fbba11543625c51dd",
       "version_major": 2,
       "version_minor": 0
      },
      "text/plain": [
       "HBox(children=(IntProgress(value=0, max=1000), HTML(value=u'')))"
      ]
     },
     "metadata": {},
     "output_type": "display_data"
    }
   ],
   "source": [
    "# all_true_ids, all_suggested_ids = cal_most_visited(playlist_list)\n",
    "all_true_ids, all_suggested_ids = playlist.process_playlists(cal_most_visited_playlist, playlist_list, multiprocess=False)"
   ]
  },
  {
   "cell_type": "code",
   "execution_count": 116,
   "metadata": {},
   "outputs": [
    {
     "name": "stdout",
     "output_type": "stream",
     "text": [
      "0.17125382263\n"
     ]
    }
   ],
   "source": [
    "avg_precision = playlist.cal_ave_precision(600, all_true_ids, all_suggested_ids)\n",
    "print avg_precision"
   ]
  },
  {
   "cell_type": "code",
   "execution_count": null,
   "metadata": {},
   "outputs": [],
   "source": []
  }
 ],
 "metadata": {
  "kernelspec": {
   "display_name": "Python 2",
   "language": "python",
   "name": "python2"
  },
  "language_info": {
   "codemirror_mode": {
    "name": "ipython",
    "version": 2
   },
   "file_extension": ".py",
   "mimetype": "text/x-python",
   "name": "python",
   "nbconvert_exporter": "python",
   "pygments_lexer": "ipython2",
   "version": "2.7.10"
  }
 },
 "nbformat": 4,
 "nbformat_minor": 2
}
