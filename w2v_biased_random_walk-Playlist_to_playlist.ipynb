{
 "cells": [
  {
   "cell_type": "code",
   "execution_count": 5,
   "metadata": {},
   "outputs": [],
   "source": [
    "import json\n",
    "import numpy as np\n",
    "import sklearn\n",
    "import sklearn.metrics\n",
    "import seaborn as sns\n",
    "import matplotlib.pyplot as plt\n",
    "import pandas as pd\n",
    "import datetime\n",
    "import snap\n",
    "import random\n",
    "from numpy.random import choice\n",
    "import numpy as np\n",
    "from collections import defaultdict\n",
    "import os\n",
    "from playlist import *\n",
    "data_dir = \"/Users/pani/mpd/data/\"\n",
    "# import playlist\n",
    "# reload(playlist)\n",
    "# but must put playlist in front of the functions from playlist"
   ]
  },
  {
   "cell_type": "code",
   "execution_count": 6,
   "metadata": {},
   "outputs": [],
   "source": [
    "data_files = list(sorted(os.listdir(data_dir)))"
   ]
  },
  {
   "cell_type": "code",
   "execution_count": 8,
   "metadata": {},
   "outputs": [],
   "source": [
    "data_files = data_files[:1]"
   ]
  },
  {
   "cell_type": "code",
   "execution_count": 9,
   "metadata": {},
   "outputs": [],
   "source": [
    "all_playlists = []\n",
    "for file_number, data_file in enumerate(data_files):\n",
    "#     print(file_number, data_file)\n",
    "    with open(data_dir + data_file) as file:\n",
    "        data = json.load(file)\n",
    "        playlists = data['playlists']\n",
    "        all_playlists += playlists"
   ]
  },
  {
   "cell_type": "code",
   "execution_count": 10,
   "metadata": {},
   "outputs": [
    {
     "data": {
      "text/plain": [
       "1000"
      ]
     },
     "execution_count": 10,
     "metadata": {},
     "output_type": "execute_result"
    }
   ],
   "source": [
    "playlist_list = all_playlists\n",
    "len(playlist_list)"
   ]
  },
  {
   "cell_type": "code",
   "execution_count": 11,
   "metadata": {},
   "outputs": [
    {
     "data": {
      "text/plain": [
       "9120"
      ]
     },
     "execution_count": 11,
     "metadata": {},
     "output_type": "execute_result"
    }
   ],
   "source": [
    "import sys\n",
    "sys.getsizeof(all_playlists)"
   ]
  },
  {
   "cell_type": "code",
   "execution_count": 12,
   "metadata": {},
   "outputs": [
    {
     "data": {
      "text/plain": [
       "Int64Index([  1,   2,   3,   4,   5,   6,   7,   8,   9,  10,\n",
       "            ...\n",
       "            191, 192, 193, 194, 195, 196, 197, 198, 199, 200],\n",
       "           dtype='int64', length=200)"
      ]
     },
     "execution_count": 12,
     "metadata": {},
     "output_type": "execute_result"
    }
   ],
   "source": [
    "track_embedding_df = pd.read_csv(\"word2vecf-features.txt\", skiprows=1, header=None, sep=' ')\n",
    "track_embedding_df = track_embedding_df.set_index(0)\n",
    "track_embedding_df = track_embedding_df.drop(columns=[track_embedding_df.shape[1]])\n",
    "track_embedding_df.columns"
   ]
  },
  {
   "cell_type": "code",
   "execution_count": 13,
   "metadata": {},
   "outputs": [
    {
     "data": {
      "text/plain": [
       "(457016, 200)"
      ]
     },
     "execution_count": 13,
     "metadata": {},
     "output_type": "execute_result"
    }
   ],
   "source": [
    "track_embedding_df.shape"
   ]
  },
  {
   "cell_type": "code",
   "execution_count": 14,
   "metadata": {},
   "outputs": [
    {
     "data": {
      "text/html": [
       "<div>\n",
       "<style scoped>\n",
       "    .dataframe tbody tr th:only-of-type {\n",
       "        vertical-align: middle;\n",
       "    }\n",
       "\n",
       "    .dataframe tbody tr th {\n",
       "        vertical-align: top;\n",
       "    }\n",
       "\n",
       "    .dataframe thead th {\n",
       "        text-align: right;\n",
       "    }\n",
       "</style>\n",
       "<table border=\"1\" class=\"dataframe\">\n",
       "  <thead>\n",
       "    <tr style=\"text-align: right;\">\n",
       "      <th></th>\n",
       "      <th>1</th>\n",
       "      <th>2</th>\n",
       "      <th>3</th>\n",
       "      <th>4</th>\n",
       "      <th>5</th>\n",
       "      <th>6</th>\n",
       "      <th>7</th>\n",
       "      <th>8</th>\n",
       "      <th>9</th>\n",
       "      <th>10</th>\n",
       "      <th>...</th>\n",
       "      <th>191</th>\n",
       "      <th>192</th>\n",
       "      <th>193</th>\n",
       "      <th>194</th>\n",
       "      <th>195</th>\n",
       "      <th>196</th>\n",
       "      <th>197</th>\n",
       "      <th>198</th>\n",
       "      <th>199</th>\n",
       "      <th>200</th>\n",
       "    </tr>\n",
       "    <tr>\n",
       "      <th>0</th>\n",
       "      <th></th>\n",
       "      <th></th>\n",
       "      <th></th>\n",
       "      <th></th>\n",
       "      <th></th>\n",
       "      <th></th>\n",
       "      <th></th>\n",
       "      <th></th>\n",
       "      <th></th>\n",
       "      <th></th>\n",
       "      <th></th>\n",
       "      <th></th>\n",
       "      <th></th>\n",
       "      <th></th>\n",
       "      <th></th>\n",
       "      <th></th>\n",
       "      <th></th>\n",
       "      <th></th>\n",
       "      <th></th>\n",
       "      <th></th>\n",
       "      <th></th>\n",
       "    </tr>\n",
       "  </thead>\n",
       "  <tbody>\n",
       "    <tr>\n",
       "      <th>spotify:track:0uqPG793dkDDN7sCUJJIVC</th>\n",
       "      <td>-0.026026</td>\n",
       "      <td>-0.083628</td>\n",
       "      <td>0.134833</td>\n",
       "      <td>0.012421</td>\n",
       "      <td>-0.159434</td>\n",
       "      <td>0.083758</td>\n",
       "      <td>0.001227</td>\n",
       "      <td>0.001863</td>\n",
       "      <td>-0.146504</td>\n",
       "      <td>-0.051575</td>\n",
       "      <td>...</td>\n",
       "      <td>-0.039538</td>\n",
       "      <td>0.141645</td>\n",
       "      <td>-0.068446</td>\n",
       "      <td>-0.015492</td>\n",
       "      <td>0.070452</td>\n",
       "      <td>0.078635</td>\n",
       "      <td>0.020971</td>\n",
       "      <td>-0.100852</td>\n",
       "      <td>0.051009</td>\n",
       "      <td>0.062138</td>\n",
       "    </tr>\n",
       "    <tr>\n",
       "      <th>spotify:track:7KXjTSCq5nL1LoYtL7XAwS</th>\n",
       "      <td>-0.060636</td>\n",
       "      <td>-0.199347</td>\n",
       "      <td>0.314352</td>\n",
       "      <td>0.025642</td>\n",
       "      <td>-0.353024</td>\n",
       "      <td>0.195261</td>\n",
       "      <td>-0.004815</td>\n",
       "      <td>0.002842</td>\n",
       "      <td>-0.332577</td>\n",
       "      <td>-0.112377</td>\n",
       "      <td>...</td>\n",
       "      <td>-0.096747</td>\n",
       "      <td>0.329734</td>\n",
       "      <td>-0.157763</td>\n",
       "      <td>-0.042936</td>\n",
       "      <td>0.174929</td>\n",
       "      <td>0.186213</td>\n",
       "      <td>0.051125</td>\n",
       "      <td>-0.233378</td>\n",
       "      <td>0.112793</td>\n",
       "      <td>0.141836</td>\n",
       "    </tr>\n",
       "    <tr>\n",
       "      <th>spotify:track:1xznGGDReH1oQq0xzbwXa3</th>\n",
       "      <td>-0.054589</td>\n",
       "      <td>-0.198523</td>\n",
       "      <td>0.304365</td>\n",
       "      <td>0.030382</td>\n",
       "      <td>-0.352851</td>\n",
       "      <td>0.190760</td>\n",
       "      <td>-0.004005</td>\n",
       "      <td>-0.000292</td>\n",
       "      <td>-0.327377</td>\n",
       "      <td>-0.113400</td>\n",
       "      <td>...</td>\n",
       "      <td>-0.096744</td>\n",
       "      <td>0.326155</td>\n",
       "      <td>-0.152823</td>\n",
       "      <td>-0.043379</td>\n",
       "      <td>0.171734</td>\n",
       "      <td>0.178939</td>\n",
       "      <td>0.046186</td>\n",
       "      <td>-0.229613</td>\n",
       "      <td>0.109953</td>\n",
       "      <td>0.145087</td>\n",
       "    </tr>\n",
       "    <tr>\n",
       "      <th>spotify:track:7yyRTcZmCiyzzJlNzGC9Ol</th>\n",
       "      <td>-0.052947</td>\n",
       "      <td>-0.183444</td>\n",
       "      <td>0.292234</td>\n",
       "      <td>0.033237</td>\n",
       "      <td>-0.349599</td>\n",
       "      <td>0.189332</td>\n",
       "      <td>-0.005676</td>\n",
       "      <td>0.005607</td>\n",
       "      <td>-0.321430</td>\n",
       "      <td>-0.123372</td>\n",
       "      <td>...</td>\n",
       "      <td>-0.097007</td>\n",
       "      <td>0.315117</td>\n",
       "      <td>-0.155333</td>\n",
       "      <td>-0.035356</td>\n",
       "      <td>0.174856</td>\n",
       "      <td>0.180012</td>\n",
       "      <td>0.045895</td>\n",
       "      <td>-0.226134</td>\n",
       "      <td>0.112212</td>\n",
       "      <td>0.136915</td>\n",
       "    </tr>\n",
       "    <tr>\n",
       "      <th>spotify:track:7BKLCZ1jbUBVqRi2FVlTVw</th>\n",
       "      <td>-0.055421</td>\n",
       "      <td>-0.196512</td>\n",
       "      <td>0.303226</td>\n",
       "      <td>0.034056</td>\n",
       "      <td>-0.365354</td>\n",
       "      <td>0.192383</td>\n",
       "      <td>0.004406</td>\n",
       "      <td>0.005574</td>\n",
       "      <td>-0.333833</td>\n",
       "      <td>-0.114642</td>\n",
       "      <td>...</td>\n",
       "      <td>-0.089055</td>\n",
       "      <td>0.321614</td>\n",
       "      <td>-0.157704</td>\n",
       "      <td>-0.041348</td>\n",
       "      <td>0.168048</td>\n",
       "      <td>0.183240</td>\n",
       "      <td>0.048365</td>\n",
       "      <td>-0.223629</td>\n",
       "      <td>0.109537</td>\n",
       "      <td>0.140058</td>\n",
       "    </tr>\n",
       "  </tbody>\n",
       "</table>\n",
       "<p>5 rows × 200 columns</p>\n",
       "</div>"
      ],
      "text/plain": [
       "                                           1         2         3         4    \\\n",
       "0                                                                              \n",
       "spotify:track:0uqPG793dkDDN7sCUJJIVC -0.026026 -0.083628  0.134833  0.012421   \n",
       "spotify:track:7KXjTSCq5nL1LoYtL7XAwS -0.060636 -0.199347  0.314352  0.025642   \n",
       "spotify:track:1xznGGDReH1oQq0xzbwXa3 -0.054589 -0.198523  0.304365  0.030382   \n",
       "spotify:track:7yyRTcZmCiyzzJlNzGC9Ol -0.052947 -0.183444  0.292234  0.033237   \n",
       "spotify:track:7BKLCZ1jbUBVqRi2FVlTVw -0.055421 -0.196512  0.303226  0.034056   \n",
       "\n",
       "                                           5         6         7         8    \\\n",
       "0                                                                              \n",
       "spotify:track:0uqPG793dkDDN7sCUJJIVC -0.159434  0.083758  0.001227  0.001863   \n",
       "spotify:track:7KXjTSCq5nL1LoYtL7XAwS -0.353024  0.195261 -0.004815  0.002842   \n",
       "spotify:track:1xznGGDReH1oQq0xzbwXa3 -0.352851  0.190760 -0.004005 -0.000292   \n",
       "spotify:track:7yyRTcZmCiyzzJlNzGC9Ol -0.349599  0.189332 -0.005676  0.005607   \n",
       "spotify:track:7BKLCZ1jbUBVqRi2FVlTVw -0.365354  0.192383  0.004406  0.005574   \n",
       "\n",
       "                                           9         10     ...          191  \\\n",
       "0                                                           ...                \n",
       "spotify:track:0uqPG793dkDDN7sCUJJIVC -0.146504 -0.051575    ...    -0.039538   \n",
       "spotify:track:7KXjTSCq5nL1LoYtL7XAwS -0.332577 -0.112377    ...    -0.096747   \n",
       "spotify:track:1xznGGDReH1oQq0xzbwXa3 -0.327377 -0.113400    ...    -0.096744   \n",
       "spotify:track:7yyRTcZmCiyzzJlNzGC9Ol -0.321430 -0.123372    ...    -0.097007   \n",
       "spotify:track:7BKLCZ1jbUBVqRi2FVlTVw -0.333833 -0.114642    ...    -0.089055   \n",
       "\n",
       "                                           192       193       194       195  \\\n",
       "0                                                                              \n",
       "spotify:track:0uqPG793dkDDN7sCUJJIVC  0.141645 -0.068446 -0.015492  0.070452   \n",
       "spotify:track:7KXjTSCq5nL1LoYtL7XAwS  0.329734 -0.157763 -0.042936  0.174929   \n",
       "spotify:track:1xznGGDReH1oQq0xzbwXa3  0.326155 -0.152823 -0.043379  0.171734   \n",
       "spotify:track:7yyRTcZmCiyzzJlNzGC9Ol  0.315117 -0.155333 -0.035356  0.174856   \n",
       "spotify:track:7BKLCZ1jbUBVqRi2FVlTVw  0.321614 -0.157704 -0.041348  0.168048   \n",
       "\n",
       "                                           196       197       198       199  \\\n",
       "0                                                                              \n",
       "spotify:track:0uqPG793dkDDN7sCUJJIVC  0.078635  0.020971 -0.100852  0.051009   \n",
       "spotify:track:7KXjTSCq5nL1LoYtL7XAwS  0.186213  0.051125 -0.233378  0.112793   \n",
       "spotify:track:1xznGGDReH1oQq0xzbwXa3  0.178939  0.046186 -0.229613  0.109953   \n",
       "spotify:track:7yyRTcZmCiyzzJlNzGC9Ol  0.180012  0.045895 -0.226134  0.112212   \n",
       "spotify:track:7BKLCZ1jbUBVqRi2FVlTVw  0.183240  0.048365 -0.223629  0.109537   \n",
       "\n",
       "                                           200  \n",
       "0                                               \n",
       "spotify:track:0uqPG793dkDDN7sCUJJIVC  0.062138  \n",
       "spotify:track:7KXjTSCq5nL1LoYtL7XAwS  0.141836  \n",
       "spotify:track:1xznGGDReH1oQq0xzbwXa3  0.145087  \n",
       "spotify:track:7yyRTcZmCiyzzJlNzGC9Ol  0.136915  \n",
       "spotify:track:7BKLCZ1jbUBVqRi2FVlTVw  0.140058  \n",
       "\n",
       "[5 rows x 200 columns]"
      ]
     },
     "execution_count": 14,
     "metadata": {},
     "output_type": "execute_result"
    }
   ],
   "source": [
    "track_embedding_df.head()"
   ]
  },
  {
   "cell_type": "code",
   "execution_count": 28,
   "metadata": {},
   "outputs": [],
   "source": [
    "# track_embedding_df.loc['spotify:track:0uqPG793dkDDN7sCUJJIVC']"
   ]
  },
  {
   "cell_type": "code",
   "execution_count": 16,
   "metadata": {},
   "outputs": [],
   "source": [
    "# playlist_list[0]['tracks'][0]['track_uri']\n",
    "# ((playlist_list[0]['num_tracks']))"
   ]
  },
  {
   "cell_type": "code",
   "execution_count": 17,
   "metadata": {},
   "outputs": [],
   "source": [
    "def get_track_embedding(track_uri):\n",
    "    return track_embedding_df.loc[track_uri].values"
   ]
  },
  {
   "cell_type": "code",
   "execution_count": 18,
   "metadata": {},
   "outputs": [
    {
     "data": {
      "text/plain": [
       "(200,)"
      ]
     },
     "execution_count": 18,
     "metadata": {},
     "output_type": "execute_result"
    }
   ],
   "source": [
    "get_track_embedding('spotify:track:0uqPG793dkDDN7sCUJJIVC').shape"
   ]
  },
  {
   "cell_type": "code",
   "execution_count": 19,
   "metadata": {},
   "outputs": [],
   "source": [
    "cached_playlist_embedding = {}\n",
    "\n",
    "def get_playlist_embedding(playlist_id):\n",
    "    # check if already in cache \n",
    "    if playlist_id in cached_playlist_embedding:\n",
    "        return cached_playlist_embedding[playlist_id]\n",
    "\n",
    "    embedding_list = []\n",
    "    for i in range(playlist_list[playlist_id]['num_tracks']):\n",
    "        track_uri = playlist_list[playlist_id]['tracks'][i]['track_uri']\n",
    "    #     print(type(track_df.loc[track_uri]))\n",
    "        embedding_list.append(get_track_embedding(track_uri))\n",
    "    embedding = np.mean(embedding_list, axis = 0)\n",
    "    # put in the cache\n",
    "    cached_playlist_embedding[playlist_id] = embedding\n",
    "    return embedding"
   ]
  },
  {
   "cell_type": "code",
   "execution_count": 20,
   "metadata": {},
   "outputs": [
    {
     "data": {
      "text/plain": [
       "(200,)"
      ]
     },
     "execution_count": 20,
     "metadata": {},
     "output_type": "execute_result"
    }
   ],
   "source": [
    "# get_track_embedding('spotify:track:0uqPG793dkDDN7sCUJJIVC').shape\n",
    "get_playlist_embedding(0).shape"
   ]
  },
  {
   "cell_type": "code",
   "execution_count": 21,
   "metadata": {},
   "outputs": [],
   "source": [
    "def cal_similarity(playlist_id_1, playlist_id_2):\n",
    "        similarity = sklearn.metrics.pairwise.cosine_similarity(get_playlist_embedding(playlist_id_1).reshape(1, -1), \n",
    "                                                                get_playlist_embedding(playlist_id_2).reshape(1, -1))\n",
    "        return similarity[0][0]\n",
    "        "
   ]
  },
  {
   "cell_type": "code",
   "execution_count": 35,
   "metadata": {},
   "outputs": [
    {
     "name": "stdout",
     "output_type": "stream",
     "text": [
      "The slowest run took 151.68 times longer than the fastest. This could mean that an intermediate result is being cached.\n",
      "10000 loops, best of 3: 110 µs per loop\n"
     ]
    }
   ],
   "source": [
    "%%timeit\n",
    "cal_similarity(1, 5)"
   ]
  },
  {
   "cell_type": "code",
   "execution_count": 22,
   "metadata": {},
   "outputs": [],
   "source": [
    "def biased_w2v_random_walk_playlist(query,g, beta = 1000):\n",
    "    \n",
    "    N = 1000\n",
    "#     totSteps is the number of total steps where step is going from playlist to track to playlist\n",
    "    totSteps = 0\n",
    "#     nHighVisited is the number of track nodes that have been visited at least nv times\n",
    "    nHighVisited = 0\n",
    "    nv = 5\n",
    "#     nt is the least number of tracks which have been visited at least nv times\n",
    "    nt = 200\n",
    "    num_visits = defaultdict(int)\n",
    "    \n",
    "    def weight_cal(edge):\n",
    "        weight = cal_similarity(query,edge)\n",
    "        return weight\n",
    "\n",
    "    while totSteps < N or nHighVisited > nt: \n",
    "        currPlaylist = query\n",
    "        # Number of iterations\n",
    "        currSteps = 5\n",
    "        for i in range(currSteps):\n",
    "            # takes 1 step (from a playlist to track)\n",
    "            edges = list(g.GetNI(currPlaylist).GetOutEdges())\n",
    "            currTrack = random.choice(edges)\n",
    "            # takes 1 step (from a track to playlist)\n",
    "            edges = list(g.GetNI(currTrack).GetOutEdges())\n",
    "#             weights = [f(edge) for edge in edges]\n",
    "            weights = [weight_cal(edge) for edge in edges]\n",
    "            weights_np = np.asarray(weights)\n",
    "\n",
    "# uncomment to do softmax\n",
    "# see https://stackoverflow.com/questions/34968722/how-to-implement-the-softmax-function-in-python\n",
    "#             # this bit makes it more stable numerically\n",
    "            max_weight = np.max(weights_np)\n",
    "            weights_np -= max_weight\n",
    "            # but does not change the answer\n",
    "            weights_np = np.exp(beta * weights_np)\n",
    "\n",
    "            prob_dis = weights_np / float(sum(weights_np))\n",
    "            currPlaylist = int(choice(edges, 1, p=prob_dis))\n",
    "            num_visits[currTrack] += 1\n",
    "            if num_visits[currTrack] == nv:\n",
    "                nHighVisited += 1\n",
    "        totSteps += currSteps\n",
    "    return num_visits"
   ]
  },
  {
   "cell_type": "code",
   "execution_count": 54,
   "metadata": {},
   "outputs": [],
   "source": [
    "def cal_most_visited_playlist(playlist_list, playlist_id):\n",
    "    dropped_track_index = random.choice(range(len(playlist_list[playlist_id])))\n",
    "#         for dropped_track_index in range(len(playlist_list[playlist_id])):\n",
    "    g, dropped_track_id = make_graph_drop_edge(playlist_list, playlist_id, dropped_track_index)\n",
    "#             print('1', playlist_id, dropped_track_id)\n",
    "#             tracks in the playlist graphs where one is dropped\n",
    "    if len(list(g.GetNI(playlist_id).GetOutEdges())) < 5:\n",
    "        return None, None\n",
    "    query = playlist_id\n",
    "    num_visits = biased_w2v_random_walk_playlist(query,g)\n",
    "#     num_visits = highest_visited_random_walk_playlist(query, g)\n",
    "#     num_visits =biased_modified_at_random_walk_playlist(query, g)\n",
    "    suggested_ids = sorted(num_visits, key=num_visits.get, reverse=True)\n",
    "    return dropped_track_id, suggested_ids\n"
   ]
  },
  {
   "cell_type": "code",
   "execution_count": 55,
   "metadata": {
    "scrolled": true
   },
   "outputs": [
    {
     "data": {
      "application/vnd.jupyter.widget-view+json": {
       "model_id": "ff166e80f83e474ca69393c3860876e3",
       "version_major": 2,
       "version_minor": 0
      },
      "text/plain": [
       "HBox(children=(IntProgress(value=0, max=1000), HTML(value=u'')))"
      ]
     },
     "metadata": {},
     "output_type": "display_data"
    },
    {
     "name": "stdout",
     "output_type": "stream",
     "text": [
      "\n"
     ]
    }
   ],
   "source": [
    "# all_true_ids, all_suggested_ids = cal_most_visited(playlist_list)\n",
    "all_true_ids, all_suggested_ids = process_playlists(cal_most_visited_playlist, playlist_list, multiprocess=False)"
   ]
  },
  {
   "cell_type": "code",
   "execution_count": 56,
   "metadata": {},
   "outputs": [
    {
     "name": "stdout",
     "output_type": "stream",
     "text": [
      "0.157520325203\n"
     ]
    }
   ],
   "source": [
    "avg_precision = cal_ave_precision(500, all_true_ids, all_suggested_ids)\n",
    "print avg_precision"
   ]
  },
  {
   "cell_type": "code",
   "execution_count": 72,
   "metadata": {},
   "outputs": [
    {
     "data": {
      "text/plain": [
       "int"
      ]
     },
     "execution_count": 72,
     "metadata": {},
     "output_type": "execute_result"
    }
   ],
   "source": [
    "type(all_true_ids[0])"
   ]
  },
  {
   "cell_type": "code",
   "execution_count": 74,
   "metadata": {},
   "outputs": [],
   "source": [
    "import math\n",
    "def dcg(gains):\n",
    "    value = 0\n",
    "    for index, gain in enumerate(gains):\n",
    "        if index == 0:\n",
    "            value += gain\n",
    "        else:\n",
    "            value += gain/math.log(1+index)\n",
    "    return value"
   ]
  },
  {
   "cell_type": "code",
   "execution_count": 75,
   "metadata": {},
   "outputs": [],
   "source": [
    "def ndcg(gains):\n",
    "    ideal_gains = list(sorted(gains))     \n",
    "    ideal_dcg = dcg(ideal_gains)\n",
    "    if ideal_dcg == 0:\n",
    "        return 0.0\n",
    "    real_dcg = dcg(gains)\n",
    "    return real_dcg/ideal_dcg"
   ]
  },
  {
   "cell_type": "code",
   "execution_count": 76,
   "metadata": {},
   "outputs": [],
   "source": [
    "def get_gain(playlist_index, true_index, indices):\n",
    "    gains = []\n",
    "    for index in indices:\n",
    "        if index == true_index:\n",
    "            gains.append(1)\n",
    "#         elif is_same_artist(playlist_index, true_index, index):\n",
    "#         elif is_same_playlist(track_playlists, true_index, index):\n",
    "#             gains.append(1)\n",
    "        else:\n",
    "            gains.append(0)\n",
    "    return gains"
   ]
  },
  {
   "cell_type": "code",
   "execution_count": 77,
   "metadata": {},
   "outputs": [],
   "source": [
    "def is_same_playlist(track_playlists, track1, track2):\n",
    "    if track_playlists[track1].intersection(track_playlists[track2]):\n",
    "        return True\n",
    "    return False"
   ]
  },
  {
   "cell_type": "code",
   "execution_count": 78,
   "metadata": {},
   "outputs": [],
   "source": [
    "from collections import defaultdict\n",
    "def make_track_playlists(playlist_list):\n",
    "    track_playlists = defaultdict(set)\n",
    "    for playlist_index, playlist in enumerate(playlist_list):\n",
    "        for track_uri in get_tracks(playlist):\n",
    "            track_playlists[track_uri].add(playlist_index)\n",
    "    return track_playlists\n",
    "\n",
    "limited_playlist_list = playlist_list[:1000]\n",
    "track_playlists = make_track_playlists(limited_playlist_list)"
   ]
  },
  {
   "cell_type": "code",
   "execution_count": 79,
   "metadata": {},
   "outputs": [
    {
     "data": {
      "text/plain": [
       "True"
      ]
     },
     "execution_count": 79,
     "metadata": {},
     "output_type": "execute_result"
    }
   ],
   "source": [
    "is_same_playlist(track_playlists, \"spotify:track:0uqPG793dkDDN7sCUJJIVC\", \"spotify:track:0uqPG793dkDDN7sCUJJIVC\")"
   ]
  },
  {
   "cell_type": "code",
   "execution_count": 69,
   "metadata": {},
   "outputs": [],
   "source": [
    "def cal_ndcg(track_playlists, all_true_indices, all_indices):\n",
    "    result = 0\n",
    "    count = 0\n",
    "    for true_index, indices in zip(all_true_indices, all_indices):\n",
    "        playlist_index = count\n",
    "        gains = get_gain(playlist_index, true_index, indices[0,:])\n",
    "        result += ndcg(gains)\n",
    "        count += 1\n",
    "    return result / count"
   ]
  },
  {
   "cell_type": "code",
   "execution_count": 89,
   "metadata": {},
   "outputs": [
    {
     "data": {
      "text/plain": [
       "0.21603858617350727"
      ]
     },
     "execution_count": 89,
     "metadata": {},
     "output_type": "execute_result"
    }
   ],
   "source": [
    "all_suggested_ids_np = [np.array(all_suggested_id).reshape(1,-1)\n",
    "                        for all_suggested_id in all_suggested_ids]\n",
    "cal_ndcg(track_playlists, all_true_ids, all_suggested_ids_np)"
   ]
  },
  {
   "cell_type": "code",
   "execution_count": null,
   "metadata": {},
   "outputs": [],
   "source": []
  },
  {
   "cell_type": "code",
   "execution_count": 15,
   "metadata": {},
   "outputs": [
    {
     "data": {
      "image/png": "[encoded data removed]",
      "text/plain": [
       "<Figure size 432x288 with 1 Axes>"
      ]
     },
     "metadata": {},
     "output_type": "display_data"
    }
   ],
   "source": [
    "import matplotlib.pyplot as plt\n",
    "\n",
    "weights = [cal_similarity(0, 1+i) for i in range(10)]\n",
    "weights_np = np.asarray(weights)\n",
    "prob_dis = weights_np / float(sum(weights_np))\n",
    "plt.plot(prob_dis, label=\"flat\")\n",
    "for beta in [1,1000,10000,100000]:\n",
    "    weights_np = np.asarray(weights)\n",
    "    # this bit makes it more stable numerically\n",
    "    max_weight = np.max(weights_np)\n",
    "    weights_np -= max_weight\n",
    "    # but does not change the answer\n",
    "    weights_np = np.exp(beta * weights_np)\n",
    "\n",
    "    prob_dis = weights_np / float(sum(weights_np))\n",
    "    plt.plot(prob_dis, label=\"beta=\" + str(beta))\n",
    "plt.legend()\n",
    "plt.show()"
   ]
  },
  {
   "cell_type": "code",
   "execution_count": null,
   "metadata": {},
   "outputs": [],
   "source": []
  }
 ],
 "metadata": {
  "kernelspec": {
   "display_name": "Python 2",
   "language": "python",
   "name": "python2"
  },
  "language_info": {
   "codemirror_mode": {
    "name": "ipython",
    "version": 2
   },
   "file_extension": ".py",
   "mimetype": "text/x-python",
   "name": "python",
   "nbconvert_exporter": "python",
   "pygments_lexer": "ipython2",
   "version": "2.7.10"
  }
 },
 "nbformat": 4,
 "nbformat_minor": 2
}
