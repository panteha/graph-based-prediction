{
 "cells": [
  {
   "cell_type": "code",
   "execution_count": null,
   "metadata": {},
   "outputs": [],
   "source": [
    "import json\n",
    "import numpy as np\n",
    "import sklearn\n",
    "import sklearn.metrics\n",
    "import seaborn as sns\n",
    "import matplotlib.pyplot as plt\n",
    "import pandas as pd\n",
    "import datetime\n",
    "# import snap\n",
    "import random\n",
    "from numpy.random import choice\n",
    "import numpy as np\n",
    "from collections import defaultdict\n",
    "import os\n",
    "from tqdm import tqdm_notebook as tqdm\n",
    "import playlist\n",
    "reload(playlist)"
   ]
  },
  {
   "cell_type": "code",
   "execution_count": null,
   "metadata": {},
   "outputs": [],
   "source": [
    "playlist_list = playlist.get_playlist_list()"
   ]
  },
  {
   "cell_type": "code",
   "execution_count": null,
   "metadata": {},
   "outputs": [],
   "source": [
    "len(playlist_list)"
   ]
  },
  {
   "cell_type": "code",
   "execution_count": null,
   "metadata": {},
   "outputs": [],
   "source": [
    "import sys\n",
    "sys.getsizeof(playlist_list)"
   ]
  },
  {
   "cell_type": "code",
   "execution_count": null,
   "metadata": {},
   "outputs": [],
   "source": [
    "track_embedding_df = pd.read_csv(\"word2vecf-features.txt\", skiprows=1, header=None, sep=' ')\n",
    "track_embedding_df = track_embedding_df.set_index(0)\n",
    "track_embedding_df = track_embedding_df.drop(columns=[track_embedding_df.shape[1]])\n",
    "track_embedding_df.columns"
   ]
  },
  {
   "cell_type": "code",
   "execution_count": null,
   "metadata": {},
   "outputs": [],
   "source": [
    "track_embedding_df.shape"
   ]
  },
  {
   "cell_type": "code",
   "execution_count": null,
   "metadata": {},
   "outputs": [],
   "source": [
    "track_embedding_df.head()"
   ]
  },
  {
   "cell_type": "code",
   "execution_count": null,
   "metadata": {},
   "outputs": [],
   "source": [
    "# track_embedding_df.loc['spotify:track:0uqPG793dkDDN7sCUJJIVC']"
   ]
  },
  {
   "cell_type": "code",
   "execution_count": null,
   "metadata": {},
   "outputs": [],
   "source": [
    "# playlist_list[0]['tracks'][0]['track_uri']\n",
    "# ((playlist_list[0]['num_tracks']))"
   ]
  },
  {
   "cell_type": "code",
   "execution_count": null,
   "metadata": {},
   "outputs": [],
   "source": [
    "cached_track_embedding = {}\n",
    "\n",
    "def get_track_embedding(track_uri):\n",
    "    if track_uri in cached_track_embedding:\n",
    "        return cached_track_embedding[track_uri]\n",
    "    embedding = track_embedding_df.loc[track_uri].values\n",
    "    norm_embedding = np.linalg.norm(embedding)\n",
    "    cached_track_embedding[track_uri] = (embedding, embedding/norm_embedding)\n",
    "    return cached_track_embedding[track_uri]"
   ]
  },
  {
   "cell_type": "code",
   "execution_count": null,
   "metadata": {},
   "outputs": [],
   "source": [
    "get_track_embedding('spotify:track:0uqPG793dkDDN7sCUJJIVC')[0].shape"
   ]
  },
  {
   "cell_type": "code",
   "execution_count": null,
   "metadata": {},
   "outputs": [],
   "source": [
    "cached_playlist_embedding = {}\n",
    "\n",
    "def get_playlist_embedding(playlist_id):\n",
    "    # check if already in cache \n",
    "    if playlist_id in cached_playlist_embedding:\n",
    "        return cached_playlist_embedding[playlist_id]\n",
    "\n",
    "    embedding_list = []\n",
    "    for i in range(playlist_list[playlist_id]['num_tracks']):\n",
    "        track_uri = playlist_list[playlist_id]['tracks'][i]['track_uri']\n",
    "    #     print(type(track_df.loc[track_uri]))\n",
    "        embedding_list.append(get_track_embedding(track_uri)[0])\n",
    "    embedding = np.mean(embedding_list, axis = 0)\n",
    "    norm_embedding = np.linalg.norm(embedding)\n",
    "    # put in the cache\n",
    "    cached_playlist_embedding[playlist_id] = (embedding, embedding/norm_embedding)\n",
    "    return cached_playlist_embedding[playlist_id]"
   ]
  },
  {
   "cell_type": "code",
   "execution_count": null,
   "metadata": {},
   "outputs": [],
   "source": [
    "for playlist_id in tqdm(range(len(playlist_list))):\n",
    "    get_playlist_embedding(playlist_id)"
   ]
  },
  {
   "cell_type": "code",
   "execution_count": null,
   "metadata": {},
   "outputs": [],
   "source": [
    "# get_track_embedding('spotify:track:0uqPG793dkDDN7sCUJJIVC').shape\n",
    "get_playlist_embedding(0)[0].shape"
   ]
  },
  {
   "cell_type": "code",
   "execution_count": null,
   "metadata": {},
   "outputs": [],
   "source": [
    "_dot = np.inner\n",
    "\n",
    "def cal_similarity(playlist_id_1, playlist_id_2):\n",
    "    _, normed_a = cached_playlist_embedding[playlist_id_1]\n",
    "    _, normed_b = cached_playlist_embedding[playlist_id_2]\n",
    "    return _dot(normed_a, normed_b)\n",
    "        "
   ]
  },
  {
   "cell_type": "code",
   "execution_count": null,
   "metadata": {},
   "outputs": [],
   "source": [
    "%%timeit\n",
    "cal_similarity(1, 5)"
   ]
  },
  {
   "cell_type": "code",
   "execution_count": null,
   "metadata": {},
   "outputs": [],
   "source": [
    "def biased_w2v_random_walk_playlist(query,g,dropped_track_id, beta = 1000):\n",
    "    \n",
    "    N = 10000\n",
    "#     totSteps is the number of total steps where step is going from playlist to track to playlist\n",
    "    totSteps = 0\n",
    "#     nHighVisited is the number of track nodes that have been visited at least nv times\n",
    "    nHighVisited = 0\n",
    "    nv = 5\n",
    "#     nt is the least number of tracks which have been visited at least nv times\n",
    "    nt = 200\n",
    "    num_visits = defaultdict(int)\n",
    "\n",
    "    weight_cache = {}\n",
    "    def cal_weight(edge):\n",
    "        if edge in weight_cache:\n",
    "            return weight_cache[edge]\n",
    "\n",
    "        val = cal_similarity(query,edge)\n",
    "        weight_cache[edge] = val\n",
    "        return val\n",
    "\n",
    "    while totSteps < N and nHighVisited < nt: \n",
    "        currPlaylist = query\n",
    "        # Number of iterations\n",
    "        currSteps = 5\n",
    "        for i in range(currSteps):\n",
    "            # takes 1 step (from a playlist to track)\n",
    "            edges = list(g[currPlaylist])\n",
    "            if currPlaylist == query:\n",
    "                edges.remove(dropped_track_id)\n",
    "            currTrack = random.choice(edges)\n",
    "\n",
    "            # takes 1 step (from a track to playlist)\n",
    "            edges = list(g[currTrack])\n",
    "            if currTrack == dropped_track_id:\n",
    "                edges.remove(query)\n",
    "\n",
    "            weights = [cal_weight(edge) for edge in edges]\n",
    "            weights_np = np.asarray(weights)\n",
    "\n",
    "# see https://stackoverflow.com/questions/34968722/how-to-implement-the-softmax-function-in-python\n",
    "#             # this bit makes it more stable numerically\n",
    "            max_weight = np.max(weights_np)\n",
    "            weights_np -= max_weight\n",
    "            # but does not change the answer\n",
    "            weights_np = np.exp(beta * weights_np)\n",
    "\n",
    "            prob_dis = weights_np / float(sum(weights_np))\n",
    "            currPlaylist = int(choice(edges, 1, p=prob_dis))\n",
    "            num_visits[currTrack] += 1\n",
    "            if num_visits[currTrack] == nv:\n",
    "                nHighVisited += 1\n",
    "        totSteps += currSteps\n",
    "    return num_visits"
   ]
  },
  {
   "cell_type": "code",
   "execution_count": null,
   "metadata": {},
   "outputs": [],
   "source": [
    "g, tracks_dict, tracks_id_dict = playlist.make_graph_dict(playlist_list)"
   ]
  },
  {
   "cell_type": "code",
   "execution_count": null,
   "metadata": {},
   "outputs": [],
   "source": [
    "def cal_most_visited_playlist(playlist_list, playlist_id):\n",
    "    dropped_track_id = random.choice(tuple(g[playlist_id]))\n",
    "\n",
    "    if len(g[playlist_id]) < 5:\n",
    "        return None, None\n",
    "    num_visits = biased_w2v_random_walk_playlist(playlist_id, g, dropped_track_id)\n",
    "    suggested_ids = sorted(num_visits, key=num_visits.get, reverse=True)\n",
    "    return dropped_track_id, suggested_ids"
   ]
  },
  {
   "cell_type": "code",
   "execution_count": null,
   "metadata": {
    "scrolled": true
   },
   "outputs": [],
   "source": [
    "\n",
    "all_true_ids, all_suggested_ids = playlist.process_playlists(cal_most_visited_playlist,\n",
    "                                                             playlist_list)"
   ]
  },
  {
   "cell_type": "code",
   "execution_count": null,
   "metadata": {},
   "outputs": [],
   "source": [
    "\n",
    "np.savez('ids_w2v_biased_random_walk-Playlist_to_playlist_N10k',\n",
    "         all_true_ids=all_true_ids, all_suggested_ids=all_suggested_ids)"
   ]
  },
  {
   "cell_type": "code",
   "execution_count": null,
   "metadata": {},
   "outputs": [],
   "source": [
    "results = playlist.cal_results(playlist_list, all_true_ids, all_suggested_ids)\n",
    "filename = 'results%d_w2v_biased_random_walk-Playlist_to_playlist_N10k.txt' % (len(playlist_list),)\n",
    "with open(filename, 'w') as output:\n",
    "    output.write(str(results))"
   ]
  },
  {
   "cell_type": "code",
   "execution_count": null,
   "metadata": {},
   "outputs": [],
   "source": [
    "import matplotlib.pyplot as plt\n",
    "\n",
    "weights = [cal_similarity(0, 1+i) for i in range(10)]\n",
    "weights_np = np.asarray(weights)\n",
    "prob_dis = weights_np / float(sum(weights_np))\n",
    "plt.plot(prob_dis, label=\"flat\")\n",
    "for beta in [1,1000,10000,100000]:\n",
    "    weights_np = np.asarray(weights)\n",
    "    # this bit makes it more stable numerically\n",
    "    max_weight = np.max(weights_np)\n",
    "    weights_np -= max_weight\n",
    "    # but does not change the answer\n",
    "    weights_np = np.exp(beta * weights_np)\n",
    "\n",
    "    prob_dis = weights_np / float(sum(weights_np))\n",
    "    plt.plot(prob_dis, label=\"beta=\" + str(beta))\n",
    "plt.legend()\n",
    "plt.show()"
   ]
  },
  {
   "cell_type": "code",
   "execution_count": null,
   "metadata": {},
   "outputs": [],
   "source": []
  }
 ],
 "metadata": {
  "kernelspec": {
   "display_name": "Python 2",
   "language": "python",
   "name": "python2"
  },
  "language_info": {
   "codemirror_mode": {
    "name": "ipython",
    "version": 2
   },
   "file_extension": ".py",
   "mimetype": "text/x-python",
   "name": "python",
   "nbconvert_exporter": "python",
   "pygments_lexer": "ipython2",
   "version": "2.7.13"
  }
 },
 "nbformat": 4,
 "nbformat_minor": 2
}
