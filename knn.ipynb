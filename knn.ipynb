{
 "cells": [
  {
   "cell_type": "code",
   "execution_count": 1,
   "metadata": {},
   "outputs": [
    {
     "name": "stderr",
     "output_type": "stream",
     "text": [
      "/Users/Pani/Documents/ucl/project/env/lib/python3.6/site-packages/matplotlib/__init__.py:1067: UserWarning: Duplicate key in file \"/Users/Pani/.matplotlib/matplotlibrc\", line #2\n",
      "  (fname, cnt))\n"
     ]
    }
   ],
   "source": [
    "import json\n",
    "import os\n",
    "import numpy as np\n",
    "import sklearn\n",
    "import sklearn.metrics\n",
    "import seaborn as sns\n",
    "import matplotlib.pyplot as plt\n",
    "import pandas as pd\n",
    "import networkx as nx\n",
    "import datetime\n",
    "data_dir = \"../../mpd/data/\""
   ]
  },
  {
   "cell_type": "code",
   "execution_count": 2,
   "metadata": {},
   "outputs": [],
   "source": [
    "data_files = list(sorted(os.listdir(data_dir)))"
   ]
  },
  {
   "cell_type": "code",
   "execution_count": 3,
   "metadata": {},
   "outputs": [],
   "source": [
    "data_files = data_files[:50]"
   ]
  },
  {
   "cell_type": "code",
   "execution_count": 4,
   "metadata": {},
   "outputs": [],
   "source": [
    "all_playlists = []\n",
    "for file_number, data_file in enumerate(data_files):\n",
    "    with open(data_dir + data_file) as file:\n",
    "        data = json.load(file)\n",
    "        playlists = data['playlists']\n",
    "        all_playlists += playlists"
   ]
  },
  {
   "cell_type": "code",
   "execution_count": 5,
   "metadata": {},
   "outputs": [],
   "source": [
    "playlist_list = all_playlists"
   ]
  },
  {
   "cell_type": "code",
   "execution_count": 6,
   "metadata": {},
   "outputs": [
    {
     "data": {
      "text/plain": [
       "441112"
      ]
     },
     "execution_count": 6,
     "metadata": {},
     "output_type": "execute_result"
    }
   ],
   "source": [
    "import sys\n",
    "sys.getsizeof(all_playlists)"
   ]
  },
  {
   "cell_type": "code",
   "execution_count": 7,
   "metadata": {},
   "outputs": [],
   "source": [
    "def get_tracks(playlist):\n",
    "    track_list = set([])\n",
    "    for i in range(playlist['num_tracks']):\n",
    "        track_list.add(playlist['tracks'][i]['track_uri'])\n",
    "    return track_list"
   ]
  },
  {
   "cell_type": "code",
   "execution_count": 100,
   "metadata": {},
   "outputs": [],
   "source": [
    "with open(\"track_uri.txt\", \"w\") as text_file:\n",
    "    for i in range(len(playlist_list)):\n",
    "        for item in get_tracks(playlist_list[i]):\n",
    "            text_file.write(\"%s \" % item)\n",
    "        text_file.write(\"\\n\")\n"
   ]
  },
  {
   "cell_type": "code",
   "execution_count": 8,
   "metadata": {},
   "outputs": [
    {
     "data": {
      "text/plain": [
       "Int64Index([ 1,  2,  3,  4,  5,  6,  7,  8,  9, 10, 11, 12, 13, 14, 15, 16, 17,\n",
       "            18, 19, 20, 21, 22, 23, 24, 25, 26, 27, 28, 29, 30, 31, 32, 33, 34,\n",
       "            35, 36, 37, 38, 39, 40, 41, 42, 43, 44, 45, 46, 47, 48, 49, 50],\n",
       "           dtype='int64')"
      ]
     },
     "execution_count": 8,
     "metadata": {},
     "output_type": "execute_result"
    }
   ],
   "source": [
    "track_df=pd.read_csv(\"GloVe/vectors.txt\",header=None, sep=' ')\n",
    "track_df = track_df.set_index(0)\n",
    "track_df.columns"
   ]
  },
  {
   "cell_type": "code",
   "execution_count": 9,
   "metadata": {},
   "outputs": [
    {
     "data": {
      "text/plain": [
       "(78831, 50)"
      ]
     },
     "execution_count": 9,
     "metadata": {},
     "output_type": "execute_result"
    }
   ],
   "source": [
    "track_df.shape"
   ]
  },
  {
   "cell_type": "code",
   "execution_count": 10,
   "metadata": {},
   "outputs": [
    {
     "data": {
      "text/html": [
       "<div>\n",
       "<style scoped>\n",
       "    .dataframe tbody tr th:only-of-type {\n",
       "        vertical-align: middle;\n",
       "    }\n",
       "\n",
       "    .dataframe tbody tr th {\n",
       "        vertical-align: top;\n",
       "    }\n",
       "\n",
       "    .dataframe thead th {\n",
       "        text-align: right;\n",
       "    }\n",
       "</style>\n",
       "<table border=\"1\" class=\"dataframe\">\n",
       "  <thead>\n",
       "    <tr style=\"text-align: right;\">\n",
       "      <th></th>\n",
       "      <th>1</th>\n",
       "      <th>2</th>\n",
       "      <th>3</th>\n",
       "      <th>4</th>\n",
       "      <th>5</th>\n",
       "      <th>6</th>\n",
       "      <th>7</th>\n",
       "      <th>8</th>\n",
       "      <th>9</th>\n",
       "      <th>10</th>\n",
       "      <th>...</th>\n",
       "      <th>41</th>\n",
       "      <th>42</th>\n",
       "      <th>43</th>\n",
       "      <th>44</th>\n",
       "      <th>45</th>\n",
       "      <th>46</th>\n",
       "      <th>47</th>\n",
       "      <th>48</th>\n",
       "      <th>49</th>\n",
       "      <th>50</th>\n",
       "    </tr>\n",
       "    <tr>\n",
       "      <th>0</th>\n",
       "      <th></th>\n",
       "      <th></th>\n",
       "      <th></th>\n",
       "      <th></th>\n",
       "      <th></th>\n",
       "      <th></th>\n",
       "      <th></th>\n",
       "      <th></th>\n",
       "      <th></th>\n",
       "      <th></th>\n",
       "      <th></th>\n",
       "      <th></th>\n",
       "      <th></th>\n",
       "      <th></th>\n",
       "      <th></th>\n",
       "      <th></th>\n",
       "      <th></th>\n",
       "      <th></th>\n",
       "      <th></th>\n",
       "      <th></th>\n",
       "      <th></th>\n",
       "    </tr>\n",
       "  </thead>\n",
       "  <tbody>\n",
       "    <tr>\n",
       "      <th>spotify:track:7KXjTSCq5nL1LoYtL7XAwS</th>\n",
       "      <td>0.334768</td>\n",
       "      <td>0.718684</td>\n",
       "      <td>0.921273</td>\n",
       "      <td>-1.029576</td>\n",
       "      <td>0.131260</td>\n",
       "      <td>0.032448</td>\n",
       "      <td>1.018668</td>\n",
       "      <td>0.988317</td>\n",
       "      <td>0.681995</td>\n",
       "      <td>0.469804</td>\n",
       "      <td>...</td>\n",
       "      <td>-0.430112</td>\n",
       "      <td>0.545607</td>\n",
       "      <td>0.802065</td>\n",
       "      <td>-0.553993</td>\n",
       "      <td>0.064794</td>\n",
       "      <td>1.400369</td>\n",
       "      <td>0.099018</td>\n",
       "      <td>-0.832435</td>\n",
       "      <td>0.691296</td>\n",
       "      <td>-1.729296</td>\n",
       "    </tr>\n",
       "    <tr>\n",
       "      <th>spotify:track:1xznGGDReH1oQq0xzbwXa3</th>\n",
       "      <td>-0.522691</td>\n",
       "      <td>-0.186795</td>\n",
       "      <td>1.340457</td>\n",
       "      <td>-0.621320</td>\n",
       "      <td>-0.596838</td>\n",
       "      <td>2.544894</td>\n",
       "      <td>-1.448494</td>\n",
       "      <td>-0.901632</td>\n",
       "      <td>0.067435</td>\n",
       "      <td>-1.707700</td>\n",
       "      <td>...</td>\n",
       "      <td>-0.612123</td>\n",
       "      <td>0.079892</td>\n",
       "      <td>0.652344</td>\n",
       "      <td>1.331469</td>\n",
       "      <td>0.481484</td>\n",
       "      <td>0.382451</td>\n",
       "      <td>-0.460109</td>\n",
       "      <td>-2.671372</td>\n",
       "      <td>0.375307</td>\n",
       "      <td>-0.666470</td>\n",
       "    </tr>\n",
       "    <tr>\n",
       "      <th>spotify:track:7yyRTcZmCiyzzJlNzGC9Ol</th>\n",
       "      <td>-0.050175</td>\n",
       "      <td>0.167333</td>\n",
       "      <td>0.627828</td>\n",
       "      <td>-0.591404</td>\n",
       "      <td>-1.376432</td>\n",
       "      <td>-0.637984</td>\n",
       "      <td>0.833813</td>\n",
       "      <td>0.807655</td>\n",
       "      <td>1.142071</td>\n",
       "      <td>-0.772796</td>\n",
       "      <td>...</td>\n",
       "      <td>-0.940444</td>\n",
       "      <td>-0.145822</td>\n",
       "      <td>1.052762</td>\n",
       "      <td>-0.413706</td>\n",
       "      <td>1.811506</td>\n",
       "      <td>0.760894</td>\n",
       "      <td>0.384866</td>\n",
       "      <td>-1.838942</td>\n",
       "      <td>0.343360</td>\n",
       "      <td>-0.300407</td>\n",
       "    </tr>\n",
       "    <tr>\n",
       "      <th>spotify:track:7BKLCZ1jbUBVqRi2FVlTVw</th>\n",
       "      <td>0.759274</td>\n",
       "      <td>-0.500539</td>\n",
       "      <td>1.463368</td>\n",
       "      <td>-0.877516</td>\n",
       "      <td>-0.171209</td>\n",
       "      <td>1.285334</td>\n",
       "      <td>-1.235063</td>\n",
       "      <td>-0.870355</td>\n",
       "      <td>-0.306466</td>\n",
       "      <td>-0.759696</td>\n",
       "      <td>...</td>\n",
       "      <td>-0.885623</td>\n",
       "      <td>-0.006400</td>\n",
       "      <td>0.583991</td>\n",
       "      <td>1.819830</td>\n",
       "      <td>0.404222</td>\n",
       "      <td>0.351362</td>\n",
       "      <td>-0.457237</td>\n",
       "      <td>-2.388750</td>\n",
       "      <td>0.193647</td>\n",
       "      <td>-1.233183</td>\n",
       "    </tr>\n",
       "    <tr>\n",
       "      <th>spotify:track:3a1lNhkSLSkpJE4MSHpDu9</th>\n",
       "      <td>0.062699</td>\n",
       "      <td>0.551084</td>\n",
       "      <td>0.537783</td>\n",
       "      <td>0.022820</td>\n",
       "      <td>1.190486</td>\n",
       "      <td>0.281929</td>\n",
       "      <td>-0.519317</td>\n",
       "      <td>-0.424697</td>\n",
       "      <td>-0.118132</td>\n",
       "      <td>0.340949</td>\n",
       "      <td>...</td>\n",
       "      <td>-0.177784</td>\n",
       "      <td>-0.878749</td>\n",
       "      <td>0.515347</td>\n",
       "      <td>-0.070921</td>\n",
       "      <td>-0.080438</td>\n",
       "      <td>0.435203</td>\n",
       "      <td>0.349156</td>\n",
       "      <td>-0.368334</td>\n",
       "      <td>1.689326</td>\n",
       "      <td>-0.334997</td>\n",
       "    </tr>\n",
       "  </tbody>\n",
       "</table>\n",
       "<p>5 rows × 50 columns</p>\n",
       "</div>"
      ],
      "text/plain": [
       "                                            1         2         3         4   \\\n",
       "0                                                                              \n",
       "spotify:track:7KXjTSCq5nL1LoYtL7XAwS  0.334768  0.718684  0.921273 -1.029576   \n",
       "spotify:track:1xznGGDReH1oQq0xzbwXa3 -0.522691 -0.186795  1.340457 -0.621320   \n",
       "spotify:track:7yyRTcZmCiyzzJlNzGC9Ol -0.050175  0.167333  0.627828 -0.591404   \n",
       "spotify:track:7BKLCZ1jbUBVqRi2FVlTVw  0.759274 -0.500539  1.463368 -0.877516   \n",
       "spotify:track:3a1lNhkSLSkpJE4MSHpDu9  0.062699  0.551084  0.537783  0.022820   \n",
       "\n",
       "                                            5         6         7         8   \\\n",
       "0                                                                              \n",
       "spotify:track:7KXjTSCq5nL1LoYtL7XAwS  0.131260  0.032448  1.018668  0.988317   \n",
       "spotify:track:1xznGGDReH1oQq0xzbwXa3 -0.596838  2.544894 -1.448494 -0.901632   \n",
       "spotify:track:7yyRTcZmCiyzzJlNzGC9Ol -1.376432 -0.637984  0.833813  0.807655   \n",
       "spotify:track:7BKLCZ1jbUBVqRi2FVlTVw -0.171209  1.285334 -1.235063 -0.870355   \n",
       "spotify:track:3a1lNhkSLSkpJE4MSHpDu9  1.190486  0.281929 -0.519317 -0.424697   \n",
       "\n",
       "                                            9         10    ...           41  \\\n",
       "0                                                           ...                \n",
       "spotify:track:7KXjTSCq5nL1LoYtL7XAwS  0.681995  0.469804    ...    -0.430112   \n",
       "spotify:track:1xznGGDReH1oQq0xzbwXa3  0.067435 -1.707700    ...    -0.612123   \n",
       "spotify:track:7yyRTcZmCiyzzJlNzGC9Ol  1.142071 -0.772796    ...    -0.940444   \n",
       "spotify:track:7BKLCZ1jbUBVqRi2FVlTVw -0.306466 -0.759696    ...    -0.885623   \n",
       "spotify:track:3a1lNhkSLSkpJE4MSHpDu9 -0.118132  0.340949    ...    -0.177784   \n",
       "\n",
       "                                            42        43        44        45  \\\n",
       "0                                                                              \n",
       "spotify:track:7KXjTSCq5nL1LoYtL7XAwS  0.545607  0.802065 -0.553993  0.064794   \n",
       "spotify:track:1xznGGDReH1oQq0xzbwXa3  0.079892  0.652344  1.331469  0.481484   \n",
       "spotify:track:7yyRTcZmCiyzzJlNzGC9Ol -0.145822  1.052762 -0.413706  1.811506   \n",
       "spotify:track:7BKLCZ1jbUBVqRi2FVlTVw -0.006400  0.583991  1.819830  0.404222   \n",
       "spotify:track:3a1lNhkSLSkpJE4MSHpDu9 -0.878749  0.515347 -0.070921 -0.080438   \n",
       "\n",
       "                                            46        47        48        49  \\\n",
       "0                                                                              \n",
       "spotify:track:7KXjTSCq5nL1LoYtL7XAwS  1.400369  0.099018 -0.832435  0.691296   \n",
       "spotify:track:1xznGGDReH1oQq0xzbwXa3  0.382451 -0.460109 -2.671372  0.375307   \n",
       "spotify:track:7yyRTcZmCiyzzJlNzGC9Ol  0.760894  0.384866 -1.838942  0.343360   \n",
       "spotify:track:7BKLCZ1jbUBVqRi2FVlTVw  0.351362 -0.457237 -2.388750  0.193647   \n",
       "spotify:track:3a1lNhkSLSkpJE4MSHpDu9  0.435203  0.349156 -0.368334  1.689326   \n",
       "\n",
       "                                            50  \n",
       "0                                               \n",
       "spotify:track:7KXjTSCq5nL1LoYtL7XAwS -1.729296  \n",
       "spotify:track:1xznGGDReH1oQq0xzbwXa3 -0.666470  \n",
       "spotify:track:7yyRTcZmCiyzzJlNzGC9Ol -0.300407  \n",
       "spotify:track:7BKLCZ1jbUBVqRi2FVlTVw -1.233183  \n",
       "spotify:track:3a1lNhkSLSkpJE4MSHpDu9 -0.334997  \n",
       "\n",
       "[5 rows x 50 columns]"
      ]
     },
     "execution_count": 10,
     "metadata": {},
     "output_type": "execute_result"
    }
   ],
   "source": [
    "track_df.head()"
   ]
  },
  {
   "cell_type": "code",
   "execution_count": 11,
   "metadata": {},
   "outputs": [],
   "source": [
    "def get_playlist_df(playlist):\n",
    "    track_list = get_tracks(playlist)\n",
    "    track_list = track_list & set(track_df.index)\n",
    "    playlist_df = track_df.loc[list(track_list), :]\n",
    "    return playlist_df"
   ]
  },
  {
   "cell_type": "code",
   "execution_count": 12,
   "metadata": {},
   "outputs": [],
   "source": [
    "playlist_df_list = [get_playlist_df(playlist) for index, playlist in enumerate(playlist_list)]"
   ]
  },
  {
   "cell_type": "code",
   "execution_count": 24,
   "metadata": {},
   "outputs": [
    {
     "name": "stderr",
     "output_type": "stream",
     "text": [
      "/Users/Pani/Documents/ucl/project/env/lib/python3.6/site-packages/ipykernel_launcher.py:1: FutureWarning: Method .as_matrix will be removed in a future version. Use .values instead.\n",
      "  \"\"\"Entry point for launching an IPython kernel.\n"
     ]
    },
    {
     "data": {
      "text/plain": [
       "array([[ 0.418359,  0.593993, -0.54021 , ..., -0.047973, -1.287134,\n",
       "        -0.045444],\n",
       "       [ 0.125766,  0.347342,  1.201097, ...,  1.166099, -0.377932,\n",
       "        -0.273285],\n",
       "       [ 0.180973, -0.442214,  0.594084, ...,  0.928578, -1.352428,\n",
       "         0.023647],\n",
       "       ...,\n",
       "       [ 0.471043,  0.226312,  0.96303 , ..., -0.469179,  0.307986,\n",
       "        -0.655358],\n",
       "       [ 0.038751,  0.793204,  1.023835, ...,  0.301155, -0.109387,\n",
       "         0.075473],\n",
       "       [ 0.079736,  1.412692,  0.867352, ..., -0.184111, -0.569422,\n",
       "         0.843935]])"
      ]
     },
     "execution_count": 24,
     "metadata": {},
     "output_type": "execute_result"
    }
   ],
   "source": [
    "playlist_df_list[0].as_matrix()"
   ]
  },
  {
   "cell_type": "code",
   "execution_count": 227,
   "metadata": {},
   "outputs": [],
   "source": [
    "training_playlist = playlist_df_list[:10000]"
   ]
  },
  {
   "cell_type": "code",
   "execution_count": 228,
   "metadata": {},
   "outputs": [],
   "source": [
    "concat_training_playlist = pd.concat(training_playlist)"
   ]
  },
  {
   "cell_type": "code",
   "execution_count": 229,
   "metadata": {},
   "outputs": [],
   "source": [
    "def make_query_mediod(investigated_playlist, index_to_remove):\n",
    "    query = investigated_playlist.drop(investigated_playlist.index[index_to_remove])\n",
    "    query_distance_matrix = sklearn.metrics.pairwise.cosine_distances(query)\n",
    "    mediod = np.argmin(query_distance_matrix.sum(axis = 0))\n",
    "    return mediod"
   ]
  },
  {
   "cell_type": "code",
   "execution_count": 230,
   "metadata": {},
   "outputs": [],
   "source": [
    "def make_mediod_features(mediod, investigated_playlist):\n",
    "    mediod_features = investigated_playlist.iloc[mediod]\n",
    "    return mediod_features"
   ]
  },
  {
   "cell_type": "code",
   "execution_count": 231,
   "metadata": {},
   "outputs": [],
   "source": [
    "from sklearn.neighbors import NearestNeighbors\n",
    "def cal_knn(k, concat_training_playlist):\n",
    "    nbrs = NearestNeighbors(n_neighbors=k).fit(concat_training_playlist)\n",
    "    all_true_indices = []\n",
    "    all_distances = []\n",
    "    all_indices = []\n",
    "    for i in range(len(training_playlist)):\n",
    "        if len(training_playlist[i]) < 5:\n",
    "            continue\n",
    "        for j in range(len(training_playlist[i])):\n",
    "            true_indices = j\n",
    "            all_true_indices.append(true_indices)\n",
    "            mediod = make_query_mediod(training_playlist[i], j)\n",
    "            mediod_features = make_mediod_features(mediod, training_playlist[i])\n",
    "            distances, indices = nbrs.kneighbors(mediod_features.as_matrix().reshape(1,50))\n",
    "            all_distances.append(distances)\n",
    "            all_indices.append(indices)\n",
    "    return all_true_indices, all_distances, all_indices"
   ]
  },
  {
   "cell_type": "code",
   "execution_count": 232,
   "metadata": {},
   "outputs": [
    {
     "name": "stderr",
     "output_type": "stream",
     "text": [
      "/Users/Pani/Documents/ucl/project/env/lib/python3.6/site-packages/ipykernel_launcher.py:15: FutureWarning: Method .as_matrix will be removed in a future version. Use .values instead.\n",
      "  from ipykernel import kernelapp as app\n"
     ]
    }
   ],
   "source": [
    "all_true_indices, all_distances, all_indices = cal_knn(100, concat_training_playlist)"
   ]
  },
  {
   "cell_type": "code",
   "execution_count": 223,
   "metadata": {},
   "outputs": [],
   "source": [
    "# import pdb\n",
    "# pdb.pm()"
   ]
  },
  {
   "cell_type": "code",
   "execution_count": 233,
   "metadata": {},
   "outputs": [],
   "source": [
    "def cal_ave_precision(k, all_true_indices, all_indices):\n",
    "    sum_precision = 0.0\n",
    "    for i in range(len(all_true_indices)):\n",
    "        precision = float(all_true_indices[i] in all_indices[i][0, :k])\n",
    "        sum_precision += precision\n",
    "    average_precision = sum_precision / len(all_true_indices)\n",
    "    return average_precision"
   ]
  },
  {
   "cell_type": "code",
   "execution_count": 234,
   "metadata": {},
   "outputs": [
    {
     "name": "stdout",
     "output_type": "stream",
     "text": [
      "1 0.0\n",
      "5 0.00254133757857725\n",
      "10 0.003993530480621394\n",
      "20 0.005264199269910019\n"
     ]
    }
   ],
   "source": [
    "for k in [1,5,10,20]:\n",
    "    print(k, 100* cal_ave_precision(k, all_true_indices, all_indices))"
   ]
  }
 ],
 "metadata": {
  "kernelspec": {
   "display_name": "Python 3",
   "language": "python",
   "name": "python3"
  },
  "language_info": {
   "codemirror_mode": {
    "name": "ipython",
    "version": 3
   },
   "file_extension": ".py",
   "mimetype": "text/x-python",
   "name": "python",
   "nbconvert_exporter": "python",
   "pygments_lexer": "ipython3",
   "version": "3.6.5"
  }
 },
 "nbformat": 4,
 "nbformat_minor": 2
}
