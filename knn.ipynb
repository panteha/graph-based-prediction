{
 "cells": [
  {
   "cell_type": "code",
   "execution_count": null,
   "metadata": {},
   "outputs": [],
   "source": [
    "import json\n",
    "import os\n",
    "import numpy as np\n",
    "import sklearn\n",
    "import sklearn.metrics\n",
    "import seaborn as sns\n",
    "import matplotlib.pyplot as plt\n",
    "import pandas as pd\n",
    "import networkx as nx\n",
    "import datetime\n",
    "import playlist\n",
    "reload(playlist)"
   ]
  },
  {
   "cell_type": "code",
   "execution_count": null,
   "metadata": {},
   "outputs": [],
   "source": [
    "playlist_list = playlist.get_playlist_list()"
   ]
  },
  {
   "cell_type": "code",
   "execution_count": null,
   "metadata": {},
   "outputs": [],
   "source": [
    "import sys\n",
    "sys.getsizeof(all_playlists)"
   ]
  },
  {
   "cell_type": "code",
   "execution_count": null,
   "metadata": {},
   "outputs": [],
   "source": [
    "def get_tracks(playlist):\n",
    "    track_list = set([])\n",
    "    for i in range(playlist['num_tracks']):\n",
    "        track_list.add(playlist['tracks'][i]['track_uri'])\n",
    "    return track_list"
   ]
  },
  {
   "cell_type": "code",
   "execution_count": null,
   "metadata": {},
   "outputs": [],
   "source": [
    "with open(\"track_uri.txt\", \"w\") as text_file:\n",
    "    for i in range(len(playlist_list)):\n",
    "        for item in get_tracks(playlist_list[i]):\n",
    "            text_file.write(\"%s \" % item)\n",
    "        text_file.write(\"\\n\")\n"
   ]
  },
  {
   "cell_type": "code",
   "execution_count": null,
   "metadata": {},
   "outputs": [],
   "source": [
    "track_df=pd.read_csv(\"GloVe/vectors.txt\",header=None, sep=' ')\n",
    "track_df = track_df.set_index(0)\n",
    "track_df.columns"
   ]
  },
  {
   "cell_type": "code",
   "execution_count": null,
   "metadata": {},
   "outputs": [],
   "source": [
    "track_df.shape"
   ]
  },
  {
   "cell_type": "code",
   "execution_count": null,
   "metadata": {},
   "outputs": [],
   "source": [
    "track_df.head()"
   ]
  },
  {
   "cell_type": "code",
   "execution_count": null,
   "metadata": {},
   "outputs": [],
   "source": [
    "def get_playlist_df(playlist):\n",
    "    track_list = get_tracks(playlist)\n",
    "    track_list = track_list & set(track_df.index)\n",
    "    playlist_df = track_df.loc[list(track_list), :]\n",
    "    return playlist_df"
   ]
  },
  {
   "cell_type": "code",
   "execution_count": null,
   "metadata": {},
   "outputs": [],
   "source": [
    "playlist_df_list = [get_playlist_df(playlist) for index, playlist in enumerate(playlist_list)]"
   ]
  },
  {
   "cell_type": "code",
   "execution_count": null,
   "metadata": {},
   "outputs": [],
   "source": [
    "playlist_df_list[0].as_matrix()"
   ]
  },
  {
   "cell_type": "code",
   "execution_count": null,
   "metadata": {},
   "outputs": [],
   "source": [
    "training_playlist = playlist_df_list[:10000]"
   ]
  },
  {
   "cell_type": "code",
   "execution_count": null,
   "metadata": {},
   "outputs": [],
   "source": [
    "concat_training_playlist = pd.concat(training_playlist)"
   ]
  },
  {
   "cell_type": "code",
   "execution_count": null,
   "metadata": {},
   "outputs": [],
   "source": [
    "def make_query_mediod(investigated_playlist, index_to_remove):\n",
    "    query = investigated_playlist.drop(investigated_playlist.index[index_to_remove])\n",
    "    query_distance_matrix = sklearn.metrics.pairwise.cosine_distances(query)\n",
    "    mediod = np.argmin(query_distance_matrix.sum(axis = 0))\n",
    "    return mediod"
   ]
  },
  {
   "cell_type": "code",
   "execution_count": null,
   "metadata": {},
   "outputs": [],
   "source": [
    "def make_mediod_features(mediod, investigated_playlist):\n",
    "    mediod_features = investigated_playlist.iloc[mediod]\n",
    "    return mediod_features"
   ]
  },
  {
   "cell_type": "code",
   "execution_count": null,
   "metadata": {},
   "outputs": [],
   "source": [
    "from sklearn.neighbors import NearestNeighbors\n",
    "def cal_knn(k, concat_training_playlist):\n",
    "    nbrs = NearestNeighbors(n_neighbors=k).fit(concat_training_playlist)\n",
    "    all_true_indices = []\n",
    "    all_distances = []\n",
    "    all_indices = []\n",
    "    for i in range(len(training_playlist)):\n",
    "        if len(training_playlist[i]) < 5:\n",
    "            continue\n",
    "        for j in range(len(training_playlist[i])):\n",
    "            true_indices = j\n",
    "            all_true_indices.append(true_indices)\n",
    "            mediod = make_query_mediod(training_playlist[i], j)\n",
    "            mediod_features = make_mediod_features(mediod, training_playlist[i])\n",
    "            distances, indices = nbrs.kneighbors(mediod_features.as_matrix().reshape(1,50))\n",
    "            all_distances.append(distances)\n",
    "            all_indices.append(indices)\n",
    "    return all_true_indices, all_distances, all_indices"
   ]
  },
  {
   "cell_type": "code",
   "execution_count": null,
   "metadata": {},
   "outputs": [],
   "source": [
    "all_true_indices, all_distances, all_indices = cal_knn(100, concat_training_playlist)"
   ]
  },
  {
   "cell_type": "code",
   "execution_count": null,
   "metadata": {},
   "outputs": [],
   "source": [
    "# import pdb\n",
    "# pdb.pm()"
   ]
  },
  {
   "cell_type": "code",
   "execution_count": null,
   "metadata": {},
   "outputs": [],
   "source": [
    "def cal_ave_precision(k, all_true_indices, all_indices):\n",
    "    sum_precision = 0.0\n",
    "    for i in range(len(all_true_indices)):\n",
    "        precision = float(all_true_indices[i] in all_indices[i][0, :k])\n",
    "        sum_precision += precision\n",
    "    average_precision = sum_precision / len(all_true_indices)\n",
    "    return average_precision"
   ]
  },
  {
   "cell_type": "code",
   "execution_count": null,
   "metadata": {},
   "outputs": [],
   "source": [
    "for k in [1,5,10,20]:\n",
    "    print(k, 100* cal_ave_precision(k, all_true_indices, all_indices))"
   ]
  }
 ],
 "metadata": {
  "kernelspec": {
   "display_name": "Python 2",
   "language": "python",
   "name": "python2"
  },
  "language_info": {
   "codemirror_mode": {
    "name": "ipython",
    "version": 2
   },
   "file_extension": ".py",
   "mimetype": "text/x-python",
   "name": "python",
   "nbconvert_exporter": "python",
   "pygments_lexer": "ipython2",
   "version": "2.7.13"
  }
 },
 "nbformat": 4,
 "nbformat_minor": 2
}
